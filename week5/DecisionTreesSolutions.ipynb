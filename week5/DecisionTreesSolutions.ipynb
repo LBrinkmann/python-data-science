{
 "cells": [
  {
   "cell_type": "markdown",
   "metadata": {},
   "source": [
    "### Load the data\n",
    "https://www.kaggle.com/c/bike-sharing-demand\n",
    "We only need train.csv"
   ]
  },
  {
   "cell_type": "markdown",
   "metadata": {},
   "source": [
    "### Further Reading\n",
    "https://www.analyticsvidhya.com/blog/2016/04/complete-tutorial-tree-based-modeling-scratch-in-python/"
   ]
  },
  {
   "cell_type": "markdown",
   "metadata": {},
   "source": [
    "### Setup\n",
    "~~~~\n",
    "pip install graphviz\n",
    "sudo apt-get install graphviz\n",
    "~~~~"
   ]
  },
  {
   "cell_type": "code",
   "execution_count": 1,
   "metadata": {},
   "outputs": [],
   "source": [
    "from sklearn import tree\n",
    "import matplotlib.pyplot as plt\n",
    "import numpy as np\n",
    "import pandas as pd\n",
    "import seaborn as sns\n",
    "import graphviz \n",
    "from sklearn.model_selection import train_test_split\n",
    "from sklearn.metrics import r2_score"
   ]
  },
  {
   "cell_type": "code",
   "execution_count": 2,
   "metadata": {},
   "outputs": [],
   "source": [
    "df = pd.read_csv('data/train.csv')"
   ]
  },
  {
   "cell_type": "markdown",
   "metadata": {},
   "source": [
    "Show first rows of dataframe"
   ]
  },
  {
   "cell_type": "code",
   "execution_count": 3,
   "metadata": {},
   "outputs": [
    {
     "data": {
      "text/html": [
       "<div>\n",
       "<style scoped>\n",
       "    .dataframe tbody tr th:only-of-type {\n",
       "        vertical-align: middle;\n",
       "    }\n",
       "\n",
       "    .dataframe tbody tr th {\n",
       "        vertical-align: top;\n",
       "    }\n",
       "\n",
       "    .dataframe thead th {\n",
       "        text-align: right;\n",
       "    }\n",
       "</style>\n",
       "<table border=\"1\" class=\"dataframe\">\n",
       "  <thead>\n",
       "    <tr style=\"text-align: right;\">\n",
       "      <th></th>\n",
       "      <th>datetime</th>\n",
       "      <th>season</th>\n",
       "      <th>holiday</th>\n",
       "      <th>workingday</th>\n",
       "      <th>weather</th>\n",
       "      <th>temp</th>\n",
       "      <th>atemp</th>\n",
       "      <th>humidity</th>\n",
       "      <th>windspeed</th>\n",
       "      <th>casual</th>\n",
       "      <th>registered</th>\n",
       "      <th>count</th>\n",
       "    </tr>\n",
       "  </thead>\n",
       "  <tbody>\n",
       "    <tr>\n",
       "      <th>0</th>\n",
       "      <td>2011-01-01 00:00:00</td>\n",
       "      <td>1</td>\n",
       "      <td>0</td>\n",
       "      <td>0</td>\n",
       "      <td>1</td>\n",
       "      <td>9.84</td>\n",
       "      <td>14.395</td>\n",
       "      <td>81</td>\n",
       "      <td>0.0</td>\n",
       "      <td>3</td>\n",
       "      <td>13</td>\n",
       "      <td>16</td>\n",
       "    </tr>\n",
       "    <tr>\n",
       "      <th>1</th>\n",
       "      <td>2011-01-01 01:00:00</td>\n",
       "      <td>1</td>\n",
       "      <td>0</td>\n",
       "      <td>0</td>\n",
       "      <td>1</td>\n",
       "      <td>9.02</td>\n",
       "      <td>13.635</td>\n",
       "      <td>80</td>\n",
       "      <td>0.0</td>\n",
       "      <td>8</td>\n",
       "      <td>32</td>\n",
       "      <td>40</td>\n",
       "    </tr>\n",
       "    <tr>\n",
       "      <th>2</th>\n",
       "      <td>2011-01-01 02:00:00</td>\n",
       "      <td>1</td>\n",
       "      <td>0</td>\n",
       "      <td>0</td>\n",
       "      <td>1</td>\n",
       "      <td>9.02</td>\n",
       "      <td>13.635</td>\n",
       "      <td>80</td>\n",
       "      <td>0.0</td>\n",
       "      <td>5</td>\n",
       "      <td>27</td>\n",
       "      <td>32</td>\n",
       "    </tr>\n",
       "    <tr>\n",
       "      <th>3</th>\n",
       "      <td>2011-01-01 03:00:00</td>\n",
       "      <td>1</td>\n",
       "      <td>0</td>\n",
       "      <td>0</td>\n",
       "      <td>1</td>\n",
       "      <td>9.84</td>\n",
       "      <td>14.395</td>\n",
       "      <td>75</td>\n",
       "      <td>0.0</td>\n",
       "      <td>3</td>\n",
       "      <td>10</td>\n",
       "      <td>13</td>\n",
       "    </tr>\n",
       "    <tr>\n",
       "      <th>4</th>\n",
       "      <td>2011-01-01 04:00:00</td>\n",
       "      <td>1</td>\n",
       "      <td>0</td>\n",
       "      <td>0</td>\n",
       "      <td>1</td>\n",
       "      <td>9.84</td>\n",
       "      <td>14.395</td>\n",
       "      <td>75</td>\n",
       "      <td>0.0</td>\n",
       "      <td>0</td>\n",
       "      <td>1</td>\n",
       "      <td>1</td>\n",
       "    </tr>\n",
       "  </tbody>\n",
       "</table>\n",
       "</div>"
      ],
      "text/plain": [
       "              datetime  season  holiday  workingday  weather  temp   atemp  \\\n",
       "0  2011-01-01 00:00:00       1        0           0        1  9.84  14.395   \n",
       "1  2011-01-01 01:00:00       1        0           0        1  9.02  13.635   \n",
       "2  2011-01-01 02:00:00       1        0           0        1  9.02  13.635   \n",
       "3  2011-01-01 03:00:00       1        0           0        1  9.84  14.395   \n",
       "4  2011-01-01 04:00:00       1        0           0        1  9.84  14.395   \n",
       "\n",
       "   humidity  windspeed  casual  registered  count  \n",
       "0        81        0.0       3          13     16  \n",
       "1        80        0.0       8          32     40  \n",
       "2        80        0.0       5          27     32  \n",
       "3        75        0.0       3          10     13  \n",
       "4        75        0.0       0           1      1  "
      ]
     },
     "execution_count": 3,
     "metadata": {},
     "output_type": "execute_result"
    }
   ],
   "source": [
    "df.head()"
   ]
  },
  {
   "cell_type": "markdown",
   "metadata": {},
   "source": [
    "Plot distribution of \"count\""
   ]
  },
  {
   "cell_type": "code",
   "execution_count": 4,
   "metadata": {},
   "outputs": [
    {
     "data": {
      "text/plain": [
       "<matplotlib.axes._subplots.AxesSubplot at 0x116cdf7f0>"
      ]
     },
     "execution_count": 4,
     "metadata": {},
     "output_type": "execute_result"
    },
    {
     "data": {
      "image/png": "[encoded data removed]",
      "text/plain": [
       "<matplotlib.figure.Figure at 0x116cdfcf8>"
      ]
     },
     "metadata": {},
     "output_type": "display_data"
    }
   ],
   "source": [
    "sns.distplot(df['count'])"
   ]
  },
  {
   "cell_type": "markdown",
   "metadata": {},
   "source": [
    "Select numeric datafields for X, but not the last three columns.\n",
    "Select 'count' for y."
   ]
  },
  {
   "cell_type": "code",
   "execution_count": 5,
   "metadata": {},
   "outputs": [],
   "source": [
    "f_numeric = ['season', 'holiday', 'workingday', 'weather', 'temp','atemp', 'humidity', 'windspeed']\n",
    "target = ['count']\n",
    "X = df[f_numeric]\n",
    "y = df['count']"
   ]
  },
  {
   "cell_type": "markdown",
   "metadata": {},
   "source": [
    "Create test and training set."
   ]
  },
  {
   "cell_type": "code",
   "execution_count": 6,
   "metadata": {},
   "outputs": [],
   "source": [
    "X_train, X_test, y_train, y_test = train_test_split(X, y, test_size=0.2, random_state=42)"
   ]
  },
  {
   "cell_type": "markdown",
   "metadata": {},
   "source": [
    "Train a DecisionTreeRegressor."
   ]
  },
  {
   "cell_type": "code",
   "execution_count": 13,
   "metadata": {},
   "outputs": [],
   "source": [
    "clf = tree.DecisionTreeRegressor(max_depth=2)\n",
    "clf = clf.fit(X_train, y_train)"
   ]
  },
  {
   "cell_type": "markdown",
   "metadata": {},
   "source": [
    "Predict the training set."
   ]
  },
  {
   "cell_type": "code",
   "execution_count": 14,
   "metadata": {},
   "outputs": [],
   "source": [
    "y_train_pred = clf.predict(X_train)"
   ]
  },
  {
   "cell_type": "markdown",
   "metadata": {},
   "source": [
    "Predict the test set."
   ]
  },
  {
   "cell_type": "code",
   "execution_count": 15,
   "metadata": {},
   "outputs": [],
   "source": [
    "y_test_pred = clf.predict(X_test)"
   ]
  },
  {
   "cell_type": "markdown",
   "metadata": {},
   "source": [
    "Calculate the r2 score for the training set."
   ]
  },
  {
   "cell_type": "code",
   "execution_count": 16,
   "metadata": {},
   "outputs": [
    {
     "data": {
      "text/plain": [
       "0.19378482850392864"
      ]
     },
     "execution_count": 16,
     "metadata": {},
     "output_type": "execute_result"
    }
   ],
   "source": [
    "r2_score(y_train, y_train_pred, multioutput='variance_weighted')"
   ]
  },
  {
   "cell_type": "markdown",
   "metadata": {},
   "source": [
    "Calculate the r2 score for the test set."
   ]
  },
  {
   "cell_type": "code",
   "execution_count": 17,
   "metadata": {},
   "outputs": [
    {
     "data": {
      "text/plain": [
       "0.21012600287875072"
      ]
     },
     "execution_count": 17,
     "metadata": {},
     "output_type": "execute_result"
    }
   ],
   "source": [
    "r2_score(y_test, y_test_pred, multioutput='variance_weighted')"
   ]
  },
  {
   "cell_type": "code",
   "execution_count": 18,
   "metadata": {},
   "outputs": [
    {
     "data": {
      "image/svg+xml": [
       "<?xml version=\"1.0\" encoding=\"UTF-8\" standalone=\"no\"?>\n",
       "<!DOCTYPE svg PUBLIC \"-//W3C//DTD SVG 1.1//EN\"\n",
       " \"http://www.w3.org/Graphics/SVG/1.1/DTD/svg11.dtd\">\n",
       "<!-- Generated by graphviz version 2.40.1 (20161225.0304)\n",
       " -->\n",
       "<!-- Title: Tree Pages: 1 -->\n",
       "<svg width=\"558pt\" height=\"258pt\"\n",
       " viewBox=\"0.00 0.00 558.07 258.00\" xmlns=\"http://www.w3.org/2000/svg\" xmlns:xlink=\"http://www.w3.org/1999/xlink\">\n",
       "<g id=\"graph0\" class=\"graph\" transform=\"scale(1 1) rotate(0) translate(4 254)\">\n",
       "<title>Tree</title>\n",
       "<polygon fill=\"#ffffff\" stroke=\"transparent\" points=\"-4,4 -4,-254 554.0659,-254 554.0659,4 -4,4\"/>\n",
       "<!-- 0 -->\n",
       "<g id=\"node1\" class=\"node\">\n",
       "<title>0</title>\n",
       "<path fill=\"#e58139\" fill-opacity=\"0.384314\" stroke=\"#000000\" d=\"M323.3255,-250C323.3255,-250 224.2243,-250 224.2243,-250 218.2243,-250 212.2243,-244 212.2243,-238 212.2243,-238 212.2243,-198 212.2243,-198 212.2243,-192 218.2243,-186 224.2243,-186 224.2243,-186 323.3255,-186 323.3255,-186 329.3255,-186 335.3255,-192 335.3255,-198 335.3255,-198 335.3255,-238 335.3255,-238 335.3255,-244 329.3255,-250 323.3255,-250\"/>\n",
       "<text text-anchor=\"start\" x=\"225.1782\" y=\"-234.8\" font-family=\"Helvetica,sans-Serif\" font-size=\"14.00\" fill=\"#000000\">atemp ≤ 30.682</text>\n",
       "<text text-anchor=\"start\" x=\"220\" y=\"-220.8\" font-family=\"Helvetica,sans-Serif\" font-size=\"14.00\" fill=\"#000000\">mse = 32761.116</text>\n",
       "<text text-anchor=\"start\" x=\"224.1597\" y=\"-206.8\" font-family=\"Helvetica,sans-Serif\" font-size=\"14.00\" fill=\"#000000\">samples = 8708</text>\n",
       "<text text-anchor=\"start\" x=\"223.7598\" y=\"-192.8\" font-family=\"Helvetica,sans-Serif\" font-size=\"14.00\" fill=\"#000000\">value = 191.585</text>\n",
       "</g>\n",
       "<!-- 1 -->\n",
       "<g id=\"node2\" class=\"node\">\n",
       "<title>1</title>\n",
       "<path fill=\"#e58139\" fill-opacity=\"0.239216\" stroke=\"#000000\" d=\"M252.8576,-150C252.8576,-150 152.6922,-150 152.6922,-150 146.6922,-150 140.6922,-144 140.6922,-138 140.6922,-138 140.6922,-98 140.6922,-98 140.6922,-92 146.6922,-86 152.6922,-86 152.6922,-86 252.8576,-86 252.8576,-86 258.8576,-86 264.8576,-92 264.8576,-98 264.8576,-98 264.8576,-138 264.8576,-138 264.8576,-144 258.8576,-150 252.8576,-150\"/>\n",
       "<text text-anchor=\"start\" x=\"161.9644\" y=\"-134.8\" font-family=\"Helvetica,sans-Serif\" font-size=\"14.00\" fill=\"#000000\">temp ≤ 12.71</text>\n",
       "<text text-anchor=\"start\" x=\"148.4839\" y=\"-120.8\" font-family=\"Helvetica,sans-Serif\" font-size=\"14.00\" fill=\"#000000\">mse = 24338.619</text>\n",
       "<text text-anchor=\"start\" x=\"153.1597\" y=\"-106.8\" font-family=\"Helvetica,sans-Serif\" font-size=\"14.00\" fill=\"#000000\">samples = 6380</text>\n",
       "<text text-anchor=\"start\" x=\"152.7598\" y=\"-92.8\" font-family=\"Helvetica,sans-Serif\" font-size=\"14.00\" fill=\"#000000\">value = 152.245</text>\n",
       "</g>\n",
       "<!-- 0&#45;&gt;1 -->\n",
       "<g id=\"edge1\" class=\"edge\">\n",
       "<title>0&#45;&gt;1</title>\n",
       "<path fill=\"none\" stroke=\"#000000\" d=\"M250.9192,-185.8089C244.7118,-177.0661 237.9111,-167.4876 231.4272,-158.3553\"/>\n",
       "<polygon fill=\"#000000\" stroke=\"#000000\" points=\"234.2308,-156.2584 225.5877,-150.1308 228.5232,-160.3108 234.2308,-156.2584\"/>\n",
       "<text text-anchor=\"middle\" x=\"221.4077\" y=\"-170.5788\" font-family=\"Helvetica,sans-Serif\" font-size=\"14.00\" fill=\"#000000\">True</text>\n",
       "</g>\n",
       "<!-- 4 -->\n",
       "<g id=\"node5\" class=\"node\">\n",
       "<title>4</title>\n",
       "<path fill=\"#e58139\" fill-opacity=\"0.792157\" stroke=\"#000000\" d=\"M395.8576,-150C395.8576,-150 295.6922,-150 295.6922,-150 289.6922,-150 283.6922,-144 283.6922,-138 283.6922,-138 283.6922,-98 283.6922,-98 283.6922,-92 289.6922,-86 295.6922,-86 295.6922,-86 395.8576,-86 395.8576,-86 401.8576,-86 407.8576,-92 407.8576,-98 407.8576,-98 407.8576,-138 407.8576,-138 407.8576,-144 401.8576,-150 395.8576,-150\"/>\n",
       "<text text-anchor=\"start\" x=\"298.354\" y=\"-134.8\" font-family=\"Helvetica,sans-Serif\" font-size=\"14.00\" fill=\"#000000\">humidity ≤ 55.5</text>\n",
       "<text text-anchor=\"start\" x=\"291.4839\" y=\"-120.8\" font-family=\"Helvetica,sans-Serif\" font-size=\"14.00\" fill=\"#000000\">mse = 39978.514</text>\n",
       "<text text-anchor=\"start\" x=\"296.1597\" y=\"-106.8\" font-family=\"Helvetica,sans-Serif\" font-size=\"14.00\" fill=\"#000000\">samples = 2328</text>\n",
       "<text text-anchor=\"start\" x=\"295.7598\" y=\"-92.8\" font-family=\"Helvetica,sans-Serif\" font-size=\"14.00\" fill=\"#000000\">value = 299.397</text>\n",
       "</g>\n",
       "<!-- 0&#45;&gt;4 -->\n",
       "<g id=\"edge4\" class=\"edge\">\n",
       "<title>0&#45;&gt;4</title>\n",
       "<path fill=\"none\" stroke=\"#000000\" d=\"M296.9525,-185.8089C303.2473,-177.0661 310.1438,-167.4876 316.7191,-158.3553\"/>\n",
       "<polygon fill=\"#000000\" stroke=\"#000000\" points=\"319.638,-160.2912 322.6408,-150.1308 313.9573,-156.201 319.638,-160.2912\"/>\n",
       "<text text-anchor=\"middle\" x=\"326.6576\" y=\"-170.6059\" font-family=\"Helvetica,sans-Serif\" font-size=\"14.00\" fill=\"#000000\">False</text>\n",
       "</g>\n",
       "<!-- 2 -->\n",
       "<g id=\"node3\" class=\"node\">\n",
       "<title>2</title>\n",
       "<path fill=\"transparent\" stroke=\"#000000\" d=\"M111.3255,-50C111.3255,-50 12.2243,-50 12.2243,-50 6.2243,-50 .2243,-44 .2243,-38 .2243,-38 .2243,-12 .2243,-12 .2243,-6 6.2243,0 12.2243,0 12.2243,0 111.3255,0 111.3255,0 117.3255,0 123.3255,-6 123.3255,-12 123.3255,-12 123.3255,-38 123.3255,-38 123.3255,-44 117.3255,-50 111.3255,-50\"/>\n",
       "<text text-anchor=\"start\" x=\"8\" y=\"-34.8\" font-family=\"Helvetica,sans-Serif\" font-size=\"14.00\" fill=\"#000000\">mse = 11317.372</text>\n",
       "<text text-anchor=\"start\" x=\"12.1597\" y=\"-20.8\" font-family=\"Helvetica,sans-Serif\" font-size=\"14.00\" fill=\"#000000\">samples = 1713</text>\n",
       "<text text-anchor=\"start\" x=\"15.6528\" y=\"-6.8\" font-family=\"Helvetica,sans-Serif\" font-size=\"14.00\" fill=\"#000000\">value = 89.232</text>\n",
       "</g>\n",
       "<!-- 1&#45;&gt;2 -->\n",
       "<g id=\"edge2\" class=\"edge\">\n",
       "<title>1&#45;&gt;2</title>\n",
       "<path fill=\"none\" stroke=\"#000000\" d=\"M154.2507,-85.9947C139.3342,-76.1562 122.9594,-65.3558 108.1881,-55.613\"/>\n",
       "<polygon fill=\"#000000\" stroke=\"#000000\" points=\"109.9742,-52.5983 99.6994,-50.014 106.12,-58.4417 109.9742,-52.5983\"/>\n",
       "</g>\n",
       "<!-- 3 -->\n",
       "<g id=\"node4\" class=\"node\">\n",
       "<title>3</title>\n",
       "<path fill=\"#e58139\" fill-opacity=\"0.325490\" stroke=\"#000000\" d=\"M253.8576,-50C253.8576,-50 153.6922,-50 153.6922,-50 147.6922,-50 141.6922,-44 141.6922,-38 141.6922,-38 141.6922,-12 141.6922,-12 141.6922,-6 147.6922,0 153.6922,0 153.6922,0 253.8576,0 253.8576,0 259.8576,0 265.8576,-6 265.8576,-12 265.8576,-12 265.8576,-38 265.8576,-38 265.8576,-44 259.8576,-50 253.8576,-50\"/>\n",
       "<text text-anchor=\"start\" x=\"149.4839\" y=\"-34.8\" font-family=\"Helvetica,sans-Serif\" font-size=\"14.00\" fill=\"#000000\">mse = 27125.691</text>\n",
       "<text text-anchor=\"start\" x=\"154.1597\" y=\"-20.8\" font-family=\"Helvetica,sans-Serif\" font-size=\"14.00\" fill=\"#000000\">samples = 4667</text>\n",
       "<text text-anchor=\"start\" x=\"153.7598\" y=\"-6.8\" font-family=\"Helvetica,sans-Serif\" font-size=\"14.00\" fill=\"#000000\">value = 175.373</text>\n",
       "</g>\n",
       "<!-- 1&#45;&gt;3 -->\n",
       "<g id=\"edge3\" class=\"edge\">\n",
       "<title>1&#45;&gt;3</title>\n",
       "<path fill=\"none\" stroke=\"#000000\" d=\"M203.119,-85.9947C203.209,-77.6273 203.3065,-68.5643 203.398,-60.0478\"/>\n",
       "<polygon fill=\"#000000\" stroke=\"#000000\" points=\"206.8981,-60.0511 203.5059,-50.014 199.8985,-59.9758 206.8981,-60.0511\"/>\n",
       "</g>\n",
       "<!-- 5 -->\n",
       "<g id=\"node6\" class=\"node\">\n",
       "<title>5</title>\n",
       "<path fill=\"#e58139\" stroke=\"#000000\" d=\"M395.3255,-50C395.3255,-50 296.2243,-50 296.2243,-50 290.2243,-50 284.2243,-44 284.2243,-38 284.2243,-38 284.2243,-12 284.2243,-12 284.2243,-6 290.2243,0 296.2243,0 296.2243,0 395.3255,0 395.3255,0 401.3255,0 407.3255,-6 407.3255,-12 407.3255,-12 407.3255,-38 407.3255,-38 407.3255,-44 401.3255,-50 395.3255,-50\"/>\n",
       "<text text-anchor=\"start\" x=\"292\" y=\"-34.8\" font-family=\"Helvetica,sans-Serif\" font-size=\"14.00\" fill=\"#000000\">mse = 36826.611</text>\n",
       "<text text-anchor=\"start\" x=\"296.1597\" y=\"-20.8\" font-family=\"Helvetica,sans-Serif\" font-size=\"14.00\" fill=\"#000000\">samples = 1309</text>\n",
       "<text text-anchor=\"start\" x=\"295.7598\" y=\"-6.8\" font-family=\"Helvetica,sans-Serif\" font-size=\"14.00\" fill=\"#000000\">value = 354.415</text>\n",
       "</g>\n",
       "<!-- 4&#45;&gt;5 -->\n",
       "<g id=\"edge5\" class=\"edge\">\n",
       "<title>4&#45;&gt;5</title>\n",
       "<path fill=\"none\" stroke=\"#000000\" d=\"M345.7749,-85.9947C345.7749,-77.6273 345.7749,-68.5643 345.7749,-60.0478\"/>\n",
       "<polygon fill=\"#000000\" stroke=\"#000000\" points=\"349.275,-60.014 345.7749,-50.014 342.275,-60.0141 349.275,-60.014\"/>\n",
       "</g>\n",
       "<!-- 6 -->\n",
       "<g id=\"node7\" class=\"node\">\n",
       "<title>6</title>\n",
       "<path fill=\"#e58139\" fill-opacity=\"0.525490\" stroke=\"#000000\" d=\"M537.8576,-50C537.8576,-50 437.6922,-50 437.6922,-50 431.6922,-50 425.6922,-44 425.6922,-38 425.6922,-38 425.6922,-12 425.6922,-12 425.6922,-6 431.6922,0 437.6922,0 437.6922,0 537.8576,0 537.8576,0 543.8576,0 549.8576,-6 549.8576,-12 549.8576,-12 549.8576,-38 549.8576,-38 549.8576,-44 543.8576,-50 537.8576,-50\"/>\n",
       "<text text-anchor=\"start\" x=\"433.4839\" y=\"-34.8\" font-family=\"Helvetica,sans-Serif\" font-size=\"14.00\" fill=\"#000000\">mse = 35144.099</text>\n",
       "<text text-anchor=\"start\" x=\"438.1597\" y=\"-20.8\" font-family=\"Helvetica,sans-Serif\" font-size=\"14.00\" fill=\"#000000\">samples = 1019</text>\n",
       "<text text-anchor=\"start\" x=\"437.7598\" y=\"-6.8\" font-family=\"Helvetica,sans-Serif\" font-size=\"14.00\" fill=\"#000000\">value = 228.722</text>\n",
       "</g>\n",
       "<!-- 4&#45;&gt;6 -->\n",
       "<g id=\"edge6\" class=\"edge\">\n",
       "<title>4&#45;&gt;6</title>\n",
       "<path fill=\"none\" stroke=\"#000000\" d=\"M394.6432,-85.9947C409.6655,-76.1562 426.1564,-65.3558 441.0325,-55.613\"/>\n",
       "<polygon fill=\"#000000\" stroke=\"#000000\" points=\"443.1335,-58.4209 449.5814,-50.014 439.2983,-52.565 443.1335,-58.4209\"/>\n",
       "</g>\n",
       "</g>\n",
       "</svg>\n"
      ],
      "text/plain": [
       "<graphviz.files.Source at 0x11681c550>"
      ]
     },
     "execution_count": 18,
     "metadata": {},
     "output_type": "execute_result"
    }
   ],
   "source": [
    "dot_data = tree.export_graphviz(clf, out_file=None, \n",
    "                         feature_names=f_numeric,  \n",
    "                         class_names=clf.classes_,  \n",
    "                         filled=True, rounded=True,  \n",
    "                         special_characters=True)  \n",
    "graph = graphviz.Source(dot_data)  \n",
    "graph"
   ]
  },
  {
   "cell_type": "markdown",
   "metadata": {},
   "source": [
    "#### Homework\n",
    "* Do the calculation with different max_depth. \n",
    "* Plot the performance for different max_depth: Insample (training), Out-of-sample (test)\n",
    "* Add features from datetime.\n",
    "  * Time\n",
    "  * Day of the week\n",
    "  * ...\n",
    "* Compare with linear regression."
   ]
  },
  {
   "cell_type": "code",
   "execution_count": null,
   "metadata": {},
   "outputs": [],
   "source": []
  }
 ],
 "metadata": {
  "kernelspec": {
   "display_name": "Python 3",
   "language": "python",
   "name": "python3"
  },
  "language_info": {
   "codemirror_mode": {
    "name": "ipython",
    "version": 3
   },
   "file_extension": ".py",
   "mimetype": "text/x-python",
   "name": "python",
   "nbconvert_exporter": "python",
   "pygments_lexer": "ipython3",
   "version": "3.6.4"
  }
 },
 "nbformat": 4,
 "nbformat_minor": 2
}
