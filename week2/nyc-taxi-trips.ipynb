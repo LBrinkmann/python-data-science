{
 "cells": [
  {
   "cell_type": "markdown",
   "metadata": {
    "_cell_guid": "90809e9c-4260-4176-9755-c8ffe895200c",
    "_uuid": "63e66d89f579c8c62e03817e1deef53670596298"
   },
   "source": [
    "# The TLC trip record data\n",
    "\n",
    "<img align=\"left\" src=\"files/tlc.png\">"
   ]
  },
  {
   "cell_type": "markdown",
   "metadata": {
    "_cell_guid": "6e0fc577-af9f-4c9e-bbda-52ec1bc4e8fa",
    "_uuid": "a6dd33a3cb72a3f91d244ad657f5a10aa6df5d22"
   },
   "source": [
    "Data source: http://www.nyc.gov/html/tlc/html/about/trip_record_data.shtml  \n",
    "\n",
    "This notebook heavily borrows from https://www.kaggle.com/kartikkannapur/nyc-taxi-trips-exploratory-data-analysis/  "
   ]
  },
  {
   "cell_type": "markdown",
   "metadata": {},
   "source": [
    "## Contents:\n",
    "\n",
    "1. [Data Set - Overview](#1.-Data-Set-Overview)\n",
    "2. [Missing Values](#2.-Missing-Values)\n",
    "3. [Data Exploration](#3.-Data-Exploration)"
   ]
  },
  {
   "cell_type": "markdown",
   "metadata": {
    "_cell_guid": "4f8d7d30-83d3-4546-88b2-2c5dfda293e1",
    "_uuid": "b42e6850cfa8fb559761dc9e05b1437ccc30587c"
   },
   "source": [
    "# 1. The Data Set\n",
    "\n",
    "Records of taxi trips in New York City including pickup time, geo-coordinates, the number of passengers, and various other variables."
   ]
  },
  {
   "cell_type": "markdown",
   "metadata": {
    "_cell_guid": "7b346d28-7013-451f-b711-1f51870e47ca",
    "_uuid": "81f410bf63b671cdab7d4f783af84940fad637f9"
   },
   "source": [
    "### Data fields\n",
    "\n",
    "* id - a unique identifier for each trip\n",
    "* vendor_id - a code indicating the provider associated with the trip record\n",
    "* pickup_datetime - date and time when the meter was engaged\n",
    "* dropoff_datetime - date and time when the meter was disengaged\n",
    "* passenger_count - the number of passengers in the vehicle (driver entered value)\n",
    "* pickup_longitude - the longitude where the meter was engaged\n",
    "* pickup_latitude - the latitude where the meter was engaged\n",
    "* dropoff_longitude - the longitude where the meter was disengaged\n",
    "* dropoff_latitude - the latitude where the meter was disengaged\n",
    "* store_and_fwd_flag - This flag indicates whether the trip record was held in vehicle memory before sending to the vendor because the vehicle did not have a connection to the server - Y=store and forward; N=not a store and forward trip\n",
    "* trip_duration - duration of the trip in seconds"
   ]
  },
  {
   "cell_type": "markdown",
   "metadata": {},
   "source": [
    "### Task 1:\n",
    "\n",
    "Brainstorm possible use cases for such a data set."
   ]
  },
  {
   "cell_type": "markdown",
   "metadata": {},
   "source": [
    "Write them here."
   ]
  },
  {
   "cell_type": "code",
   "execution_count": 4,
   "metadata": {
    "_cell_guid": "1f61d683-31d0-4dad-a744-4913c97830a6",
    "_execution_state": "idle",
    "_uuid": "5a82f35527edc03fb04df624e0223ebf42379544"
   },
   "outputs": [],
   "source": [
    "import datetime\n",
    "import os\n",
    "import sys\n",
    "import time\n",
    "\n",
    "import matplotlib.pyplot as plt\n",
    "import numpy as np\n",
    "import pandas as pd\n",
    "import seaborn as sns"
   ]
  },
  {
   "cell_type": "markdown",
   "metadata": {},
   "source": [
    "Please, download the train and tests data sets from the [original Kaggle competition](https://www.kaggle.com/c/nyc-taxi-trip-duration/data) and move them into a folder \"data\" in the current directory."
   ]
  },
  {
   "cell_type": "code",
   "execution_count": 5,
   "metadata": {
    "_cell_guid": "cf5fc594-1231-40a9-9836-638cfe41cdb9",
    "_execution_state": "idle",
    "_uuid": "62c5f4718a73570da2e6cd2490a3b3fb3d4c9f1f"
   },
   "outputs": [],
   "source": [
    "# read data from csv\n",
    "df_train = pd.read_csv(\"./data/train.csv\")\n",
    "df_test = pd.read_csv(\"./data/test.csv\")"
   ]
  },
  {
   "cell_type": "markdown",
   "metadata": {
    "_cell_guid": "3ccbff9a-bcc0-4cd8-8ad5-b24635d5cfd3",
    "_uuid": "e47f29fe4bc6df54ceb0524ad09290bc50962523"
   },
   "source": [
    "### Dataset Overview"
   ]
  },
  {
   "cell_type": "markdown",
   "metadata": {
    "_cell_guid": "57e7f81b-b092-452c-904c-e79d0cfe654f",
    "_uuid": "190d21dea6e4aa6a6031cd9bdf3cd55d34a032f9"
   },
   "source": [
    "#### Training set"
   ]
  },
  {
   "cell_type": "code",
   "execution_count": 6,
   "metadata": {
    "_cell_guid": "3613eac0-1850-4d43-b790-307a93adc5b9",
    "_execution_state": "idle",
    "_uuid": "fe79d94a242befd58729f31078f9e20cd56bf580"
   },
   "outputs": [
    {
     "name": "stdout",
     "output_type": "stream",
     "text": [
      "Total number of samples in train dataset:  1458644\n",
      "Number of columns in train dataset:  11\n"
     ]
    }
   ],
   "source": [
    "print(\"Total number of samples in train dataset: \", df_train.shape[0])\n",
    "print(\"Number of columns in train dataset: \", df_train.shape[1])"
   ]
  },
  {
   "cell_type": "code",
   "execution_count": 7,
   "metadata": {
    "_cell_guid": "ea9a79f8-0dbe-4169-b8a8-33f89d5dfd1d",
    "_execution_state": "idle",
    "_uuid": "ee0044dde651d8957201eb4f8f676128c886bbfc"
   },
   "outputs": [
    {
     "data": {
      "text/html": [
       "<div>\n",
       "<style scoped>\n",
       "    .dataframe tbody tr th:only-of-type {\n",
       "        vertical-align: middle;\n",
       "    }\n",
       "\n",
       "    .dataframe tbody tr th {\n",
       "        vertical-align: top;\n",
       "    }\n",
       "\n",
       "    .dataframe thead th {\n",
       "        text-align: right;\n",
       "    }\n",
       "</style>\n",
       "<table border=\"1\" class=\"dataframe\">\n",
       "  <thead>\n",
       "    <tr style=\"text-align: right;\">\n",
       "      <th></th>\n",
       "      <th>id</th>\n",
       "      <th>vendor_id</th>\n",
       "      <th>pickup_datetime</th>\n",
       "      <th>dropoff_datetime</th>\n",
       "      <th>passenger_count</th>\n",
       "      <th>pickup_longitude</th>\n",
       "      <th>pickup_latitude</th>\n",
       "      <th>dropoff_longitude</th>\n",
       "      <th>dropoff_latitude</th>\n",
       "      <th>store_and_fwd_flag</th>\n",
       "      <th>trip_duration</th>\n",
       "    </tr>\n",
       "  </thead>\n",
       "  <tbody>\n",
       "    <tr>\n",
       "      <th>0</th>\n",
       "      <td>id2875421</td>\n",
       "      <td>2</td>\n",
       "      <td>2016-03-14 17:24:55</td>\n",
       "      <td>2016-03-14 17:32:30</td>\n",
       "      <td>1</td>\n",
       "      <td>-73.982155</td>\n",
       "      <td>40.767937</td>\n",
       "      <td>-73.964630</td>\n",
       "      <td>40.765602</td>\n",
       "      <td>N</td>\n",
       "      <td>455</td>\n",
       "    </tr>\n",
       "    <tr>\n",
       "      <th>1</th>\n",
       "      <td>id2377394</td>\n",
       "      <td>1</td>\n",
       "      <td>2016-06-12 00:43:35</td>\n",
       "      <td>2016-06-12 00:54:38</td>\n",
       "      <td>1</td>\n",
       "      <td>-73.980415</td>\n",
       "      <td>40.738564</td>\n",
       "      <td>-73.999481</td>\n",
       "      <td>40.731152</td>\n",
       "      <td>N</td>\n",
       "      <td>663</td>\n",
       "    </tr>\n",
       "    <tr>\n",
       "      <th>2</th>\n",
       "      <td>id3858529</td>\n",
       "      <td>2</td>\n",
       "      <td>2016-01-19 11:35:24</td>\n",
       "      <td>2016-01-19 12:10:48</td>\n",
       "      <td>1</td>\n",
       "      <td>-73.979027</td>\n",
       "      <td>40.763939</td>\n",
       "      <td>-74.005333</td>\n",
       "      <td>40.710087</td>\n",
       "      <td>N</td>\n",
       "      <td>2124</td>\n",
       "    </tr>\n",
       "    <tr>\n",
       "      <th>3</th>\n",
       "      <td>id3504673</td>\n",
       "      <td>2</td>\n",
       "      <td>2016-04-06 19:32:31</td>\n",
       "      <td>2016-04-06 19:39:40</td>\n",
       "      <td>1</td>\n",
       "      <td>-74.010040</td>\n",
       "      <td>40.719971</td>\n",
       "      <td>-74.012268</td>\n",
       "      <td>40.706718</td>\n",
       "      <td>N</td>\n",
       "      <td>429</td>\n",
       "    </tr>\n",
       "  </tbody>\n",
       "</table>\n",
       "</div>"
      ],
      "text/plain": [
       "          id  vendor_id      pickup_datetime     dropoff_datetime  \\\n",
       "0  id2875421          2  2016-03-14 17:24:55  2016-03-14 17:32:30   \n",
       "1  id2377394          1  2016-06-12 00:43:35  2016-06-12 00:54:38   \n",
       "2  id3858529          2  2016-01-19 11:35:24  2016-01-19 12:10:48   \n",
       "3  id3504673          2  2016-04-06 19:32:31  2016-04-06 19:39:40   \n",
       "\n",
       "   passenger_count  pickup_longitude  pickup_latitude  dropoff_longitude  \\\n",
       "0                1        -73.982155        40.767937         -73.964630   \n",
       "1                1        -73.980415        40.738564         -73.999481   \n",
       "2                1        -73.979027        40.763939         -74.005333   \n",
       "3                1        -74.010040        40.719971         -74.012268   \n",
       "\n",
       "   dropoff_latitude store_and_fwd_flag  trip_duration  \n",
       "0         40.765602                  N            455  \n",
       "1         40.731152                  N            663  \n",
       "2         40.710087                  N           2124  \n",
       "3         40.706718                  N            429  "
      ]
     },
     "execution_count": 7,
     "metadata": {},
     "output_type": "execute_result"
    }
   ],
   "source": [
    "# peak\n",
    "df_train.head(4)"
   ]
  },
  {
   "cell_type": "code",
   "execution_count": 8,
   "metadata": {
    "_cell_guid": "5ea03170-e4c0-4546-a398-3f9cfd75c6d0",
    "_execution_state": "idle",
    "_uuid": "60b5ea1fa19e756b4dcc01cd47d75af49a31b5c4"
   },
   "outputs": [
    {
     "data": {
      "text/html": [
       "<div>\n",
       "<style scoped>\n",
       "    .dataframe tbody tr th:only-of-type {\n",
       "        vertical-align: middle;\n",
       "    }\n",
       "\n",
       "    .dataframe tbody tr th {\n",
       "        vertical-align: top;\n",
       "    }\n",
       "\n",
       "    .dataframe thead th {\n",
       "        text-align: right;\n",
       "    }\n",
       "</style>\n",
       "<table border=\"1\" class=\"dataframe\">\n",
       "  <thead>\n",
       "    <tr style=\"text-align: right;\">\n",
       "      <th></th>\n",
       "      <th>vendor_id</th>\n",
       "      <th>passenger_count</th>\n",
       "      <th>pickup_longitude</th>\n",
       "      <th>pickup_latitude</th>\n",
       "      <th>dropoff_longitude</th>\n",
       "      <th>dropoff_latitude</th>\n",
       "      <th>trip_duration</th>\n",
       "    </tr>\n",
       "  </thead>\n",
       "  <tbody>\n",
       "    <tr>\n",
       "      <th>count</th>\n",
       "      <td>1.458644e+06</td>\n",
       "      <td>1.458644e+06</td>\n",
       "      <td>1.458644e+06</td>\n",
       "      <td>1.458644e+06</td>\n",
       "      <td>1.458644e+06</td>\n",
       "      <td>1.458644e+06</td>\n",
       "      <td>1.458644e+06</td>\n",
       "    </tr>\n",
       "    <tr>\n",
       "      <th>mean</th>\n",
       "      <td>1.534950e+00</td>\n",
       "      <td>1.664530e+00</td>\n",
       "      <td>-7.397349e+01</td>\n",
       "      <td>4.075092e+01</td>\n",
       "      <td>-7.397342e+01</td>\n",
       "      <td>4.075180e+01</td>\n",
       "      <td>9.594923e+02</td>\n",
       "    </tr>\n",
       "    <tr>\n",
       "      <th>std</th>\n",
       "      <td>4.987772e-01</td>\n",
       "      <td>1.314242e+00</td>\n",
       "      <td>7.090186e-02</td>\n",
       "      <td>3.288119e-02</td>\n",
       "      <td>7.064327e-02</td>\n",
       "      <td>3.589056e-02</td>\n",
       "      <td>5.237432e+03</td>\n",
       "    </tr>\n",
       "    <tr>\n",
       "      <th>min</th>\n",
       "      <td>1.000000e+00</td>\n",
       "      <td>0.000000e+00</td>\n",
       "      <td>-1.219333e+02</td>\n",
       "      <td>3.435970e+01</td>\n",
       "      <td>-1.219333e+02</td>\n",
       "      <td>3.218114e+01</td>\n",
       "      <td>1.000000e+00</td>\n",
       "    </tr>\n",
       "    <tr>\n",
       "      <th>50%</th>\n",
       "      <td>2.000000e+00</td>\n",
       "      <td>1.000000e+00</td>\n",
       "      <td>-7.398174e+01</td>\n",
       "      <td>4.075410e+01</td>\n",
       "      <td>-7.397975e+01</td>\n",
       "      <td>4.075452e+01</td>\n",
       "      <td>6.620000e+02</td>\n",
       "    </tr>\n",
       "    <tr>\n",
       "      <th>max</th>\n",
       "      <td>2.000000e+00</td>\n",
       "      <td>9.000000e+00</td>\n",
       "      <td>-6.133553e+01</td>\n",
       "      <td>5.188108e+01</td>\n",
       "      <td>-6.133553e+01</td>\n",
       "      <td>4.392103e+01</td>\n",
       "      <td>3.526282e+06</td>\n",
       "    </tr>\n",
       "  </tbody>\n",
       "</table>\n",
       "</div>"
      ],
      "text/plain": [
       "          vendor_id  passenger_count  pickup_longitude  pickup_latitude  \\\n",
       "count  1.458644e+06     1.458644e+06      1.458644e+06     1.458644e+06   \n",
       "mean   1.534950e+00     1.664530e+00     -7.397349e+01     4.075092e+01   \n",
       "std    4.987772e-01     1.314242e+00      7.090186e-02     3.288119e-02   \n",
       "min    1.000000e+00     0.000000e+00     -1.219333e+02     3.435970e+01   \n",
       "50%    2.000000e+00     1.000000e+00     -7.398174e+01     4.075410e+01   \n",
       "max    2.000000e+00     9.000000e+00     -6.133553e+01     5.188108e+01   \n",
       "\n",
       "       dropoff_longitude  dropoff_latitude  trip_duration  \n",
       "count       1.458644e+06      1.458644e+06   1.458644e+06  \n",
       "mean       -7.397342e+01      4.075180e+01   9.594923e+02  \n",
       "std         7.064327e-02      3.589056e-02   5.237432e+03  \n",
       "min        -1.219333e+02      3.218114e+01   1.000000e+00  \n",
       "50%        -7.397975e+01      4.075452e+01   6.620000e+02  \n",
       "max        -6.133553e+01      4.392103e+01   3.526282e+06  "
      ]
     },
     "execution_count": 8,
     "metadata": {},
     "output_type": "execute_result"
    }
   ],
   "source": [
    "# descriptive statistics (measures of central tendency and spread)\n",
    "df_train.describe(percentiles=[])"
   ]
  },
  {
   "cell_type": "markdown",
   "metadata": {},
   "source": [
    "### Task 2\n",
    "\n",
    "Compute mean, median, and mode of the column trip_duration.\n",
    "\n",
    "mean :: the average value  \n",
    "median :: the value in the middle  \n",
    "mode :: the most frequent value  "
   ]
  },
  {
   "cell_type": "code",
   "execution_count": 9,
   "metadata": {},
   "outputs": [
    {
     "name": "stdout",
     "output_type": "stream",
     "text": [
      "mean: 959.4922729603659\n",
      "median: 662.0\n",
      "mode: 0    368\n",
      "dtype: int64\n"
     ]
    }
   ],
   "source": [
    "from statistics import mode\n",
    "print(\"mean: {}\\nmedian: {}\\nmode: {}\".format(df_train['trip_duration'].mean(), \n",
    "                                              df_train['trip_duration'].median(),\n",
    "                                              df_train['trip_duration'].mode()))"
   ]
  },
  {
   "cell_type": "code",
   "execution_count": 11,
   "metadata": {},
   "outputs": [
    {
     "data": {
      "text/plain": [
       "<matplotlib.axes._subplots.AxesSubplot at 0x10d7336a0>"
      ]
     },
     "execution_count": 11,
     "metadata": {},
     "output_type": "execute_result"
    },
    {
     "data": {
      "image/png": "[encoded data removed]",
      "text/plain": [
       "<matplotlib.figure.Figure at 0x10e6b69e8>"
      ]
     },
     "metadata": {},
     "output_type": "display_data"
    }
   ],
   "source": [
    "sns.distplot(df_train[df_train['trip_duration'] < 5000]['trip_duration'])"
   ]
  },
  {
   "cell_type": "code",
   "execution_count": 18,
   "metadata": {
    "_cell_guid": "5768469a-e33a-46bb-87a8-0b135a7dace5",
    "_execution_state": "idle",
    "_uuid": "52b5f2edfef807229406ca55fd3fb01e78a7426b"
   },
   "outputs": [
    {
     "name": "stdout",
     "output_type": "stream",
     "text": [
      "<class 'pandas.core.frame.DataFrame'>\n",
      "RangeIndex: 1458644 entries, 0 to 1458643\n",
      "Data columns (total 11 columns):\n",
      "id                    1458644 non-null object\n",
      "vendor_id             1458644 non-null int64\n",
      "pickup_datetime       1458644 non-null object\n",
      "dropoff_datetime      1458644 non-null object\n",
      "passenger_count       1458644 non-null int64\n",
      "pickup_longitude      1458644 non-null float64\n",
      "pickup_latitude       1458644 non-null float64\n",
      "dropoff_longitude     1458644 non-null float64\n",
      "dropoff_latitude      1458644 non-null float64\n",
      "store_and_fwd_flag    1458644 non-null object\n",
      "trip_duration         1458644 non-null int64\n",
      "dtypes: float64(4), int64(3), object(4)\n",
      "memory usage: 122.4+ MB\n"
     ]
    }
   ],
   "source": [
    "df_train.info()"
   ]
  },
  {
   "cell_type": "markdown",
   "metadata": {
    "_cell_guid": "a9fd26bd-1f85-4d33-a75e-241f3119b2de",
    "_uuid": "00891e8cb9d58bc2460c4b6c7f52fac0ad3d816d"
   },
   "source": [
    "#### Test set"
   ]
  },
  {
   "cell_type": "code",
   "execution_count": 19,
   "metadata": {
    "_cell_guid": "ff01bed1-7af9-4890-8b84-53b7ec720469",
    "_execution_state": "idle",
    "_uuid": "a060782713dd18c7e9f081cbf0ecb9c082af0091"
   },
   "outputs": [
    {
     "name": "stdout",
     "output_type": "stream",
     "text": [
      "Total number of samples in test dataset:  625134\n",
      "Number of columns in test dataset:  9\n"
     ]
    }
   ],
   "source": [
    "print(\"Total number of samples in test dataset: \", df_test.shape[0])\n",
    "print(\"Number of columns in test dataset: \", df_test.shape[1])"
   ]
  },
  {
   "cell_type": "code",
   "execution_count": 20,
   "metadata": {
    "_cell_guid": "e6ed4059-ce7a-49d7-b6cb-933c01b15a5b",
    "_execution_state": "idle",
    "_uuid": "bbaaedf3952087d8e144ff45f103496dcbc02503"
   },
   "outputs": [
    {
     "data": {
      "text/html": [
       "<div>\n",
       "<style scoped>\n",
       "    .dataframe tbody tr th:only-of-type {\n",
       "        vertical-align: middle;\n",
       "    }\n",
       "\n",
       "    .dataframe tbody tr th {\n",
       "        vertical-align: top;\n",
       "    }\n",
       "\n",
       "    .dataframe thead th {\n",
       "        text-align: right;\n",
       "    }\n",
       "</style>\n",
       "<table border=\"1\" class=\"dataframe\">\n",
       "  <thead>\n",
       "    <tr style=\"text-align: right;\">\n",
       "      <th></th>\n",
       "      <th>id</th>\n",
       "      <th>vendor_id</th>\n",
       "      <th>pickup_datetime</th>\n",
       "      <th>passenger_count</th>\n",
       "      <th>pickup_longitude</th>\n",
       "      <th>pickup_latitude</th>\n",
       "      <th>dropoff_longitude</th>\n",
       "      <th>dropoff_latitude</th>\n",
       "      <th>store_and_fwd_flag</th>\n",
       "    </tr>\n",
       "  </thead>\n",
       "  <tbody>\n",
       "    <tr>\n",
       "      <th>0</th>\n",
       "      <td>id3004672</td>\n",
       "      <td>1</td>\n",
       "      <td>2016-06-30 23:59:58</td>\n",
       "      <td>1</td>\n",
       "      <td>-73.988129</td>\n",
       "      <td>40.732029</td>\n",
       "      <td>-73.990173</td>\n",
       "      <td>40.756680</td>\n",
       "      <td>N</td>\n",
       "    </tr>\n",
       "    <tr>\n",
       "      <th>1</th>\n",
       "      <td>id3505355</td>\n",
       "      <td>1</td>\n",
       "      <td>2016-06-30 23:59:53</td>\n",
       "      <td>1</td>\n",
       "      <td>-73.964203</td>\n",
       "      <td>40.679993</td>\n",
       "      <td>-73.959808</td>\n",
       "      <td>40.655403</td>\n",
       "      <td>N</td>\n",
       "    </tr>\n",
       "    <tr>\n",
       "      <th>2</th>\n",
       "      <td>id1217141</td>\n",
       "      <td>1</td>\n",
       "      <td>2016-06-30 23:59:47</td>\n",
       "      <td>1</td>\n",
       "      <td>-73.997437</td>\n",
       "      <td>40.737583</td>\n",
       "      <td>-73.986160</td>\n",
       "      <td>40.729523</td>\n",
       "      <td>N</td>\n",
       "    </tr>\n",
       "    <tr>\n",
       "      <th>3</th>\n",
       "      <td>id2150126</td>\n",
       "      <td>2</td>\n",
       "      <td>2016-06-30 23:59:41</td>\n",
       "      <td>1</td>\n",
       "      <td>-73.956070</td>\n",
       "      <td>40.771900</td>\n",
       "      <td>-73.986427</td>\n",
       "      <td>40.730469</td>\n",
       "      <td>N</td>\n",
       "    </tr>\n",
       "    <tr>\n",
       "      <th>4</th>\n",
       "      <td>id1598245</td>\n",
       "      <td>1</td>\n",
       "      <td>2016-06-30 23:59:33</td>\n",
       "      <td>1</td>\n",
       "      <td>-73.970215</td>\n",
       "      <td>40.761475</td>\n",
       "      <td>-73.961510</td>\n",
       "      <td>40.755890</td>\n",
       "      <td>N</td>\n",
       "    </tr>\n",
       "  </tbody>\n",
       "</table>\n",
       "</div>"
      ],
      "text/plain": [
       "          id  vendor_id      pickup_datetime  passenger_count  \\\n",
       "0  id3004672          1  2016-06-30 23:59:58                1   \n",
       "1  id3505355          1  2016-06-30 23:59:53                1   \n",
       "2  id1217141          1  2016-06-30 23:59:47                1   \n",
       "3  id2150126          2  2016-06-30 23:59:41                1   \n",
       "4  id1598245          1  2016-06-30 23:59:33                1   \n",
       "\n",
       "   pickup_longitude  pickup_latitude  dropoff_longitude  dropoff_latitude  \\\n",
       "0        -73.988129        40.732029         -73.990173         40.756680   \n",
       "1        -73.964203        40.679993         -73.959808         40.655403   \n",
       "2        -73.997437        40.737583         -73.986160         40.729523   \n",
       "3        -73.956070        40.771900         -73.986427         40.730469   \n",
       "4        -73.970215        40.761475         -73.961510         40.755890   \n",
       "\n",
       "  store_and_fwd_flag  \n",
       "0                  N  \n",
       "1                  N  \n",
       "2                  N  \n",
       "3                  N  \n",
       "4                  N  "
      ]
     },
     "execution_count": 20,
     "metadata": {},
     "output_type": "execute_result"
    }
   ],
   "source": [
    "df_test.head()"
   ]
  },
  {
   "cell_type": "markdown",
   "metadata": {
    "_cell_guid": "d484f5e4-188c-4f2d-87dc-2c83ff967554",
    "_uuid": "c3ece303ee5068c65403aece3daf2ba062635a8d"
   },
   "source": [
    "# 2. Missing Values\n",
    "\n",
    "Are there any missing values in the data set?"
   ]
  },
  {
   "cell_type": "code",
   "execution_count": 21,
   "metadata": {
    "_cell_guid": "de4b6f9f-c032-4de2-ba40-c23f69e19f87",
    "_execution_state": "idle",
    "_uuid": "37e87c49fb2d39ad5ae07e217e6108b0eaf0c341"
   },
   "outputs": [
    {
     "data": {
      "text/plain": [
       "id                    0\n",
       "vendor_id             0\n",
       "pickup_datetime       0\n",
       "dropoff_datetime      0\n",
       "passenger_count       0\n",
       "pickup_longitude      0\n",
       "pickup_latitude       0\n",
       "dropoff_longitude     0\n",
       "dropoff_latitude      0\n",
       "store_and_fwd_flag    0\n",
       "trip_duration         0\n",
       "dtype: int64"
      ]
     },
     "execution_count": 21,
     "metadata": {},
     "output_type": "execute_result"
    }
   ],
   "source": [
    "df_train.isnull().sum()  # isna()"
   ]
  },
  {
   "cell_type": "code",
   "execution_count": 22,
   "metadata": {
    "_cell_guid": "0185b9f8-7f86-4e92-b8a2-16ad593d14ed",
    "_execution_state": "idle",
    "_uuid": "55347142bf615b8ee652db0876b55cc18f3ced9f"
   },
   "outputs": [
    {
     "data": {
      "text/plain": [
       "id                    0\n",
       "vendor_id             0\n",
       "pickup_datetime       0\n",
       "passenger_count       0\n",
       "pickup_longitude      0\n",
       "pickup_latitude       0\n",
       "dropoff_longitude     0\n",
       "dropoff_latitude      0\n",
       "store_and_fwd_flag    0\n",
       "dtype: int64"
      ]
     },
     "execution_count": 22,
     "metadata": {},
     "output_type": "execute_result"
    }
   ],
   "source": [
    "df_test.isna().sum()"
   ]
  },
  {
   "cell_type": "markdown",
   "metadata": {
    "_cell_guid": "166dc596-eea4-4b20-9f7a-93f0f7b4c0ee",
    "_uuid": "10af5dd39aec2e675d34d7be2289bbc703513582"
   },
   "source": [
    "# 3. Data Exploration"
   ]
  },
  {
   "cell_type": "markdown",
   "metadata": {
    "_cell_guid": "ff26611b-14d9-4499-b33d-ea0fb708152f",
    "_uuid": "e6184fff7a33cba5a8186068597c55aef8803848"
   },
   "source": [
    "### 3.1 Are the IDs in train and test sets unique? Is there overlap?"
   ]
  },
  {
   "cell_type": "code",
   "execution_count": 23,
   "metadata": {
    "_cell_guid": "c7b7032e-2c21-4ac4-a5db-184893d1de97",
    "_execution_state": "idle",
    "_uuid": "93e7b568479d8799f073f4653ccdedd1e2218618"
   },
   "outputs": [
    {
     "name": "stdout",
     "output_type": "stream",
     "text": [
      "Number of ids in the training set:  1458644\n",
      "Number of unique ids in the training set:  1458644 \n",
      "\n",
      "Number of ids in the test set:  625134\n",
      "Number of unique ids in the test set:  625134 \n",
      "\n",
      "Number of common ids (if any) between the train and test sets:  0\n"
     ]
    }
   ],
   "source": [
    "print(\"Number of ids in the training set: \", len(df_train[\"id\"]))\n",
    "print(\"Number of unique ids in the training set: \", len(pd.unique(df_train[\"id\"])), \"\\n\")\n",
    "\n",
    "print(\"Number of ids in the test set: \", len(df_test[\"id\"]))\n",
    "print(\"Number of unique ids in the test set: \", len(pd.unique(df_test[\"id\"])), \"\\n\")\n",
    "\n",
    "print(\"Number of common ids (if any) between the train and test sets: \", \\\n",
    "len(set(df_train[\"id\"].values).intersection(set(df_test[\"id\"].values))))"
   ]
  },
  {
   "cell_type": "markdown",
   "metadata": {
    "_cell_guid": "820a5e05-50af-4540-aaad-f21a17f9aa8c",
    "_uuid": "34a607eed2cb9bbf9a885806563a2ba8d608da8c"
   },
   "source": [
    "### 3.2 Are vendor_ids unique in train and test sets? \n",
    "\n",
    "* vendor_id takes on only two values in both the train and test datasets, i.e. 1 and 2  \n",
    "Hypothesis - This could represent data from two different taxi companies\n",
    "\n",
    "#### This leads to a set of follow-up questions:\n",
    "\n",
    "* If the hypothesis is right and the values in the vendor_id column actually represent the data from two different taxi companies; are the number of observations in the dataset from each of the companies comparable or is there any imbalance? (Both in the train and test datasets)\n",
    "\n",
    "* Among the vendor_ids (1 and 2) - what is the distribution in the number of passengers (passenger_count) across the train and test datasets?"
   ]
  },
  {
   "cell_type": "code",
   "execution_count": 24,
   "metadata": {
    "_cell_guid": "8e35912f-646a-4dc1-9bbe-40715691cbc2",
    "_execution_state": "idle",
    "_uuid": "e7a315c5d35516ca2a0d8500393d2233870f0112"
   },
   "outputs": [
    {
     "name": "stdout",
     "output_type": "stream",
     "text": [
      "Number of vendor_ids in the train dataset:  1458644\n",
      "Number of unique vendor_ids in the train dataset:  2 \n",
      "\n",
      "Number of vendor_ids in the test dataset:  625134\n",
      "Number of unique vendor_ids in the test dataset:  2 \n",
      "\n"
     ]
    }
   ],
   "source": [
    "print(\"Number of vendor_ids in the train dataset: \", len(df_train[\"vendor_id\"]))\n",
    "print(\"Number of unique vendor_ids in the train dataset: \", len(pd.unique(df_train[\"vendor_id\"])), \"\\n\")\n",
    "\n",
    "print(\"Number of vendor_ids in the test dataset: \", len(df_test[\"vendor_id\"]))\n",
    "print(\"Number of unique vendor_ids in the test dataset: \", len(pd.unique(df_test[\"vendor_id\"])), \"\\n\")"
   ]
  },
  {
   "cell_type": "code",
   "execution_count": 25,
   "metadata": {
    "_cell_guid": "d38a78b1-b653-448b-a3f9-9083cbee57d7",
    "_execution_state": "idle",
    "_uuid": "4476b3a5056db833f48accd3944cadb0a9cb9260"
   },
   "outputs": [
    {
     "data": {
      "text/plain": [
       "<matplotlib.axes._subplots.AxesSubplot at 0x115685b70>"
      ]
     },
     "execution_count": 25,
     "metadata": {},
     "output_type": "execute_result"
    },
    {
     "data": {
      "image/png": "[encoded data removed]",
      "text/plain": [
       "<matplotlib.figure.Figure at 0x10fdbb3c8>"
      ]
     },
     "metadata": {},
     "output_type": "display_data"
    }
   ],
   "source": [
    "# The number of observations of each of the two companies seem comparable\n",
    "sns.countplot(x=\"vendor_id\", data=df_train)"
   ]
  },
  {
   "cell_type": "code",
   "execution_count": 26,
   "metadata": {
    "_cell_guid": "ac3eeb5f-868c-4b92-b479-e4a01c99da85",
    "_execution_state": "idle",
    "_uuid": "9b0f35b3b90d52d5ecce6dba7a6166f14fb09988"
   },
   "outputs": [
    {
     "data": {
      "text/plain": [
       "<matplotlib.axes._subplots.AxesSubplot at 0x115bae898>"
      ]
     },
     "execution_count": 26,
     "metadata": {},
     "output_type": "execute_result"
    },
    {
     "data": {
      "image/png": "[encoded data removed]",
      "text/plain": [
       "<matplotlib.figure.Figure at 0x115104a58>"
      ]
     },
     "metadata": {},
     "output_type": "display_data"
    }
   ],
   "source": [
    "sns.countplot(x=\"vendor_id\", data=df_test)"
   ]
  },
  {
   "cell_type": "markdown",
   "metadata": {
    "_cell_guid": "74f50e0e-80e6-400f-bed1-fc2dde03748d",
    "_uuid": "b583ddb17586f8b46983827739e71cfc4d2ec8f8"
   },
   "source": [
    "### 3.3 What's the distribution of the number of passengers across vendor_id variables"
   ]
  },
  {
   "cell_type": "code",
   "execution_count": 27,
   "metadata": {
    "_cell_guid": "7d54ea7c-d6bd-4740-8580-2895d12063d3",
    "_execution_state": "idle",
    "_uuid": "6e3d7aee5bf5220d5538bdf6bc5b3fb531838085"
   },
   "outputs": [
    {
     "data": {
      "text/plain": [
       "<matplotlib.axes._subplots.AxesSubplot at 0x115a0dda0>"
      ]
     },
     "execution_count": 27,
     "metadata": {},
     "output_type": "execute_result"
    },
    {
     "data": {
      "image/png": "[encoded data removed]",
      "text/plain": [
       "<matplotlib.figure.Figure at 0x114d86e10>"
      ]
     },
     "metadata": {},
     "output_type": "display_data"
    }
   ],
   "source": [
    "sns.countplot(x=\"passenger_count\", data=df_train[df_train[\"vendor_id\"] == 1])"
   ]
  },
  {
   "cell_type": "code",
   "execution_count": 28,
   "metadata": {
    "_cell_guid": "d57b48b6-55b4-4f23-8602-29b7f2fc7536",
    "_execution_state": "idle",
    "_uuid": "829a262562fb3c40c88daf2c72d8209b39a2092e"
   },
   "outputs": [
    {
     "data": {
      "text/plain": [
       "<matplotlib.axes._subplots.AxesSubplot at 0x114d8ca20>"
      ]
     },
     "execution_count": 28,
     "metadata": {},
     "output_type": "execute_result"
    },
    {
     "data": {
      "image/png": "[encoded data removed]",
      "text/plain": [
       "<matplotlib.figure.Figure at 0x114d80d30>"
      ]
     },
     "metadata": {},
     "output_type": "display_data"
    }
   ],
   "source": [
    "sns.countplot(x=\"passenger_count\", data=df_train[df_train[\"vendor_id\"] == 2])"
   ]
  },
  {
   "cell_type": "code",
   "execution_count": 29,
   "metadata": {
    "_cell_guid": "fb8913c5-2c74-4430-8d45-1400c70c353c",
    "_execution_state": "idle",
    "_uuid": "7abaa6555ee9fee446057cea0e4fa2f1d29ffe40"
   },
   "outputs": [
    {
     "data": {
      "text/plain": [
       "<matplotlib.axes._subplots.AxesSubplot at 0x115a53198>"
      ]
     },
     "execution_count": 29,
     "metadata": {},
     "output_type": "execute_result"
    },
    {
     "data": {
      "image/png": "[encoded data removed]",
      "text/plain": [
       "<matplotlib.figure.Figure at 0x1160a1518>"
      ]
     },
     "metadata": {},
     "output_type": "display_data"
    }
   ],
   "source": [
    "sns.countplot(x=\"passenger_count\", data=df_test[df_test[\"vendor_id\"] == 1])"
   ]
  },
  {
   "cell_type": "code",
   "execution_count": 30,
   "metadata": {
    "_cell_guid": "b2d5d225-d7ca-420f-b67f-b3b86601a814",
    "_execution_state": "idle",
    "_uuid": "910b841fc8b7de43f9c7df625d2e60158013c3ac"
   },
   "outputs": [
    {
     "data": {
      "text/plain": [
       "<matplotlib.axes._subplots.AxesSubplot at 0x115e9cef0>"
      ]
     },
     "execution_count": 30,
     "metadata": {},
     "output_type": "execute_result"
    },
    {
     "data": {
      "image/png": "[encoded data removed]",
      "text/plain": [
       "<matplotlib.figure.Figure at 0x1159da1d0>"
      ]
     },
     "metadata": {},
     "output_type": "display_data"
    }
   ],
   "source": [
    "sns.countplot(x=\"passenger_count\", data=df_test[df_test[\"vendor_id\"] == 2])"
   ]
  },
  {
   "cell_type": "markdown",
   "metadata": {
    "_cell_guid": "d7b7f9fb-01b1-468d-89ef-97f552b39896",
    "_uuid": "e6c492057ee8dbf3b08c16d2ee9d144243b854f0"
   },
   "source": [
    "### 3.4 What's the distribution of trip_duration across the training set"
   ]
  },
  {
   "cell_type": "code",
   "execution_count": 31,
   "metadata": {
    "_cell_guid": "e98f9cc3-3750-47fc-8ee5-2672dfeb6d12",
    "_execution_state": "idle",
    "_uuid": "e5f05e0fd851fff7dfd65bdeebb841a1db03e9e1"
   },
   "outputs": [],
   "source": [
    "df_train[\"pickup_datetime\"] = pd.to_datetime(df_train[\"pickup_datetime\"])\n",
    "df_train[\"dropoff_datetime\"] = pd.to_datetime(df_train[\"dropoff_datetime\"])\n",
    "\n",
    "df_test[\"pickup_datetime\"] = pd.to_datetime(df_test[\"pickup_datetime\"])"
   ]
  },
  {
   "cell_type": "code",
   "execution_count": 32,
   "metadata": {
    "_cell_guid": "dc8629e4-3feb-4e2c-b119-f21de8e7b018",
    "_execution_state": "idle",
    "_uuid": "faf2ee648db2fa2f53e2bda62f5f9f906cad95f3"
   },
   "outputs": [
    {
     "data": {
      "text/plain": [
       "count    1.458644e+06\n",
       "mean     9.594923e+02\n",
       "std      5.237432e+03\n",
       "min      1.000000e+00\n",
       "50%      6.620000e+02\n",
       "max      3.526282e+06\n",
       "Name: trip_duration, dtype: float64"
      ]
     },
     "execution_count": 32,
     "metadata": {},
     "output_type": "execute_result"
    }
   ],
   "source": [
    "# trip_duration represents the difference between dropoff_datetime and pickup_datetime\n",
    "df_train[\"trip_duration\"].describe(percentiles=[])"
   ]
  },
  {
   "cell_type": "code",
   "execution_count": 42,
   "metadata": {},
   "outputs": [
    {
     "data": {
      "text/plain": [
       "<matplotlib.axes._subplots.AxesSubplot at 0x118715320>"
      ]
     },
     "execution_count": 42,
     "metadata": {},
     "output_type": "execute_result"
    },
    {
     "data": {
      "image/png": "[encoded data removed]",
      "text/plain": [
       "<matplotlib.figure.Figure at 0x1180c9048>"
      ]
     },
     "metadata": {},
     "output_type": "display_data"
    }
   ],
   "source": [
    "sns.boxplot(df_train[df_train['trip_duration'] < 86400]['trip_duration'])"
   ]
  },
  {
   "cell_type": "code",
   "execution_count": 33,
   "metadata": {
    "_cell_guid": "cf5f1336-71c3-42e4-a399-c9beaefc489a",
    "_execution_state": "idle",
    "_uuid": "96a7fad6cc2ef7dfe70611715e9428e46f459912"
   },
   "outputs": [
    {
     "data": {
      "text/plain": [
       "count                   1458644\n",
       "mean     0 days 00:15:59.492272\n",
       "std      0 days 01:27:17.431724\n",
       "min             0 days 00:00:01\n",
       "50%             0 days 00:11:02\n",
       "max            40 days 19:31:22\n",
       "dtype: object"
      ]
     },
     "execution_count": 33,
     "metadata": {},
     "output_type": "execute_result"
    }
   ],
   "source": [
    "# trip duration in datetime representation\n",
    "(df_train[\"dropoff_datetime\"] - df_train[\"pickup_datetime\"]).describe(percentiles=[])"
   ]
  },
  {
   "cell_type": "markdown",
   "metadata": {
    "_cell_guid": "1d653fc5-8140-49d8-a908-0c6486635c45",
    "_uuid": "2f587d815036a9e33232de94a01a229fcd69c98e"
   },
   "source": [
    "_It is interesting to see that there happens to be a trip that lasted for over 40 days. Let us plot the trip duration in seconds to view any other possbile outliers._"
   ]
  },
  {
   "cell_type": "code",
   "execution_count": 34,
   "metadata": {
    "_cell_guid": "5cfd175c-3ee6-4fe7-8c99-15a356006576",
    "_execution_state": "idle",
    "_uuid": "5a15ef493801a3440dbd01e82fcef52cd8e0c184"
   },
   "outputs": [
    {
     "data": {
      "image/png": "[encoded data removed]",
      "text/plain": [
       "<matplotlib.figure.Figure at 0x11638f550>"
      ]
     },
     "metadata": {},
     "output_type": "display_data"
    }
   ],
   "source": [
    "plt.figure(figsize=(10,10))\n",
    "plt.scatter(range(len(df_train[\"trip_duration\"])), np.sort(df_train[\"trip_duration\"]))\n",
    "plt.xlabel('index')\n",
    "plt.ylabel('trip_duration in seconds')\n",
    "plt.show()"
   ]
  },
  {
   "cell_type": "markdown",
   "metadata": {
    "_cell_guid": "b65a0858-196d-4774-8216-a98aafa8b616",
    "_uuid": "2056667f533bf8a16ce57bfbf447f53d8cce3000"
   },
   "source": [
    "_We see that there are four outliers with trip durations of 20 days or more_"
   ]
  },
  {
   "cell_type": "code",
   "execution_count": 38,
   "metadata": {
    "_cell_guid": "7b115f22-b26f-4bf4-9ddf-335fe6315d21",
    "_execution_state": "idle",
    "_uuid": "4cd9f69f2b72a791d760f9253df80356c9363e98"
   },
   "outputs": [],
   "source": [
    "# Let's remove outliers\n",
    "df_train = df_train[df_train[\"trip_duration\"] < 500000]"
   ]
  },
  {
   "cell_type": "code",
   "execution_count": 39,
   "metadata": {
    "_cell_guid": "23f548ac-0509-470c-b5eb-eddf5ab47e87",
    "_execution_state": "idle",
    "_uuid": "8ba4be43159652a86a0ade53b122d35eebff8fc2"
   },
   "outputs": [
    {
     "data": {
      "text/plain": [
       "count                   1458640\n",
       "mean     0 days 00:15:52.815251\n",
       "std      0 days 00:52:51.322283\n",
       "min             0 days 00:00:01\n",
       "25%             0 days 00:06:37\n",
       "50%             0 days 00:11:02\n",
       "75%             0 days 00:17:55\n",
       "max             0 days 23:59:52\n",
       "dtype: object"
      ]
     },
     "execution_count": 39,
     "metadata": {},
     "output_type": "execute_result"
    }
   ],
   "source": [
    "(df_train[\"dropoff_datetime\"] - df_train[\"pickup_datetime\"]).describe()"
   ]
  },
  {
   "cell_type": "code",
   "execution_count": 40,
   "metadata": {
    "_cell_guid": "11bc5025-7c84-4d5b-9def-31569059c59a",
    "_execution_state": "idle",
    "_uuid": "721cae18b50d08b15eb89e15919a0d9c8709fc06"
   },
   "outputs": [
    {
     "data": {
      "image/png": "[encoded data removed]",
      "text/plain": [
       "<matplotlib.figure.Figure at 0x1176d0438>"
      ]
     },
     "metadata": {},
     "output_type": "display_data"
    }
   ],
   "source": [
    "plt.figure(figsize=(10,10))\n",
    "plt.scatter(range(len(df_train[\"trip_duration\"])), np.sort(df_train[\"trip_duration\"]))\n",
    "plt.xlabel('index')\n",
    "plt.ylabel('trip_duration in seconds')\n",
    "plt.show()"
   ]
  },
  {
   "cell_type": "markdown",
   "metadata": {
    "_cell_guid": "efd7e17b-99a9-43f1-8f67-515b89f7c19e",
    "_uuid": "3fe4e77e313c9870e89dabd558632c293d3ea8e9"
   },
   "source": [
    "_It is interesting to see that a lot of trips, have a trip duration nearing 23 hours_"
   ]
  },
  {
   "cell_type": "code",
   "execution_count": null,
   "metadata": {
    "_cell_guid": "bb8db2df-b262-4d3d-948c-59ee3966b400",
    "_execution_state": "idle",
    "_uuid": "64923003d6ae6761629adf57ffedec38bc7169d1"
   },
   "outputs": [],
   "source": []
  },
  {
   "cell_type": "markdown",
   "metadata": {
    "_cell_guid": "915f8e5d-61fa-4dc4-a167-15ffa022bcc8",
    "_uuid": "4de82d0441ff78e62c65299110ba8da777c757b6"
   },
   "source": [
    "### 3.5 Distribution of the store_and_fwd_flag across the train dataset"
   ]
  },
  {
   "cell_type": "code",
   "execution_count": 44,
   "metadata": {
    "_cell_guid": "572992d5-43d0-4b85-b601-c889f9e3dc57",
    "_execution_state": "idle",
    "_uuid": "221aabc35f5efebdbb36b5cfce1030a47b6d41f2"
   },
   "outputs": [
    {
     "data": {
      "text/plain": [
       "<matplotlib.axes._subplots.AxesSubplot at 0x1186b4da0>"
      ]
     },
     "execution_count": 44,
     "metadata": {},
     "output_type": "execute_result"
    },
    {
     "data": {
      "image/png": "[encoded data removed]",
      "text/plain": [
       "<matplotlib.figure.Figure at 0x11959b358>"
      ]
     },
     "metadata": {},
     "output_type": "display_data"
    }
   ],
   "source": [
    "sns.countplot(x=\"store_and_fwd_flag\", data=df_train)"
   ]
  },
  {
   "cell_type": "markdown",
   "metadata": {
    "_cell_guid": "acd13284-9f6b-48c9-b067-4f36751ac2aa",
    "_uuid": "70291d33104f291725f0798dbfe0054f47928f60"
   },
   "source": [
    "_According to the Data Dictionary the store and fwd flag indicates whether the trip record was held in vehicle memory before sending to the vendor because the vehicle did not have a connection to the server - Y=store and forward; N=not a store and forward trip. This must therefore indicate that most of the trips(99.448% to be precise) were not stored in the vehicle memory before forwarding._\n",
    "\n",
    "_**Hypothesis** - In 99.448% of the trips, the vehicles might have been in an area of NYC, where the celluar reception was good; thereby having a connection to the server. In 0.551% of the trips, the celluar reception might have been poor; thereby having to store the trip record in the vehicle memory prior to sending it to the server. Could this affect the dropoff longitude and latitude? Would the dropoff coordinates not have been recorded until celluar reception was availbale again? If so, must we ignore such records while building the model?_"
   ]
  },
  {
   "cell_type": "code",
   "execution_count": 45,
   "metadata": {
    "_cell_guid": "e29cf491-2c71-48e6-872d-5bf8d214f3ae",
    "_execution_state": "idle",
    "_uuid": "88cd600fe5a4a495af48c010cfe3044bcb5213c9"
   },
   "outputs": [
    {
     "data": {
      "text/plain": [
       "99.44845883836999"
      ]
     },
     "execution_count": 45,
     "metadata": {},
     "output_type": "execute_result"
    }
   ],
   "source": [
    "len(df_train[df_train[\"store_and_fwd_flag\"] == \"N\"])*100.0/(df_train.count()[0])"
   ]
  },
  {
   "cell_type": "markdown",
   "metadata": {
    "_cell_guid": "8c6107b0-7721-4bc7-8f4c-38f759abc221",
    "_uuid": "8dae0aabf974da81954989dab109de8c731a825c"
   },
   "source": [
    "_Among the 0.551% of the trips in the train dataset, where the trip record was stored in the vehicle memory; we observe that all the 0.551% of the cases were only for vendor id = 1._"
   ]
  },
  {
   "cell_type": "code",
   "execution_count": 46,
   "metadata": {
    "_cell_guid": "5b7e6d2d-6455-49e2-b822-773e959e47ed",
    "_execution_state": "idle",
    "_uuid": "6d28585bceb91cec8fa784256ba956aee08000cf"
   },
   "outputs": [
    {
     "data": {
      "text/plain": [
       "{1}"
      ]
     },
     "execution_count": 46,
     "metadata": {},
     "output_type": "execute_result"
    }
   ],
   "source": [
    "set(df_train[df_train[\"store_and_fwd_flag\"] == \"Y\"][\"vendor_id\"])"
   ]
  },
  {
   "cell_type": "code",
   "execution_count": 53,
   "metadata": {
    "_cell_guid": "c2b3c113-058d-4a07-a756-b047ae5cd04a",
    "_execution_state": "idle",
    "_uuid": "49aa674a748e21493129855eaabf97009351a6d9"
   },
   "outputs": [
    {
     "data": {
      "text/plain": [
       "0"
      ]
     },
     "execution_count": 53,
     "metadata": {},
     "output_type": "execute_result"
    }
   ],
   "source": [
    "df_train['dropoff_longitude'].isnull().sum()"
   ]
  },
  {
   "cell_type": "markdown",
   "metadata": {
    "_cell_guid": "3352ef9e-adbe-48b7-bd3f-db6f39e6648e",
    "_uuid": "5a1383c03b3f0185b8f3882a6be704ab7732b79e"
   },
   "source": [
    "### 3.6 Exploring the distances between the pickup and dropoff lat/log coordinates"
   ]
  },
  {
   "cell_type": "code",
   "execution_count": 49,
   "metadata": {
    "_cell_guid": "6e0b6826-3e72-4b8d-a0f0-029939c28a39",
    "_execution_state": "idle",
    "_uuid": "57a5ed037f117a1847d3d1a6632b71bf1fd25ef6"
   },
   "outputs": [],
   "source": [
    "from haversine import haversine"
   ]
  },
  {
   "cell_type": "code",
   "execution_count": 50,
   "metadata": {
    "_cell_guid": "252ed8d7-aaf9-48e8-8073-ca33c16a968f",
    "_execution_state": "idle",
    "_uuid": "46e5d0262e965a913d943ccd3f7412d09d9abe29"
   },
   "outputs": [],
   "source": [
    "def calculate_haversine_distance(var_row):\n",
    "    return haversine((var_row[\"pickup_latitude\"], var_row[\"pickup_longitude\"]), \n",
    "                     (var_row[\"dropoff_latitude\"], var_row[\"dropoff_longitude\"]))"
   ]
  },
  {
   "cell_type": "code",
   "execution_count": 51,
   "metadata": {
    "_cell_guid": "93633783-489b-4e64-8946-ae3efc1557bf",
    "_execution_state": "idle",
    "_uuid": "c3199c5f06a24cd067bfb60300d590a736057dd0"
   },
   "outputs": [
    {
     "name": "stderr",
     "output_type": "stream",
     "text": [
      "/Users/celsadiaz/.pyenv/versions/3.6.2/envs/redi/lib/python3.6/site-packages/ipykernel_launcher.py:4: SettingWithCopyWarning: \n",
      "A value is trying to be set on a copy of a slice from a DataFrame.\n",
      "Try using .loc[row_indexer,col_indexer] = value instead\n",
      "\n",
      "See the caveats in the documentation: http://pandas.pydata.org/pandas-docs/stable/indexing.html#indexing-view-versus-copy\n",
      "  after removing the cwd from sys.path.\n"
     ]
    }
   ],
   "source": [
    "# #Calculating the Haversine Distance\n",
    "# #The haversine formula determines the great-circle distance between two points on a sphere \n",
    "# #given their longitudes and latitudes.\n",
    "df_train[\"haversine_distance\"] = df_train.apply(lambda row: calculate_haversine_distance(row), axis=1)"
   ]
  },
  {
   "cell_type": "code",
   "execution_count": 52,
   "metadata": {
    "_cell_guid": "de33ad4c-1070-4f1a-b5f1-cc050304a2e2",
    "_execution_state": "idle",
    "_uuid": "0e1940224aedccfd85b87aacb37ded7e455b9078"
   },
   "outputs": [
    {
     "data": {
      "text/html": [
       "<div>\n",
       "<style scoped>\n",
       "    .dataframe tbody tr th:only-of-type {\n",
       "        vertical-align: middle;\n",
       "    }\n",
       "\n",
       "    .dataframe tbody tr th {\n",
       "        vertical-align: top;\n",
       "    }\n",
       "\n",
       "    .dataframe thead th {\n",
       "        text-align: right;\n",
       "    }\n",
       "</style>\n",
       "<table border=\"1\" class=\"dataframe\">\n",
       "  <thead>\n",
       "    <tr style=\"text-align: right;\">\n",
       "      <th></th>\n",
       "      <th>id</th>\n",
       "      <th>vendor_id</th>\n",
       "      <th>pickup_datetime</th>\n",
       "      <th>dropoff_datetime</th>\n",
       "      <th>passenger_count</th>\n",
       "      <th>pickup_longitude</th>\n",
       "      <th>pickup_latitude</th>\n",
       "      <th>dropoff_longitude</th>\n",
       "      <th>dropoff_latitude</th>\n",
       "      <th>store_and_fwd_flag</th>\n",
       "      <th>trip_duration</th>\n",
       "      <th>haversine_distance</th>\n",
       "    </tr>\n",
       "  </thead>\n",
       "  <tbody>\n",
       "    <tr>\n",
       "      <th>0</th>\n",
       "      <td>id2875421</td>\n",
       "      <td>2</td>\n",
       "      <td>2016-03-14 17:24:55</td>\n",
       "      <td>2016-03-14 17:32:30</td>\n",
       "      <td>1</td>\n",
       "      <td>-73.982155</td>\n",
       "      <td>40.767937</td>\n",
       "      <td>-73.964630</td>\n",
       "      <td>40.765602</td>\n",
       "      <td>N</td>\n",
       "      <td>455</td>\n",
       "      <td>1.498521</td>\n",
       "    </tr>\n",
       "    <tr>\n",
       "      <th>1</th>\n",
       "      <td>id2377394</td>\n",
       "      <td>1</td>\n",
       "      <td>2016-06-12 00:43:35</td>\n",
       "      <td>2016-06-12 00:54:38</td>\n",
       "      <td>1</td>\n",
       "      <td>-73.980415</td>\n",
       "      <td>40.738564</td>\n",
       "      <td>-73.999481</td>\n",
       "      <td>40.731152</td>\n",
       "      <td>N</td>\n",
       "      <td>663</td>\n",
       "      <td>1.805507</td>\n",
       "    </tr>\n",
       "    <tr>\n",
       "      <th>2</th>\n",
       "      <td>id3858529</td>\n",
       "      <td>2</td>\n",
       "      <td>2016-01-19 11:35:24</td>\n",
       "      <td>2016-01-19 12:10:48</td>\n",
       "      <td>1</td>\n",
       "      <td>-73.979027</td>\n",
       "      <td>40.763939</td>\n",
       "      <td>-74.005333</td>\n",
       "      <td>40.710087</td>\n",
       "      <td>N</td>\n",
       "      <td>2124</td>\n",
       "      <td>6.385098</td>\n",
       "    </tr>\n",
       "    <tr>\n",
       "      <th>3</th>\n",
       "      <td>id3504673</td>\n",
       "      <td>2</td>\n",
       "      <td>2016-04-06 19:32:31</td>\n",
       "      <td>2016-04-06 19:39:40</td>\n",
       "      <td>1</td>\n",
       "      <td>-74.010040</td>\n",
       "      <td>40.719971</td>\n",
       "      <td>-74.012268</td>\n",
       "      <td>40.706718</td>\n",
       "      <td>N</td>\n",
       "      <td>429</td>\n",
       "      <td>1.485498</td>\n",
       "    </tr>\n",
       "    <tr>\n",
       "      <th>4</th>\n",
       "      <td>id2181028</td>\n",
       "      <td>2</td>\n",
       "      <td>2016-03-26 13:30:55</td>\n",
       "      <td>2016-03-26 13:38:10</td>\n",
       "      <td>1</td>\n",
       "      <td>-73.973053</td>\n",
       "      <td>40.793209</td>\n",
       "      <td>-73.972923</td>\n",
       "      <td>40.782520</td>\n",
       "      <td>N</td>\n",
       "      <td>435</td>\n",
       "      <td>1.188588</td>\n",
       "    </tr>\n",
       "  </tbody>\n",
       "</table>\n",
       "</div>"
      ],
      "text/plain": [
       "          id  vendor_id     pickup_datetime    dropoff_datetime  \\\n",
       "0  id2875421          2 2016-03-14 17:24:55 2016-03-14 17:32:30   \n",
       "1  id2377394          1 2016-06-12 00:43:35 2016-06-12 00:54:38   \n",
       "2  id3858529          2 2016-01-19 11:35:24 2016-01-19 12:10:48   \n",
       "3  id3504673          2 2016-04-06 19:32:31 2016-04-06 19:39:40   \n",
       "4  id2181028          2 2016-03-26 13:30:55 2016-03-26 13:38:10   \n",
       "\n",
       "   passenger_count  pickup_longitude  pickup_latitude  dropoff_longitude  \\\n",
       "0                1        -73.982155        40.767937         -73.964630   \n",
       "1                1        -73.980415        40.738564         -73.999481   \n",
       "2                1        -73.979027        40.763939         -74.005333   \n",
       "3                1        -74.010040        40.719971         -74.012268   \n",
       "4                1        -73.973053        40.793209         -73.972923   \n",
       "\n",
       "   dropoff_latitude store_and_fwd_flag  trip_duration  haversine_distance  \n",
       "0         40.765602                  N            455            1.498521  \n",
       "1         40.731152                  N            663            1.805507  \n",
       "2         40.710087                  N           2124            6.385098  \n",
       "3         40.706718                  N            429            1.485498  \n",
       "4         40.782520                  N            435            1.188588  "
      ]
     },
     "execution_count": 52,
     "metadata": {},
     "output_type": "execute_result"
    }
   ],
   "source": [
    "df_train.head()"
   ]
  },
  {
   "cell_type": "code",
   "execution_count": 54,
   "metadata": {
    "_cell_guid": "60a0e8a4-a032-453f-b5eb-318e309c5e22",
    "_execution_state": "idle",
    "_uuid": "b3c01afa7e1cf54dd6a49a0f34841b768162763f"
   },
   "outputs": [
    {
     "data": {
      "text/plain": [
       "count    1.458640e+06\n",
       "mean     3.440841e+00\n",
       "std      4.296499e+00\n",
       "min      0.000000e+00\n",
       "25%      1.231834e+00\n",
       "50%      2.093711e+00\n",
       "75%      3.875323e+00\n",
       "max      1.240909e+03\n",
       "Name: haversine_distance, dtype: float64"
      ]
     },
     "execution_count": 54,
     "metadata": {},
     "output_type": "execute_result"
    }
   ],
   "source": [
    "df_train[\"haversine_distance\"].describe()"
   ]
  },
  {
   "cell_type": "code",
   "execution_count": null,
   "metadata": {
    "_cell_guid": "5d09934e-732d-4926-9f52-26f4ddebe85e",
    "_execution_state": "idle",
    "_uuid": "8424cffb4ea926cee840c0be798c10100edee3e3"
   },
   "outputs": [],
   "source": []
  },
  {
   "cell_type": "markdown",
   "metadata": {
    "_cell_guid": "8a1d7392-d83d-415c-bc88-3d3bce8a3d86",
    "_uuid": "81baf0d8e4808a6b45b84a56b923369ef22b4a6b"
   },
   "source": [
    "_Plot of the haversine distance vs. the trip duration._"
   ]
  },
  {
   "cell_type": "code",
   "execution_count": 55,
   "metadata": {
    "_cell_guid": "81ea7668-579e-488a-b7ff-06753a882a81",
    "_execution_state": "idle",
    "_uuid": "8fb8a6a0d50264fd5bb3ca8e4096e8a21d4ed41e"
   },
   "outputs": [
    {
     "data": {
      "text/plain": [
       "<matplotlib.axes._subplots.AxesSubplot at 0x1180d0f60>"
      ]
     },
     "execution_count": 55,
     "metadata": {},
     "output_type": "execute_result"
    },
    {
     "data": {
      "image/png": "[encoded data removed]",
      "text/plain": [
       "<matplotlib.figure.Figure at 0x1180d0828>"
      ]
     },
     "metadata": {},
     "output_type": "display_data"
    }
   ],
   "source": [
    "plt.figure(figsize=(10,10))\n",
    "sns.regplot(x=\"haversine_distance\", y=\"trip_duration\", data=df_train)"
   ]
  },
  {
   "cell_type": "markdown",
   "metadata": {
    "_execution_state": "idle",
    "_uuid": "6c6660b700e35fbfdaa1893b8b1ded4079aaaeeb"
   },
   "source": [
    "![](http://kartikkannapur.github.io//images/haversine_distance_1.png)"
   ]
  },
  {
   "cell_type": "markdown",
   "metadata": {
    "_cell_guid": "6cc99581-e89d-41e6-a4c5-1eed4e3a7956",
    "_uuid": "850972a5053efe630ccb6bb71f9e39710495078a"
   },
   "source": [
    "_The presence of outliers in the train dataset(long tail in the haversine distance) might have caused the deviation in the regression line. It would be interesting to explore different methods for outlier detection._"
   ]
  },
  {
   "cell_type": "code",
   "execution_count": 56,
   "metadata": {
    "_cell_guid": "f54192eb-dbb7-4201-81dc-8938185dbcfa",
    "_execution_state": "idle",
    "_uuid": "606aa222cd2ecacffc7a824c87a6e154599510ab",
    "scrolled": true
   },
   "outputs": [
    {
     "data": {
      "text/html": [
       "<div>\n",
       "<style scoped>\n",
       "    .dataframe tbody tr th:only-of-type {\n",
       "        vertical-align: middle;\n",
       "    }\n",
       "\n",
       "    .dataframe tbody tr th {\n",
       "        vertical-align: top;\n",
       "    }\n",
       "\n",
       "    .dataframe thead th {\n",
       "        text-align: right;\n",
       "    }\n",
       "</style>\n",
       "<table border=\"1\" class=\"dataframe\">\n",
       "  <thead>\n",
       "    <tr style=\"text-align: right;\">\n",
       "      <th></th>\n",
       "      <th>id</th>\n",
       "      <th>vendor_id</th>\n",
       "      <th>pickup_datetime</th>\n",
       "      <th>dropoff_datetime</th>\n",
       "      <th>passenger_count</th>\n",
       "      <th>pickup_longitude</th>\n",
       "      <th>pickup_latitude</th>\n",
       "      <th>dropoff_longitude</th>\n",
       "      <th>dropoff_latitude</th>\n",
       "      <th>store_and_fwd_flag</th>\n",
       "      <th>trip_duration</th>\n",
       "      <th>haversine_distance</th>\n",
       "    </tr>\n",
       "  </thead>\n",
       "  <tbody>\n",
       "    <tr>\n",
       "      <th>14502</th>\n",
       "      <td>id1092161</td>\n",
       "      <td>1</td>\n",
       "      <td>2016-04-15 22:35:08</td>\n",
       "      <td>2016-04-16 00:34:21</td>\n",
       "      <td>1</td>\n",
       "      <td>-73.781792</td>\n",
       "      <td>40.644718</td>\n",
       "      <td>-72.711395</td>\n",
       "      <td>41.311520</td>\n",
       "      <td>N</td>\n",
       "      <td>7153</td>\n",
       "      <td>116.496424</td>\n",
       "    </tr>\n",
       "    <tr>\n",
       "      <th>114376</th>\n",
       "      <td>id1311087</td>\n",
       "      <td>1</td>\n",
       "      <td>2016-02-29 12:16:29</td>\n",
       "      <td>2016-02-29 18:47:09</td>\n",
       "      <td>3</td>\n",
       "      <td>-75.455917</td>\n",
       "      <td>39.803932</td>\n",
       "      <td>-73.796021</td>\n",
       "      <td>40.707726</td>\n",
       "      <td>N</td>\n",
       "      <td>23440</td>\n",
       "      <td>173.029358</td>\n",
       "    </tr>\n",
       "    <tr>\n",
       "      <th>184925</th>\n",
       "      <td>id2306955</td>\n",
       "      <td>1</td>\n",
       "      <td>2016-05-07 18:58:53</td>\n",
       "      <td>2016-05-07 19:12:05</td>\n",
       "      <td>1</td>\n",
       "      <td>-72.809669</td>\n",
       "      <td>51.881084</td>\n",
       "      <td>-73.987228</td>\n",
       "      <td>40.750599</td>\n",
       "      <td>N</td>\n",
       "      <td>792</td>\n",
       "      <td>1240.908677</td>\n",
       "    </tr>\n",
       "    <tr>\n",
       "      <th>275644</th>\n",
       "      <td>id0978162</td>\n",
       "      <td>1</td>\n",
       "      <td>2016-02-24 16:20:59</td>\n",
       "      <td>2016-02-24 16:35:34</td>\n",
       "      <td>4</td>\n",
       "      <td>-75.354332</td>\n",
       "      <td>34.712234</td>\n",
       "      <td>-73.834923</td>\n",
       "      <td>32.181141</td>\n",
       "      <td>N</td>\n",
       "      <td>875</td>\n",
       "      <td>314.764203</td>\n",
       "    </tr>\n",
       "    <tr>\n",
       "      <th>283102</th>\n",
       "      <td>id2778014</td>\n",
       "      <td>2</td>\n",
       "      <td>2016-01-17 16:43:09</td>\n",
       "      <td>2016-01-17 16:50:16</td>\n",
       "      <td>1</td>\n",
       "      <td>-73.997086</td>\n",
       "      <td>40.728924</td>\n",
       "      <td>-72.671150</td>\n",
       "      <td>40.614220</td>\n",
       "      <td>N</td>\n",
       "      <td>427</td>\n",
       "      <td>112.548872</td>\n",
       "    </tr>\n",
       "    <tr>\n",
       "      <th>377068</th>\n",
       "      <td>id0116374</td>\n",
       "      <td>1</td>\n",
       "      <td>2016-04-02 20:33:19</td>\n",
       "      <td>2016-04-02 20:38:01</td>\n",
       "      <td>1</td>\n",
       "      <td>-74.007095</td>\n",
       "      <td>40.717113</td>\n",
       "      <td>-76.963242</td>\n",
       "      <td>38.946033</td>\n",
       "      <td>N</td>\n",
       "      <td>282</td>\n",
       "      <td>320.125775</td>\n",
       "    </tr>\n",
       "    <tr>\n",
       "      <th>397526</th>\n",
       "      <td>id0982904</td>\n",
       "      <td>1</td>\n",
       "      <td>2016-04-28 13:32:14</td>\n",
       "      <td>2016-04-28 14:14:09</td>\n",
       "      <td>2</td>\n",
       "      <td>-73.870682</td>\n",
       "      <td>40.773598</td>\n",
       "      <td>-79.817978</td>\n",
       "      <td>38.963852</td>\n",
       "      <td>N</td>\n",
       "      <td>2515</td>\n",
       "      <td>545.853499</td>\n",
       "    </tr>\n",
       "    <tr>\n",
       "      <th>512980</th>\n",
       "      <td>id2066082</td>\n",
       "      <td>1</td>\n",
       "      <td>2016-01-25 23:53:17</td>\n",
       "      <td>2016-01-26 01:25:46</td>\n",
       "      <td>1</td>\n",
       "      <td>-73.877716</td>\n",
       "      <td>40.772167</td>\n",
       "      <td>-72.905891</td>\n",
       "      <td>41.319832</td>\n",
       "      <td>N</td>\n",
       "      <td>5549</td>\n",
       "      <td>101.736296</td>\n",
       "    </tr>\n",
       "    <tr>\n",
       "      <th>595540</th>\n",
       "      <td>id1723416</td>\n",
       "      <td>1</td>\n",
       "      <td>2016-03-20 21:07:56</td>\n",
       "      <td>2016-03-20 21:12:35</td>\n",
       "      <td>1</td>\n",
       "      <td>-78.547401</td>\n",
       "      <td>40.817131</td>\n",
       "      <td>-79.786133</td>\n",
       "      <td>40.917637</td>\n",
       "      <td>N</td>\n",
       "      <td>279</td>\n",
       "      <td>104.759971</td>\n",
       "    </tr>\n",
       "    <tr>\n",
       "      <th>644165</th>\n",
       "      <td>id0401529</td>\n",
       "      <td>2</td>\n",
       "      <td>2016-06-02 15:19:35</td>\n",
       "      <td>2016-06-02 15:32:59</td>\n",
       "      <td>1</td>\n",
       "      <td>-73.980751</td>\n",
       "      <td>40.757111</td>\n",
       "      <td>-74.240051</td>\n",
       "      <td>38.478298</td>\n",
       "      <td>N</td>\n",
       "      <td>804</td>\n",
       "      <td>254.363523</td>\n",
       "    </tr>\n",
       "    <tr>\n",
       "      <th>910072</th>\n",
       "      <td>id1146400</td>\n",
       "      <td>1</td>\n",
       "      <td>2016-02-15 18:57:32</td>\n",
       "      <td>2016-02-15 19:02:35</td>\n",
       "      <td>2</td>\n",
       "      <td>-73.989914</td>\n",
       "      <td>40.756634</td>\n",
       "      <td>-70.346077</td>\n",
       "      <td>36.398121</td>\n",
       "      <td>N</td>\n",
       "      <td>303</td>\n",
       "      <td>578.842818</td>\n",
       "    </tr>\n",
       "    <tr>\n",
       "      <th>923793</th>\n",
       "      <td>id1001696</td>\n",
       "      <td>1</td>\n",
       "      <td>2016-02-24 21:02:32</td>\n",
       "      <td>2016-02-24 21:25:57</td>\n",
       "      <td>1</td>\n",
       "      <td>-73.972366</td>\n",
       "      <td>40.758633</td>\n",
       "      <td>-79.553535</td>\n",
       "      <td>43.674000</td>\n",
       "      <td>N</td>\n",
       "      <td>1405</td>\n",
       "      <td>562.235188</td>\n",
       "    </tr>\n",
       "    <tr>\n",
       "      <th>974378</th>\n",
       "      <td>id1510552</td>\n",
       "      <td>2</td>\n",
       "      <td>2016-01-06 20:40:52</td>\n",
       "      <td>2016-01-06 20:51:03</td>\n",
       "      <td>5</td>\n",
       "      <td>-71.799896</td>\n",
       "      <td>35.081532</td>\n",
       "      <td>-79.352837</td>\n",
       "      <td>40.436329</td>\n",
       "      <td>N</td>\n",
       "      <td>611</td>\n",
       "      <td>891.214103</td>\n",
       "    </tr>\n",
       "    <tr>\n",
       "      <th>978647</th>\n",
       "      <td>id0687776</td>\n",
       "      <td>2</td>\n",
       "      <td>2016-04-28 20:22:43</td>\n",
       "      <td>2016-04-28 22:01:25</td>\n",
       "      <td>1</td>\n",
       "      <td>-73.991928</td>\n",
       "      <td>40.751034</td>\n",
       "      <td>-72.912292</td>\n",
       "      <td>41.388992</td>\n",
       "      <td>N</td>\n",
       "      <td>5922</td>\n",
       "      <td>114.992275</td>\n",
       "    </tr>\n",
       "    <tr>\n",
       "      <th>1013474</th>\n",
       "      <td>id3626673</td>\n",
       "      <td>1</td>\n",
       "      <td>2016-05-05 18:02:50</td>\n",
       "      <td>2016-05-05 18:18:23</td>\n",
       "      <td>1</td>\n",
       "      <td>-73.978912</td>\n",
       "      <td>40.756763</td>\n",
       "      <td>-79.338699</td>\n",
       "      <td>41.427902</td>\n",
       "      <td>N</td>\n",
       "      <td>933</td>\n",
       "      <td>455.241204</td>\n",
       "    </tr>\n",
       "    <tr>\n",
       "      <th>1060807</th>\n",
       "      <td>id0838705</td>\n",
       "      <td>1</td>\n",
       "      <td>2016-02-26 19:50:03</td>\n",
       "      <td>2016-02-26 20:08:54</td>\n",
       "      <td>1</td>\n",
       "      <td>-66.972160</td>\n",
       "      <td>44.371944</td>\n",
       "      <td>-69.048019</td>\n",
       "      <td>43.147583</td>\n",
       "      <td>N</td>\n",
       "      <td>1131</td>\n",
       "      <td>215.226573</td>\n",
       "    </tr>\n",
       "    <tr>\n",
       "      <th>1100676</th>\n",
       "      <td>id2644780</td>\n",
       "      <td>1</td>\n",
       "      <td>2016-05-03 16:24:07</td>\n",
       "      <td>2016-05-03 17:18:34</td>\n",
       "      <td>2</td>\n",
       "      <td>-73.991325</td>\n",
       "      <td>40.750023</td>\n",
       "      <td>-79.518616</td>\n",
       "      <td>43.921028</td>\n",
       "      <td>N</td>\n",
       "      <td>3267</td>\n",
       "      <td>574.875442</td>\n",
       "    </tr>\n",
       "    <tr>\n",
       "      <th>1301396</th>\n",
       "      <td>id1216866</td>\n",
       "      <td>1</td>\n",
       "      <td>2016-03-26 22:01:54</td>\n",
       "      <td>2016-03-27 00:47:16</td>\n",
       "      <td>1</td>\n",
       "      <td>-73.981491</td>\n",
       "      <td>40.773251</td>\n",
       "      <td>-76.135719</td>\n",
       "      <td>40.243626</td>\n",
       "      <td>N</td>\n",
       "      <td>9922</td>\n",
       "      <td>191.402792</td>\n",
       "    </tr>\n",
       "    <tr>\n",
       "      <th>1416336</th>\n",
       "      <td>id3795134</td>\n",
       "      <td>1</td>\n",
       "      <td>2016-03-21 20:54:00</td>\n",
       "      <td>2016-03-22 01:43:23</td>\n",
       "      <td>3</td>\n",
       "      <td>-75.238327</td>\n",
       "      <td>39.923027</td>\n",
       "      <td>-73.922577</td>\n",
       "      <td>40.610130</td>\n",
       "      <td>N</td>\n",
       "      <td>17363</td>\n",
       "      <td>135.275586</td>\n",
       "    </tr>\n",
       "  </tbody>\n",
       "</table>\n",
       "</div>"
      ],
      "text/plain": [
       "                id  vendor_id     pickup_datetime    dropoff_datetime  \\\n",
       "14502    id1092161          1 2016-04-15 22:35:08 2016-04-16 00:34:21   \n",
       "114376   id1311087          1 2016-02-29 12:16:29 2016-02-29 18:47:09   \n",
       "184925   id2306955          1 2016-05-07 18:58:53 2016-05-07 19:12:05   \n",
       "275644   id0978162          1 2016-02-24 16:20:59 2016-02-24 16:35:34   \n",
       "283102   id2778014          2 2016-01-17 16:43:09 2016-01-17 16:50:16   \n",
       "377068   id0116374          1 2016-04-02 20:33:19 2016-04-02 20:38:01   \n",
       "397526   id0982904          1 2016-04-28 13:32:14 2016-04-28 14:14:09   \n",
       "512980   id2066082          1 2016-01-25 23:53:17 2016-01-26 01:25:46   \n",
       "595540   id1723416          1 2016-03-20 21:07:56 2016-03-20 21:12:35   \n",
       "644165   id0401529          2 2016-06-02 15:19:35 2016-06-02 15:32:59   \n",
       "910072   id1146400          1 2016-02-15 18:57:32 2016-02-15 19:02:35   \n",
       "923793   id1001696          1 2016-02-24 21:02:32 2016-02-24 21:25:57   \n",
       "974378   id1510552          2 2016-01-06 20:40:52 2016-01-06 20:51:03   \n",
       "978647   id0687776          2 2016-04-28 20:22:43 2016-04-28 22:01:25   \n",
       "1013474  id3626673          1 2016-05-05 18:02:50 2016-05-05 18:18:23   \n",
       "1060807  id0838705          1 2016-02-26 19:50:03 2016-02-26 20:08:54   \n",
       "1100676  id2644780          1 2016-05-03 16:24:07 2016-05-03 17:18:34   \n",
       "1301396  id1216866          1 2016-03-26 22:01:54 2016-03-27 00:47:16   \n",
       "1416336  id3795134          1 2016-03-21 20:54:00 2016-03-22 01:43:23   \n",
       "\n",
       "         passenger_count  pickup_longitude  pickup_latitude  \\\n",
       "14502                  1        -73.781792        40.644718   \n",
       "114376                 3        -75.455917        39.803932   \n",
       "184925                 1        -72.809669        51.881084   \n",
       "275644                 4        -75.354332        34.712234   \n",
       "283102                 1        -73.997086        40.728924   \n",
       "377068                 1        -74.007095        40.717113   \n",
       "397526                 2        -73.870682        40.773598   \n",
       "512980                 1        -73.877716        40.772167   \n",
       "595540                 1        -78.547401        40.817131   \n",
       "644165                 1        -73.980751        40.757111   \n",
       "910072                 2        -73.989914        40.756634   \n",
       "923793                 1        -73.972366        40.758633   \n",
       "974378                 5        -71.799896        35.081532   \n",
       "978647                 1        -73.991928        40.751034   \n",
       "1013474                1        -73.978912        40.756763   \n",
       "1060807                1        -66.972160        44.371944   \n",
       "1100676                2        -73.991325        40.750023   \n",
       "1301396                1        -73.981491        40.773251   \n",
       "1416336                3        -75.238327        39.923027   \n",
       "\n",
       "         dropoff_longitude  dropoff_latitude store_and_fwd_flag  \\\n",
       "14502           -72.711395         41.311520                  N   \n",
       "114376          -73.796021         40.707726                  N   \n",
       "184925          -73.987228         40.750599                  N   \n",
       "275644          -73.834923         32.181141                  N   \n",
       "283102          -72.671150         40.614220                  N   \n",
       "377068          -76.963242         38.946033                  N   \n",
       "397526          -79.817978         38.963852                  N   \n",
       "512980          -72.905891         41.319832                  N   \n",
       "595540          -79.786133         40.917637                  N   \n",
       "644165          -74.240051         38.478298                  N   \n",
       "910072          -70.346077         36.398121                  N   \n",
       "923793          -79.553535         43.674000                  N   \n",
       "974378          -79.352837         40.436329                  N   \n",
       "978647          -72.912292         41.388992                  N   \n",
       "1013474         -79.338699         41.427902                  N   \n",
       "1060807         -69.048019         43.147583                  N   \n",
       "1100676         -79.518616         43.921028                  N   \n",
       "1301396         -76.135719         40.243626                  N   \n",
       "1416336         -73.922577         40.610130                  N   \n",
       "\n",
       "         trip_duration  haversine_distance  \n",
       "14502             7153          116.496424  \n",
       "114376           23440          173.029358  \n",
       "184925             792         1240.908677  \n",
       "275644             875          314.764203  \n",
       "283102             427          112.548872  \n",
       "377068             282          320.125775  \n",
       "397526            2515          545.853499  \n",
       "512980            5549          101.736296  \n",
       "595540             279          104.759971  \n",
       "644165             804          254.363523  \n",
       "910072             303          578.842818  \n",
       "923793            1405          562.235188  \n",
       "974378             611          891.214103  \n",
       "978647            5922          114.992275  \n",
       "1013474            933          455.241204  \n",
       "1060807           1131          215.226573  \n",
       "1100676           3267          574.875442  \n",
       "1301396           9922          191.402792  \n",
       "1416336          17363          135.275586  "
      ]
     },
     "execution_count": 56,
     "metadata": {},
     "output_type": "execute_result"
    }
   ],
   "source": [
    "df_train[df_train[\"haversine_distance\"] > 100]"
   ]
  },
  {
   "cell_type": "code",
   "execution_count": 57,
   "metadata": {
    "_cell_guid": "7eed25c4-b75d-472d-9be4-32a6ce3d36b1",
    "_execution_state": "idle",
    "_uuid": "e386d1d1d75352b71f32ea10a08e1acff27e7aab"
   },
   "outputs": [
    {
     "data": {
      "text/plain": [
       "<matplotlib.axes._subplots.AxesSubplot at 0x115cc3160>"
      ]
     },
     "execution_count": 57,
     "metadata": {},
     "output_type": "execute_result"
    },
    {
     "data": {
      "image/png": "[encoded data removed]",
      "text/plain": [
       "<matplotlib.figure.Figure at 0x1180d0e80>"
      ]
     },
     "metadata": {},
     "output_type": "display_data"
    }
   ],
   "source": [
    "plt.figure(figsize=(10,10))\n",
    "sns.regplot(x=\"haversine_distance\", y=\"trip_duration\", data=df_train[df_train[\"haversine_distance\"] < 100])"
   ]
  },
  {
   "cell_type": "markdown",
   "metadata": {
    "_cell_guid": "c3c4b8f3-b423-4f55-920c-4fe4953a0796",
    "_execution_state": "idle",
    "_uuid": "8d689b2a8e90592cab5a8686700bee07d7a1ea63",
    "collapsed": true
   },
   "source": [
    "![](http://kartikkannapur.github.io//images/haversine_distance_2.png)"
   ]
  },
  {
   "cell_type": "code",
   "execution_count": null,
   "metadata": {
    "_execution_state": "idle",
    "_uuid": "d021dda4c8f5e0c96a4c39161574bb22bf14e830"
   },
   "outputs": [],
   "source": []
  },
  {
   "cell_type": "markdown",
   "metadata": {
    "_cell_guid": "22314f39-54ba-4de9-9e2a-7a7aee29bfb5",
    "_uuid": "0b3a8199b00ebad6fb1b5915e0f08533ecc3a2bc"
   },
   "source": [
    "### 3.7 Exploring the number of trips at each timestamp feature in the train dataset"
   ]
  },
  {
   "cell_type": "markdown",
   "metadata": {
    "_cell_guid": "c5076b86-a9ba-4a75-bd0d-63f7ee9af322",
    "_uuid": "0778db79482f6dffad642f4c9f8b49ee39c3657f"
   },
   "source": [
    "_Once the train dataset has been cleaned, based on the outliers in column - trip duration(that consisted of a few trips lasting for 20 days or more), we can now explore the timestamps on a hourly-weekly basis for further exploratory analysis._"
   ]
  },
  {
   "cell_type": "markdown",
   "metadata": {
    "_cell_guid": "7cc0e230-c313-452f-a85b-8ebc30295b62",
    "_uuid": "1b7282cc5c7dd81586f20252182119eea4197132"
   },
   "source": [
    "_The train dataset contains trips that range from 2016-01-01 to 2016-06-30, i.e. 6 months worth of data._"
   ]
  },
  {
   "cell_type": "code",
   "execution_count": 58,
   "metadata": {
    "_cell_guid": "1936b322-011c-4c93-a5cb-4ece2bd25cb5",
    "_execution_state": "idle",
    "_uuid": "ba550eeeece39b6060e00c4508216285c42c8bcc",
    "scrolled": true
   },
   "outputs": [
    {
     "name": "stdout",
     "output_type": "stream",
     "text": [
      "Train dataset start date:  2016-01-01 00:00:17\n",
      "Train dataset end date:  2016-06-30 23:59:39\n"
     ]
    }
   ],
   "source": [
    "print(\"Train dataset start date: \", min(df_train[\"pickup_datetime\"]))\n",
    "print(\"Train dataset end date: \", max(df_train[\"pickup_datetime\"]))"
   ]
  },
  {
   "cell_type": "code",
   "execution_count": 59,
   "metadata": {
    "_cell_guid": "bd57c2ec-63b6-498a-8623-8f547b7dd1e0",
    "_execution_state": "idle",
    "_uuid": "e5e65652582eb1e7b163b541831c22b02edc6936"
   },
   "outputs": [
    {
     "name": "stderr",
     "output_type": "stream",
     "text": [
      "/Users/celsadiaz/.pyenv/versions/3.6.2/envs/redi/lib/python3.6/site-packages/ipykernel_launcher.py:5: SettingWithCopyWarning: \n",
      "A value is trying to be set on a copy of a slice from a DataFrame.\n",
      "Try using .loc[row_indexer,col_indexer] = value instead\n",
      "\n",
      "See the caveats in the documentation: http://pandas.pydata.org/pandas-docs/stable/indexing.html#indexing-view-versus-copy\n",
      "  \"\"\"\n",
      "/Users/celsadiaz/.pyenv/versions/3.6.2/envs/redi/lib/python3.6/site-packages/ipykernel_launcher.py:6: SettingWithCopyWarning: \n",
      "A value is trying to be set on a copy of a slice from a DataFrame.\n",
      "Try using .loc[row_indexer,col_indexer] = value instead\n",
      "\n",
      "See the caveats in the documentation: http://pandas.pydata.org/pandas-docs/stable/indexing.html#indexing-view-versus-copy\n",
      "  \n",
      "/Users/celsadiaz/.pyenv/versions/3.6.2/envs/redi/lib/python3.6/site-packages/ipykernel_launcher.py:7: SettingWithCopyWarning: \n",
      "A value is trying to be set on a copy of a slice from a DataFrame.\n",
      "Try using .loc[row_indexer,col_indexer] = value instead\n",
      "\n",
      "See the caveats in the documentation: http://pandas.pydata.org/pandas-docs/stable/indexing.html#indexing-view-versus-copy\n",
      "  import sys\n",
      "/Users/celsadiaz/.pyenv/versions/3.6.2/envs/redi/lib/python3.6/site-packages/ipykernel_launcher.py:8: SettingWithCopyWarning: \n",
      "A value is trying to be set on a copy of a slice from a DataFrame.\n",
      "Try using .loc[row_indexer,col_indexer] = value instead\n",
      "\n",
      "See the caveats in the documentation: http://pandas.pydata.org/pandas-docs/stable/indexing.html#indexing-view-versus-copy\n",
      "  \n"
     ]
    }
   ],
   "source": [
    "# #Conversion to pandas to_datetime has already been performed in section 5.5\n",
    "# #df_train[\"pickup_datetime\"] = pd.to_datetime(df_train['pickup_datetime'])\n",
    "\n",
    "\n",
    "df_train[\"pickup_dayofweek\"] = df_train.pickup_datetime.dt.dayofweek\n",
    "df_train[\"pickup_weekday_name\"] = df_train.pickup_datetime.dt.weekday_name\n",
    "df_train[\"pickup_hour\"] = df_train.pickup_datetime.dt.hour\n",
    "df_train[\"pickup_month\"] = df_train.pickup_datetime.dt.month"
   ]
  },
  {
   "cell_type": "code",
   "execution_count": 60,
   "metadata": {
    "_cell_guid": "b55e4912-0069-450a-831d-b0e7e6941dde",
    "_execution_state": "idle",
    "_uuid": "eb3b870e5f3e5406da757a9062b03a3e7d3c2558"
   },
   "outputs": [
    {
     "data": {
      "text/html": [
       "<div>\n",
       "<style scoped>\n",
       "    .dataframe tbody tr th:only-of-type {\n",
       "        vertical-align: middle;\n",
       "    }\n",
       "\n",
       "    .dataframe tbody tr th {\n",
       "        vertical-align: top;\n",
       "    }\n",
       "\n",
       "    .dataframe thead th {\n",
       "        text-align: right;\n",
       "    }\n",
       "</style>\n",
       "<table border=\"1\" class=\"dataframe\">\n",
       "  <thead>\n",
       "    <tr style=\"text-align: right;\">\n",
       "      <th></th>\n",
       "      <th>id</th>\n",
       "      <th>vendor_id</th>\n",
       "      <th>pickup_datetime</th>\n",
       "      <th>dropoff_datetime</th>\n",
       "      <th>passenger_count</th>\n",
       "      <th>pickup_longitude</th>\n",
       "      <th>pickup_latitude</th>\n",
       "      <th>dropoff_longitude</th>\n",
       "      <th>dropoff_latitude</th>\n",
       "      <th>store_and_fwd_flag</th>\n",
       "      <th>trip_duration</th>\n",
       "      <th>haversine_distance</th>\n",
       "      <th>pickup_dayofweek</th>\n",
       "      <th>pickup_weekday_name</th>\n",
       "      <th>pickup_hour</th>\n",
       "      <th>pickup_month</th>\n",
       "    </tr>\n",
       "  </thead>\n",
       "  <tbody>\n",
       "    <tr>\n",
       "      <th>0</th>\n",
       "      <td>id2875421</td>\n",
       "      <td>2</td>\n",
       "      <td>2016-03-14 17:24:55</td>\n",
       "      <td>2016-03-14 17:32:30</td>\n",
       "      <td>1</td>\n",
       "      <td>-73.982155</td>\n",
       "      <td>40.767937</td>\n",
       "      <td>-73.964630</td>\n",
       "      <td>40.765602</td>\n",
       "      <td>N</td>\n",
       "      <td>455</td>\n",
       "      <td>1.498521</td>\n",
       "      <td>0</td>\n",
       "      <td>Monday</td>\n",
       "      <td>17</td>\n",
       "      <td>3</td>\n",
       "    </tr>\n",
       "    <tr>\n",
       "      <th>1</th>\n",
       "      <td>id2377394</td>\n",
       "      <td>1</td>\n",
       "      <td>2016-06-12 00:43:35</td>\n",
       "      <td>2016-06-12 00:54:38</td>\n",
       "      <td>1</td>\n",
       "      <td>-73.980415</td>\n",
       "      <td>40.738564</td>\n",
       "      <td>-73.999481</td>\n",
       "      <td>40.731152</td>\n",
       "      <td>N</td>\n",
       "      <td>663</td>\n",
       "      <td>1.805507</td>\n",
       "      <td>6</td>\n",
       "      <td>Sunday</td>\n",
       "      <td>0</td>\n",
       "      <td>6</td>\n",
       "    </tr>\n",
       "    <tr>\n",
       "      <th>2</th>\n",
       "      <td>id3858529</td>\n",
       "      <td>2</td>\n",
       "      <td>2016-01-19 11:35:24</td>\n",
       "      <td>2016-01-19 12:10:48</td>\n",
       "      <td>1</td>\n",
       "      <td>-73.979027</td>\n",
       "      <td>40.763939</td>\n",
       "      <td>-74.005333</td>\n",
       "      <td>40.710087</td>\n",
       "      <td>N</td>\n",
       "      <td>2124</td>\n",
       "      <td>6.385098</td>\n",
       "      <td>1</td>\n",
       "      <td>Tuesday</td>\n",
       "      <td>11</td>\n",
       "      <td>1</td>\n",
       "    </tr>\n",
       "    <tr>\n",
       "      <th>3</th>\n",
       "      <td>id3504673</td>\n",
       "      <td>2</td>\n",
       "      <td>2016-04-06 19:32:31</td>\n",
       "      <td>2016-04-06 19:39:40</td>\n",
       "      <td>1</td>\n",
       "      <td>-74.010040</td>\n",
       "      <td>40.719971</td>\n",
       "      <td>-74.012268</td>\n",
       "      <td>40.706718</td>\n",
       "      <td>N</td>\n",
       "      <td>429</td>\n",
       "      <td>1.485498</td>\n",
       "      <td>2</td>\n",
       "      <td>Wednesday</td>\n",
       "      <td>19</td>\n",
       "      <td>4</td>\n",
       "    </tr>\n",
       "    <tr>\n",
       "      <th>4</th>\n",
       "      <td>id2181028</td>\n",
       "      <td>2</td>\n",
       "      <td>2016-03-26 13:30:55</td>\n",
       "      <td>2016-03-26 13:38:10</td>\n",
       "      <td>1</td>\n",
       "      <td>-73.973053</td>\n",
       "      <td>40.793209</td>\n",
       "      <td>-73.972923</td>\n",
       "      <td>40.782520</td>\n",
       "      <td>N</td>\n",
       "      <td>435</td>\n",
       "      <td>1.188588</td>\n",
       "      <td>5</td>\n",
       "      <td>Saturday</td>\n",
       "      <td>13</td>\n",
       "      <td>3</td>\n",
       "    </tr>\n",
       "  </tbody>\n",
       "</table>\n",
       "</div>"
      ],
      "text/plain": [
       "          id  vendor_id     pickup_datetime    dropoff_datetime  \\\n",
       "0  id2875421          2 2016-03-14 17:24:55 2016-03-14 17:32:30   \n",
       "1  id2377394          1 2016-06-12 00:43:35 2016-06-12 00:54:38   \n",
       "2  id3858529          2 2016-01-19 11:35:24 2016-01-19 12:10:48   \n",
       "3  id3504673          2 2016-04-06 19:32:31 2016-04-06 19:39:40   \n",
       "4  id2181028          2 2016-03-26 13:30:55 2016-03-26 13:38:10   \n",
       "\n",
       "   passenger_count  pickup_longitude  pickup_latitude  dropoff_longitude  \\\n",
       "0                1        -73.982155        40.767937         -73.964630   \n",
       "1                1        -73.980415        40.738564         -73.999481   \n",
       "2                1        -73.979027        40.763939         -74.005333   \n",
       "3                1        -74.010040        40.719971         -74.012268   \n",
       "4                1        -73.973053        40.793209         -73.972923   \n",
       "\n",
       "   dropoff_latitude store_and_fwd_flag  trip_duration  haversine_distance  \\\n",
       "0         40.765602                  N            455            1.498521   \n",
       "1         40.731152                  N            663            1.805507   \n",
       "2         40.710087                  N           2124            6.385098   \n",
       "3         40.706718                  N            429            1.485498   \n",
       "4         40.782520                  N            435            1.188588   \n",
       "\n",
       "   pickup_dayofweek pickup_weekday_name  pickup_hour  pickup_month  \n",
       "0                 0              Monday           17             3  \n",
       "1                 6              Sunday            0             6  \n",
       "2                 1             Tuesday           11             1  \n",
       "3                 2           Wednesday           19             4  \n",
       "4                 5            Saturday           13             3  "
      ]
     },
     "execution_count": 60,
     "metadata": {},
     "output_type": "execute_result"
    }
   ],
   "source": [
    "df_train.head()"
   ]
  },
  {
   "cell_type": "code",
   "execution_count": null,
   "metadata": {
    "_cell_guid": "80511fb3-25ca-4fc3-8734-46d08e65b59a",
    "_execution_state": "idle",
    "_uuid": "8e70aba7ebe81266bcd36d946b63059d7d58b8c9"
   },
   "outputs": [],
   "source": []
  },
  {
   "cell_type": "markdown",
   "metadata": {
    "_cell_guid": "d5ca410e-11f3-4e8e-8eeb-8916f347ddce",
    "_uuid": "c2fa97835f130401245836b01e85d34c8bc249d7"
   },
   "source": [
    "_Distribution of trips across - months in the six month rage, day of the week and hour in a day._\n",
    "\n",
    "_We can observe that there are more trips on Friday's and Saturday's, than on any other weekday, and this make sense (TGIF :)); On a 24 hour clock, the number of trips is the highest between 17:00 hrs - 22:00 hrs and reduces post 01:00 hrs; On a six month time range, the number of trips are almost evenly distributed, with none of the months having a surprising spike in the dataset. _"
   ]
  },
  {
   "cell_type": "code",
   "execution_count": 61,
   "metadata": {
    "_cell_guid": "cdedbbd5-8930-4770-871d-95cc49de44ab",
    "_execution_state": "idle",
    "_uuid": "6f1088b3c16e7633ea6017be6c2acfffbe81d2aa"
   },
   "outputs": [
    {
     "data": {
      "image/png": "[encoded data removed]",
      "text/plain": [
       "<matplotlib.figure.Figure at 0x1186669e8>"
      ]
     },
     "metadata": {},
     "output_type": "display_data"
    }
   ],
   "source": [
    "plt.figure(figsize=(12,8))\n",
    "sns.countplot(x=\"pickup_weekday_name\", data=df_train)\n",
    "plt.show()"
   ]
  },
  {
   "cell_type": "code",
   "execution_count": 62,
   "metadata": {
    "_cell_guid": "14f594c3-406b-4687-98e3-20a847fafdab",
    "_execution_state": "idle",
    "_uuid": "b547b06288e50db04a2b47167b329545e4dea288"
   },
   "outputs": [
    {
     "data": {
      "image/png": "[encoded data removed]",
      "text/plain": [
       "<matplotlib.figure.Figure at 0x1195780b8>"
      ]
     },
     "metadata": {},
     "output_type": "display_data"
    }
   ],
   "source": [
    "plt.figure(figsize=(12,8))\n",
    "sns.countplot(x=\"pickup_hour\", data=df_train)\n",
    "plt.show()"
   ]
  },
  {
   "cell_type": "code",
   "execution_count": 63,
   "metadata": {
    "_cell_guid": "87e94881-c84c-490f-9817-cb702caf09d0",
    "_execution_state": "idle",
    "_uuid": "209291cb99bb53950c417fd888c87821a258ae7c"
   },
   "outputs": [
    {
     "data": {
      "image/png": "[encoded data removed]",
      "text/plain": [
       "<matplotlib.figure.Figure at 0x118119470>"
      ]
     },
     "metadata": {},
     "output_type": "display_data"
    }
   ],
   "source": [
    "plt.figure(figsize=(12,8))\n",
    "sns.countplot(x=\"pickup_month\", data=df_train)\n",
    "plt.show()"
   ]
  },
  {
   "cell_type": "markdown",
   "metadata": {
    "_cell_guid": "44874aed-d8f0-4d50-8d92-dd5e0aa3a579",
    "_uuid": "be6429e783aad25d88783649020418f6bf95f2a9"
   },
   "source": [
    "_It would now be interesting to visualize the behaviour of the trip duration variable, based on the timestamp features._"
   ]
  },
  {
   "cell_type": "code",
   "execution_count": null,
   "metadata": {
    "_cell_guid": "ef4300a4-1c1c-4c46-8c98-255293dbfdcf",
    "_execution_state": "idle",
    "_uuid": "e15d78e1e8ef0da058d14a9f0dc8c8995252dbfd"
   },
   "outputs": [],
   "source": []
  },
  {
   "cell_type": "markdown",
   "metadata": {
    "_cell_guid": "114c305b-6cef-4d4e-afbb-784c69d987a2",
    "_uuid": "c3e64971a1065e55af7da9baf4f705ae59013b1d"
   },
   "source": [
    "### 3.8 Exploring the behaviour of trip_duration based on the number of trips for each timestamp feature in the train dataset"
   ]
  },
  {
   "cell_type": "markdown",
   "metadata": {
    "_cell_guid": "8310e729-f4f0-45f1-b9d4-b39ea7983822",
    "_uuid": "99b2517d1bd208ba549270212f208559ffad326d"
   },
   "source": [
    "_In order to visualize the trip duration behaviour, it would be important to aggregate the trip duration at each of the timnestamp feature levels. Since there could be outliers in the trip duration variable(and outlier detection has not yet been performed for this variable) median would be a more representative measure, rather than the mean._"
   ]
  },
  {
   "cell_type": "code",
   "execution_count": 64,
   "metadata": {
    "_cell_guid": "6bbb3a35-7d57-446a-a48d-2583e0676532",
    "_execution_state": "idle",
    "_uuid": "e59b6a78f21de18ed305b0ec346ddfb6b84c7ae7"
   },
   "outputs": [
    {
     "data": {
      "text/plain": [
       "count    1.458640e+06\n",
       "mean     9.528153e+02\n",
       "std      3.171322e+03\n",
       "min      1.000000e+00\n",
       "25%      3.970000e+02\n",
       "50%      6.620000e+02\n",
       "75%      1.075000e+03\n",
       "max      8.639200e+04\n",
       "Name: trip_duration, dtype: float64"
      ]
     },
     "execution_count": 64,
     "metadata": {},
     "output_type": "execute_result"
    }
   ],
   "source": [
    "df_train.trip_duration.describe()"
   ]
  },
  {
   "cell_type": "code",
   "execution_count": 65,
   "metadata": {
    "_cell_guid": "0f6eed65-6ff4-4297-977e-93d339593990",
    "_execution_state": "idle",
    "_uuid": "786c58b9d5484e80ce19616525110975e42afda7"
   },
   "outputs": [
    {
     "data": {
      "image/png": "[encoded data removed]",
      "text/plain": [
       "<matplotlib.figure.Figure at 0x12f4d1400>"
      ]
     },
     "metadata": {},
     "output_type": "display_data"
    }
   ],
   "source": [
    "df_train_agg = df_train.groupby('pickup_weekday_name')['trip_duration'].aggregate(np.median).reset_index()\n",
    "\n",
    "plt.figure(figsize=(12,8))\n",
    "sns.pointplot(df_train_agg.pickup_weekday_name.values, df_train_agg.trip_duration.values)\n",
    "plt.show()"
   ]
  },
  {
   "cell_type": "code",
   "execution_count": 66,
   "metadata": {
    "_cell_guid": "b9895c2e-282b-4326-895e-22e0f198b8d3",
    "_execution_state": "idle",
    "_uuid": "bf872412ccd361d906f4b43c7938103d41afe271"
   },
   "outputs": [
    {
     "data": {
      "text/html": [
       "<div>\n",
       "<style scoped>\n",
       "    .dataframe tbody tr th:only-of-type {\n",
       "        vertical-align: middle;\n",
       "    }\n",
       "\n",
       "    .dataframe tbody tr th {\n",
       "        vertical-align: top;\n",
       "    }\n",
       "\n",
       "    .dataframe thead th {\n",
       "        text-align: right;\n",
       "    }\n",
       "</style>\n",
       "<table border=\"1\" class=\"dataframe\">\n",
       "  <thead>\n",
       "    <tr style=\"text-align: right;\">\n",
       "      <th></th>\n",
       "      <th>count</th>\n",
       "      <th>mean</th>\n",
       "      <th>std</th>\n",
       "      <th>min</th>\n",
       "      <th>25%</th>\n",
       "      <th>50%</th>\n",
       "      <th>75%</th>\n",
       "      <th>max</th>\n",
       "    </tr>\n",
       "    <tr>\n",
       "      <th>pickup_weekday_name</th>\n",
       "      <th></th>\n",
       "      <th></th>\n",
       "      <th></th>\n",
       "      <th></th>\n",
       "      <th></th>\n",
       "      <th></th>\n",
       "      <th></th>\n",
       "      <th></th>\n",
       "    </tr>\n",
       "  </thead>\n",
       "  <tbody>\n",
       "    <tr>\n",
       "      <th>Friday</th>\n",
       "      <td>223533.0</td>\n",
       "      <td>990.224200</td>\n",
       "      <td>3274.974477</td>\n",
       "      <td>1.0</td>\n",
       "      <td>410.0</td>\n",
       "      <td>686.0</td>\n",
       "      <td>1112.0</td>\n",
       "      <td>86390.0</td>\n",
       "    </tr>\n",
       "    <tr>\n",
       "      <th>Monday</th>\n",
       "      <td>187418.0</td>\n",
       "      <td>897.947839</td>\n",
       "      <td>2769.429213</td>\n",
       "      <td>1.0</td>\n",
       "      <td>380.0</td>\n",
       "      <td>630.0</td>\n",
       "      <td>1027.0</td>\n",
       "      <td>86392.0</td>\n",
       "    </tr>\n",
       "    <tr>\n",
       "      <th>Saturday</th>\n",
       "      <td>220866.0</td>\n",
       "      <td>922.814317</td>\n",
       "      <td>3515.782988</td>\n",
       "      <td>1.0</td>\n",
       "      <td>385.0</td>\n",
       "      <td>637.0</td>\n",
       "      <td>1012.0</td>\n",
       "      <td>86377.0</td>\n",
       "    </tr>\n",
       "    <tr>\n",
       "      <th>Sunday</th>\n",
       "      <td>195366.0</td>\n",
       "      <td>901.639395</td>\n",
       "      <td>3456.093920</td>\n",
       "      <td>1.0</td>\n",
       "      <td>364.0</td>\n",
       "      <td>602.0</td>\n",
       "      <td>978.0</td>\n",
       "      <td>86369.0</td>\n",
       "    </tr>\n",
       "    <tr>\n",
       "      <th>Thursday</th>\n",
       "      <td>218574.0</td>\n",
       "      <td>1006.528654</td>\n",
       "      <td>3100.383654</td>\n",
       "      <td>1.0</td>\n",
       "      <td>420.0</td>\n",
       "      <td>709.0</td>\n",
       "      <td>1155.0</td>\n",
       "      <td>86387.0</td>\n",
       "    </tr>\n",
       "    <tr>\n",
       "      <th>Tuesday</th>\n",
       "      <td>202747.0</td>\n",
       "      <td>962.918401</td>\n",
       "      <td>3058.192485</td>\n",
       "      <td>1.0</td>\n",
       "      <td>407.0</td>\n",
       "      <td>679.0</td>\n",
       "      <td>1102.0</td>\n",
       "      <td>86391.0</td>\n",
       "    </tr>\n",
       "    <tr>\n",
       "      <th>Wednesday</th>\n",
       "      <td>210136.0</td>\n",
       "      <td>975.450494</td>\n",
       "      <td>2903.805145</td>\n",
       "      <td>1.0</td>\n",
       "      <td>416.0</td>\n",
       "      <td>694.0</td>\n",
       "      <td>1133.0</td>\n",
       "      <td>86366.0</td>\n",
       "    </tr>\n",
       "  </tbody>\n",
       "</table>\n",
       "</div>"
      ],
      "text/plain": [
       "                        count         mean          std  min    25%    50%  \\\n",
       "pickup_weekday_name                                                          \n",
       "Friday               223533.0   990.224200  3274.974477  1.0  410.0  686.0   \n",
       "Monday               187418.0   897.947839  2769.429213  1.0  380.0  630.0   \n",
       "Saturday             220866.0   922.814317  3515.782988  1.0  385.0  637.0   \n",
       "Sunday               195366.0   901.639395  3456.093920  1.0  364.0  602.0   \n",
       "Thursday             218574.0  1006.528654  3100.383654  1.0  420.0  709.0   \n",
       "Tuesday              202747.0   962.918401  3058.192485  1.0  407.0  679.0   \n",
       "Wednesday            210136.0   975.450494  2903.805145  1.0  416.0  694.0   \n",
       "\n",
       "                        75%      max  \n",
       "pickup_weekday_name                   \n",
       "Friday               1112.0  86390.0  \n",
       "Monday               1027.0  86392.0  \n",
       "Saturday             1012.0  86377.0  \n",
       "Sunday                978.0  86369.0  \n",
       "Thursday             1155.0  86387.0  \n",
       "Tuesday              1102.0  86391.0  \n",
       "Wednesday            1133.0  86366.0  "
      ]
     },
     "execution_count": 66,
     "metadata": {},
     "output_type": "execute_result"
    }
   ],
   "source": [
    "df_train.groupby('pickup_weekday_name')['trip_duration'].describe()"
   ]
  },
  {
   "cell_type": "code",
   "execution_count": 67,
   "metadata": {
    "_cell_guid": "6f6fb2da-c87a-40ac-80a6-586daa9028bd",
    "_execution_state": "idle",
    "_uuid": "22459dca8d4d1db8d3d94d41b8ba104e63e4d029"
   },
   "outputs": [
    {
     "data": {
      "image/png": "[encoded data removed]",
      "text/plain": [
       "<matplotlib.figure.Figure at 0x11962a278>"
      ]
     },
     "metadata": {},
     "output_type": "display_data"
    }
   ],
   "source": [
    "df_train_agg = df_train.groupby('pickup_hour')['trip_duration'].aggregate(np.median).reset_index()\n",
    "\n",
    "plt.figure(figsize=(12,8))\n",
    "sns.pointplot(df_train_agg.pickup_hour.values, df_train_agg.trip_duration.values)\n",
    "plt.show()"
   ]
  },
  {
   "cell_type": "code",
   "execution_count": 68,
   "metadata": {
    "_cell_guid": "ea4fa0d5-920b-4162-b576-d94765bb9313",
    "_execution_state": "idle",
    "_uuid": "182c7381f925d0a954081b081fe4ac1d8288419a"
   },
   "outputs": [
    {
     "data": {
      "text/html": [
       "<div>\n",
       "<style scoped>\n",
       "    .dataframe tbody tr th:only-of-type {\n",
       "        vertical-align: middle;\n",
       "    }\n",
       "\n",
       "    .dataframe tbody tr th {\n",
       "        vertical-align: top;\n",
       "    }\n",
       "\n",
       "    .dataframe thead th {\n",
       "        text-align: right;\n",
       "    }\n",
       "</style>\n",
       "<table border=\"1\" class=\"dataframe\">\n",
       "  <thead>\n",
       "    <tr style=\"text-align: right;\">\n",
       "      <th></th>\n",
       "      <th>count</th>\n",
       "      <th>mean</th>\n",
       "      <th>std</th>\n",
       "      <th>min</th>\n",
       "      <th>25%</th>\n",
       "      <th>50%</th>\n",
       "      <th>75%</th>\n",
       "      <th>max</th>\n",
       "    </tr>\n",
       "    <tr>\n",
       "      <th>pickup_hour</th>\n",
       "      <th></th>\n",
       "      <th></th>\n",
       "      <th></th>\n",
       "      <th></th>\n",
       "      <th></th>\n",
       "      <th></th>\n",
       "      <th></th>\n",
       "      <th></th>\n",
       "    </tr>\n",
       "  </thead>\n",
       "  <tbody>\n",
       "    <tr>\n",
       "      <th>0</th>\n",
       "      <td>53247.0</td>\n",
       "      <td>900.245873</td>\n",
       "      <td>3223.040076</td>\n",
       "      <td>1.0</td>\n",
       "      <td>389.00</td>\n",
       "      <td>646.0</td>\n",
       "      <td>1039.00</td>\n",
       "      <td>86390.0</td>\n",
       "    </tr>\n",
       "    <tr>\n",
       "      <th>1</th>\n",
       "      <td>38571.0</td>\n",
       "      <td>903.087112</td>\n",
       "      <td>3733.570656</td>\n",
       "      <td>2.0</td>\n",
       "      <td>371.00</td>\n",
       "      <td>613.0</td>\n",
       "      <td>977.00</td>\n",
       "      <td>86355.0</td>\n",
       "    </tr>\n",
       "    <tr>\n",
       "      <th>2</th>\n",
       "      <td>27972.0</td>\n",
       "      <td>890.076934</td>\n",
       "      <td>4003.839902</td>\n",
       "      <td>1.0</td>\n",
       "      <td>354.00</td>\n",
       "      <td>591.0</td>\n",
       "      <td>942.00</td>\n",
       "      <td>86369.0</td>\n",
       "    </tr>\n",
       "    <tr>\n",
       "      <th>3</th>\n",
       "      <td>20895.0</td>\n",
       "      <td>890.070878</td>\n",
       "      <td>3961.003485</td>\n",
       "      <td>2.0</td>\n",
       "      <td>350.00</td>\n",
       "      <td>592.0</td>\n",
       "      <td>954.50</td>\n",
       "      <td>86325.0</td>\n",
       "    </tr>\n",
       "    <tr>\n",
       "      <th>4</th>\n",
       "      <td>15792.0</td>\n",
       "      <td>921.976444</td>\n",
       "      <td>3976.500021</td>\n",
       "      <td>1.0</td>\n",
       "      <td>339.75</td>\n",
       "      <td>611.0</td>\n",
       "      <td>1027.00</td>\n",
       "      <td>86377.0</td>\n",
       "    </tr>\n",
       "    <tr>\n",
       "      <th>5</th>\n",
       "      <td>15002.0</td>\n",
       "      <td>822.298960</td>\n",
       "      <td>2952.808616</td>\n",
       "      <td>1.0</td>\n",
       "      <td>287.00</td>\n",
       "      <td>517.0</td>\n",
       "      <td>999.75</td>\n",
       "      <td>86277.0</td>\n",
       "    </tr>\n",
       "    <tr>\n",
       "      <th>6</th>\n",
       "      <td>33247.0</td>\n",
       "      <td>730.457034</td>\n",
       "      <td>2221.319764</td>\n",
       "      <td>2.0</td>\n",
       "      <td>290.00</td>\n",
       "      <td>473.0</td>\n",
       "      <td>802.00</td>\n",
       "      <td>86346.0</td>\n",
       "    </tr>\n",
       "    <tr>\n",
       "      <th>7</th>\n",
       "      <td>55600.0</td>\n",
       "      <td>831.758345</td>\n",
       "      <td>2522.785416</td>\n",
       "      <td>2.0</td>\n",
       "      <td>355.00</td>\n",
       "      <td>575.0</td>\n",
       "      <td>917.00</td>\n",
       "      <td>86361.0</td>\n",
       "    </tr>\n",
       "    <tr>\n",
       "      <th>8</th>\n",
       "      <td>67053.0</td>\n",
       "      <td>924.559199</td>\n",
       "      <td>2812.643178</td>\n",
       "      <td>2.0</td>\n",
       "      <td>394.00</td>\n",
       "      <td>660.0</td>\n",
       "      <td>1069.00</td>\n",
       "      <td>86362.0</td>\n",
       "    </tr>\n",
       "    <tr>\n",
       "      <th>9</th>\n",
       "      <td>67663.0</td>\n",
       "      <td>933.528915</td>\n",
       "      <td>2795.104834</td>\n",
       "      <td>1.0</td>\n",
       "      <td>405.00</td>\n",
       "      <td>680.0</td>\n",
       "      <td>1100.00</td>\n",
       "      <td>86367.0</td>\n",
       "    </tr>\n",
       "    <tr>\n",
       "      <th>10</th>\n",
       "      <td>65437.0</td>\n",
       "      <td>933.367605</td>\n",
       "      <td>2734.789526</td>\n",
       "      <td>1.0</td>\n",
       "      <td>404.00</td>\n",
       "      <td>679.0</td>\n",
       "      <td>1110.00</td>\n",
       "      <td>86351.0</td>\n",
       "    </tr>\n",
       "    <tr>\n",
       "      <th>11</th>\n",
       "      <td>68476.0</td>\n",
       "      <td>966.430282</td>\n",
       "      <td>2810.298408</td>\n",
       "      <td>1.0</td>\n",
       "      <td>421.00</td>\n",
       "      <td>703.0</td>\n",
       "      <td>1144.25</td>\n",
       "      <td>86356.0</td>\n",
       "    </tr>\n",
       "    <tr>\n",
       "      <th>12</th>\n",
       "      <td>71873.0</td>\n",
       "      <td>993.533079</td>\n",
       "      <td>3169.627445</td>\n",
       "      <td>1.0</td>\n",
       "      <td>422.00</td>\n",
       "      <td>706.0</td>\n",
       "      <td>1147.00</td>\n",
       "      <td>86361.0</td>\n",
       "    </tr>\n",
       "    <tr>\n",
       "      <th>13</th>\n",
       "      <td>71473.0</td>\n",
       "      <td>1032.246359</td>\n",
       "      <td>3397.886624</td>\n",
       "      <td>1.0</td>\n",
       "      <td>425.00</td>\n",
       "      <td>710.0</td>\n",
       "      <td>1161.00</td>\n",
       "      <td>86391.0</td>\n",
       "    </tr>\n",
       "    <tr>\n",
       "      <th>14</th>\n",
       "      <td>74292.0</td>\n",
       "      <td>1075.789264</td>\n",
       "      <td>3349.375680</td>\n",
       "      <td>1.0</td>\n",
       "      <td>430.00</td>\n",
       "      <td>726.0</td>\n",
       "      <td>1196.00</td>\n",
       "      <td>86369.0</td>\n",
       "    </tr>\n",
       "    <tr>\n",
       "      <th>15</th>\n",
       "      <td>71811.0</td>\n",
       "      <td>1118.832533</td>\n",
       "      <td>3641.132102</td>\n",
       "      <td>2.0</td>\n",
       "      <td>426.00</td>\n",
       "      <td>720.0</td>\n",
       "      <td>1204.00</td>\n",
       "      <td>86378.0</td>\n",
       "    </tr>\n",
       "    <tr>\n",
       "      <th>16</th>\n",
       "      <td>64313.0</td>\n",
       "      <td>1080.146285</td>\n",
       "      <td>3187.008182</td>\n",
       "      <td>1.0</td>\n",
       "      <td>407.00</td>\n",
       "      <td>695.0</td>\n",
       "      <td>1187.00</td>\n",
       "      <td>86387.0</td>\n",
       "    </tr>\n",
       "    <tr>\n",
       "      <th>17</th>\n",
       "      <td>76483.0</td>\n",
       "      <td>1030.581619</td>\n",
       "      <td>2965.156590</td>\n",
       "      <td>1.0</td>\n",
       "      <td>414.00</td>\n",
       "      <td>701.0</td>\n",
       "      <td>1162.00</td>\n",
       "      <td>86364.0</td>\n",
       "    </tr>\n",
       "    <tr>\n",
       "      <th>18</th>\n",
       "      <td>90600.0</td>\n",
       "      <td>981.583234</td>\n",
       "      <td>3249.486238</td>\n",
       "      <td>2.0</td>\n",
       "      <td>416.00</td>\n",
       "      <td>687.0</td>\n",
       "      <td>1098.00</td>\n",
       "      <td>86362.0</td>\n",
       "    </tr>\n",
       "    <tr>\n",
       "      <th>19</th>\n",
       "      <td>90308.0</td>\n",
       "      <td>894.356679</td>\n",
       "      <td>3026.881227</td>\n",
       "      <td>1.0</td>\n",
       "      <td>397.00</td>\n",
       "      <td>648.0</td>\n",
       "      <td>1021.00</td>\n",
       "      <td>86358.0</td>\n",
       "    </tr>\n",
       "    <tr>\n",
       "      <th>20</th>\n",
       "      <td>84072.0</td>\n",
       "      <td>879.461545</td>\n",
       "      <td>3091.329173</td>\n",
       "      <td>1.0</td>\n",
       "      <td>391.00</td>\n",
       "      <td>634.0</td>\n",
       "      <td>995.00</td>\n",
       "      <td>86369.0</td>\n",
       "    </tr>\n",
       "    <tr>\n",
       "      <th>21</th>\n",
       "      <td>84185.0</td>\n",
       "      <td>890.521221</td>\n",
       "      <td>3143.474757</td>\n",
       "      <td>2.0</td>\n",
       "      <td>398.00</td>\n",
       "      <td>642.0</td>\n",
       "      <td>1013.00</td>\n",
       "      <td>86362.0</td>\n",
       "    </tr>\n",
       "    <tr>\n",
       "      <th>22</th>\n",
       "      <td>80490.0</td>\n",
       "      <td>954.207405</td>\n",
       "      <td>3596.109146</td>\n",
       "      <td>1.0</td>\n",
       "      <td>409.00</td>\n",
       "      <td>668.0</td>\n",
       "      <td>1057.00</td>\n",
       "      <td>86379.0</td>\n",
       "    </tr>\n",
       "    <tr>\n",
       "      <th>23</th>\n",
       "      <td>69785.0</td>\n",
       "      <td>925.091409</td>\n",
       "      <td>3137.764143</td>\n",
       "      <td>1.0</td>\n",
       "      <td>406.00</td>\n",
       "      <td>670.0</td>\n",
       "      <td>1082.00</td>\n",
       "      <td>86392.0</td>\n",
       "    </tr>\n",
       "  </tbody>\n",
       "</table>\n",
       "</div>"
      ],
      "text/plain": [
       "               count         mean          std  min     25%    50%      75%  \\\n",
       "pickup_hour                                                                   \n",
       "0            53247.0   900.245873  3223.040076  1.0  389.00  646.0  1039.00   \n",
       "1            38571.0   903.087112  3733.570656  2.0  371.00  613.0   977.00   \n",
       "2            27972.0   890.076934  4003.839902  1.0  354.00  591.0   942.00   \n",
       "3            20895.0   890.070878  3961.003485  2.0  350.00  592.0   954.50   \n",
       "4            15792.0   921.976444  3976.500021  1.0  339.75  611.0  1027.00   \n",
       "5            15002.0   822.298960  2952.808616  1.0  287.00  517.0   999.75   \n",
       "6            33247.0   730.457034  2221.319764  2.0  290.00  473.0   802.00   \n",
       "7            55600.0   831.758345  2522.785416  2.0  355.00  575.0   917.00   \n",
       "8            67053.0   924.559199  2812.643178  2.0  394.00  660.0  1069.00   \n",
       "9            67663.0   933.528915  2795.104834  1.0  405.00  680.0  1100.00   \n",
       "10           65437.0   933.367605  2734.789526  1.0  404.00  679.0  1110.00   \n",
       "11           68476.0   966.430282  2810.298408  1.0  421.00  703.0  1144.25   \n",
       "12           71873.0   993.533079  3169.627445  1.0  422.00  706.0  1147.00   \n",
       "13           71473.0  1032.246359  3397.886624  1.0  425.00  710.0  1161.00   \n",
       "14           74292.0  1075.789264  3349.375680  1.0  430.00  726.0  1196.00   \n",
       "15           71811.0  1118.832533  3641.132102  2.0  426.00  720.0  1204.00   \n",
       "16           64313.0  1080.146285  3187.008182  1.0  407.00  695.0  1187.00   \n",
       "17           76483.0  1030.581619  2965.156590  1.0  414.00  701.0  1162.00   \n",
       "18           90600.0   981.583234  3249.486238  2.0  416.00  687.0  1098.00   \n",
       "19           90308.0   894.356679  3026.881227  1.0  397.00  648.0  1021.00   \n",
       "20           84072.0   879.461545  3091.329173  1.0  391.00  634.0   995.00   \n",
       "21           84185.0   890.521221  3143.474757  2.0  398.00  642.0  1013.00   \n",
       "22           80490.0   954.207405  3596.109146  1.0  409.00  668.0  1057.00   \n",
       "23           69785.0   925.091409  3137.764143  1.0  406.00  670.0  1082.00   \n",
       "\n",
       "                 max  \n",
       "pickup_hour           \n",
       "0            86390.0  \n",
       "1            86355.0  \n",
       "2            86369.0  \n",
       "3            86325.0  \n",
       "4            86377.0  \n",
       "5            86277.0  \n",
       "6            86346.0  \n",
       "7            86361.0  \n",
       "8            86362.0  \n",
       "9            86367.0  \n",
       "10           86351.0  \n",
       "11           86356.0  \n",
       "12           86361.0  \n",
       "13           86391.0  \n",
       "14           86369.0  \n",
       "15           86378.0  \n",
       "16           86387.0  \n",
       "17           86364.0  \n",
       "18           86362.0  \n",
       "19           86358.0  \n",
       "20           86369.0  \n",
       "21           86362.0  \n",
       "22           86379.0  \n",
       "23           86392.0  "
      ]
     },
     "execution_count": 68,
     "metadata": {},
     "output_type": "execute_result"
    }
   ],
   "source": [
    "df_train.groupby('pickup_hour')['trip_duration'].describe()"
   ]
  },
  {
   "cell_type": "code",
   "execution_count": 69,
   "metadata": {
    "_cell_guid": "7dd9a53c-71ef-42d8-bcf5-a0aca3e9b67d",
    "_execution_state": "idle",
    "_uuid": "f20588feba3bd9697d869602e61992f792cfedad"
   },
   "outputs": [
    {
     "data": {
      "image/png": "[encoded data removed]",
      "text/plain": [
       "<matplotlib.figure.Figure at 0x11854f320>"
      ]
     },
     "metadata": {},
     "output_type": "display_data"
    }
   ],
   "source": [
    "df_train_agg = df_train.groupby('pickup_month')['trip_duration'].aggregate(np.median).reset_index()\n",
    "\n",
    "plt.figure(figsize=(12,8))\n",
    "sns.pointplot(df_train_agg.pickup_month.values, df_train_agg.trip_duration.values)\n",
    "plt.show()"
   ]
  },
  {
   "cell_type": "code",
   "execution_count": 70,
   "metadata": {
    "_cell_guid": "d771e1b4-c8d1-4354-91b2-308302292cbf",
    "_execution_state": "idle",
    "_uuid": "c84f3c99d4b478c6bf8f436be6b2b796c6cce7bb"
   },
   "outputs": [
    {
     "data": {
      "text/html": [
       "<div>\n",
       "<style scoped>\n",
       "    .dataframe tbody tr th:only-of-type {\n",
       "        vertical-align: middle;\n",
       "    }\n",
       "\n",
       "    .dataframe tbody tr th {\n",
       "        vertical-align: top;\n",
       "    }\n",
       "\n",
       "    .dataframe thead th {\n",
       "        text-align: right;\n",
       "    }\n",
       "</style>\n",
       "<table border=\"1\" class=\"dataframe\">\n",
       "  <thead>\n",
       "    <tr style=\"text-align: right;\">\n",
       "      <th></th>\n",
       "      <th>count</th>\n",
       "      <th>mean</th>\n",
       "      <th>std</th>\n",
       "      <th>min</th>\n",
       "      <th>25%</th>\n",
       "      <th>50%</th>\n",
       "      <th>75%</th>\n",
       "      <th>max</th>\n",
       "    </tr>\n",
       "    <tr>\n",
       "      <th>pickup_month</th>\n",
       "      <th></th>\n",
       "      <th></th>\n",
       "      <th></th>\n",
       "      <th></th>\n",
       "      <th></th>\n",
       "      <th></th>\n",
       "      <th></th>\n",
       "      <th></th>\n",
       "    </tr>\n",
       "  </thead>\n",
       "  <tbody>\n",
       "    <tr>\n",
       "      <th>1</th>\n",
       "      <td>229705.0</td>\n",
       "      <td>904.239176</td>\n",
       "      <td>3123.083824</td>\n",
       "      <td>1.0</td>\n",
       "      <td>383.0</td>\n",
       "      <td>630.0</td>\n",
       "      <td>1013.0</td>\n",
       "      <td>86369.0</td>\n",
       "    </tr>\n",
       "    <tr>\n",
       "      <th>2</th>\n",
       "      <td>238298.0</td>\n",
       "      <td>897.439496</td>\n",
       "      <td>3057.137598</td>\n",
       "      <td>1.0</td>\n",
       "      <td>384.0</td>\n",
       "      <td>635.0</td>\n",
       "      <td>1022.0</td>\n",
       "      <td>86392.0</td>\n",
       "    </tr>\n",
       "    <tr>\n",
       "      <th>3</th>\n",
       "      <td>256189.0</td>\n",
       "      <td>937.365363</td>\n",
       "      <td>3213.214383</td>\n",
       "      <td>1.0</td>\n",
       "      <td>393.0</td>\n",
       "      <td>653.0</td>\n",
       "      <td>1052.0</td>\n",
       "      <td>86366.0</td>\n",
       "    </tr>\n",
       "    <tr>\n",
       "      <th>4</th>\n",
       "      <td>251645.0</td>\n",
       "      <td>962.891462</td>\n",
       "      <td>3158.773635</td>\n",
       "      <td>1.0</td>\n",
       "      <td>403.0</td>\n",
       "      <td>675.0</td>\n",
       "      <td>1097.0</td>\n",
       "      <td>86364.0</td>\n",
       "    </tr>\n",
       "    <tr>\n",
       "      <th>5</th>\n",
       "      <td>248487.0</td>\n",
       "      <td>999.450555</td>\n",
       "      <td>3186.775737</td>\n",
       "      <td>1.0</td>\n",
       "      <td>408.0</td>\n",
       "      <td>689.0</td>\n",
       "      <td>1133.0</td>\n",
       "      <td>86391.0</td>\n",
       "    </tr>\n",
       "    <tr>\n",
       "      <th>6</th>\n",
       "      <td>234316.0</td>\n",
       "      <td>1013.367226</td>\n",
       "      <td>3279.534457</td>\n",
       "      <td>1.0</td>\n",
       "      <td>414.0</td>\n",
       "      <td>695.0</td>\n",
       "      <td>1141.0</td>\n",
       "      <td>86387.0</td>\n",
       "    </tr>\n",
       "  </tbody>\n",
       "</table>\n",
       "</div>"
      ],
      "text/plain": [
       "                 count         mean          std  min    25%    50%     75%  \\\n",
       "pickup_month                                                                  \n",
       "1             229705.0   904.239176  3123.083824  1.0  383.0  630.0  1013.0   \n",
       "2             238298.0   897.439496  3057.137598  1.0  384.0  635.0  1022.0   \n",
       "3             256189.0   937.365363  3213.214383  1.0  393.0  653.0  1052.0   \n",
       "4             251645.0   962.891462  3158.773635  1.0  403.0  675.0  1097.0   \n",
       "5             248487.0   999.450555  3186.775737  1.0  408.0  689.0  1133.0   \n",
       "6             234316.0  1013.367226  3279.534457  1.0  414.0  695.0  1141.0   \n",
       "\n",
       "                  max  \n",
       "pickup_month           \n",
       "1             86369.0  \n",
       "2             86392.0  \n",
       "3             86366.0  \n",
       "4             86364.0  \n",
       "5             86391.0  \n",
       "6             86387.0  "
      ]
     },
     "execution_count": 70,
     "metadata": {},
     "output_type": "execute_result"
    }
   ],
   "source": [
    "df_train.groupby('pickup_month')['trip_duration'].describe()"
   ]
  },
  {
   "cell_type": "markdown",
   "metadata": {},
   "source": [
    "## 4. Observations"
   ]
  },
  {
   "cell_type": "markdown",
   "metadata": {
    "_cell_guid": "16852d33-c2e0-4414-bb0b-2f123f22775f",
    "_uuid": "0a99de88063e42362aa131905460c0a75431a016"
   },
   "source": [
    "#### Mistakes\n",
    "* Data exploration may be performed with all the data (before spliting train/test). Once the procedure is defined, after the data exploration, we split the data into train and test and we make sure that both sets have a good representation of the features we want to learn from and predict.\n",
    "\n",
    "\n",
    "#### Conclusions\n",
    "* Observation at a week-level:\n",
    "\n",
    "_Trip durations are the most on Thursday's, Wednesday's and Friday's & the least on Sunday's._\n",
    "\n",
    "\n",
    "* Observation at an hour-level:\n",
    "\n",
    "_Trip durations are the most between 11:00 hrs and 16:00 hrs & the least between 04:00 hrs and 07:00 hrs._\n",
    "\n",
    "* Observation at a month-level:\n",
    "\n",
    "_There seems to be a linear increase in the median trip duration from the month of January to the month of June, although the increase is fairly minimal._"
   ]
  },
  {
   "cell_type": "code",
   "execution_count": null,
   "metadata": {
    "_cell_guid": "200a9f84-ddc3-4472-99ec-71cb1759d119",
    "_execution_state": "idle",
    "_uuid": "8d7f4dd90813c94c233d0c08a291c3e17fc57bee"
   },
   "outputs": [],
   "source": []
  }
 ],
 "metadata": {
  "kernelspec": {
   "display_name": "Python 3",
   "language": "python",
   "name": "python3"
  },
  "language_info": {
   "codemirror_mode": {
    "name": "ipython",
    "version": 3
   },
   "file_extension": ".py",
   "mimetype": "text/x-python",
   "name": "python",
   "nbconvert_exporter": "python",
   "pygments_lexer": "ipython3",
   "version": "3.6.2"
  }
 },
 "nbformat": 4,
 "nbformat_minor": 2
}
