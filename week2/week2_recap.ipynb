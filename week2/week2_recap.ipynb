{
 "cells": [
  {
   "cell_type": "markdown",
   "metadata": {
    "_cell_guid": "90809e9c-4260-4176-9755-c8ffe895200c",
    "_uuid": "63e66d89f579c8c62e03817e1deef53670596298"
   },
   "source": [
    "# Week 2 Recap"
   ]
  },
  {
   "cell_type": "markdown",
   "metadata": {},
   "source": [
    "### Overview\n",
    "\n",
    "We adressed the following topics in the lectures. Here is how they relate to the different skill sets.\n",
    "\n",
    "* BI: Business Intelligence\n",
    "* DE: Data Engineer\n",
    "* ML: Maschine Learning Expert\n",
    "\n",
    "| Topic | BI | DE | ML |\n",
    "|-------------|-------------|-------------|-------------|\n",
    "| Pandas Basics, the DataFrame and Slicing | Good understanding | Expert | Good understanding |\n",
    "| Seaborn Plotting, countplot, distplot | Good understanding | Basics | Basics |\n",
    "| Understanding Data, basic statistics | Expert | Basics | Expert |\n",
    "\n",
    "In the following subparagraphs we indicate for which skill set which knowledge is required. You should go through all the readings which refere to the skill set you are aiming for."
   ]
  },
  {
   "cell_type": "markdown",
   "metadata": {},
   "source": [
    "### Pandas Basics, the DataFrame and Slicing\n",
    "#### Pandas DataFrame (BI, DE, ML)\n",
    "Pandas is a libaray with datastructures for easy handling of tabular data.\n",
    "Pandas DataFrames handle two dimensional data, pandas Series handle one dimensional data.\n",
    "\n",
    "Reading:\n",
    "http://nbviewer.jupyter.org/github/jvns/pandas-cookbook/blob/v0.1/cookbook/Chapter%202%20-%20Selecting%20data%20&%20finding%20the%20most%20common%20complaint%20type.ipynb\n",
    "\n",
    "#### Slicing of DataFrame (BI, DE, ML)\n",
    "Slicing is the process of selecting parts of a DataFrame (or a Series).\n",
    "\n",
    "Reading:\n",
    "http://nbviewer.jupyter.org/github/jvns/pandas-cookbook/blob/v0.1/cookbook/Chapter%203%20-%20Which%20borough%20has%20the%20most%20noise%20complaints%3F%20%28or%2C%20more%20selecting%20data%29.ipynb\n",
    "\n",
    "#### Index and Advanced Slicing (DE)\n",
    "For more advanced data engineering task a deeper understanding of the pandas dataframe index and different possibilites of slicing is needed.\n",
    "\n",
    "Reading:\n",
    "https://pandas.pydata.org/pandas-docs/stable/indexing.html\n",
    "\n",
    "#### Deepunderstanding of Pandas (DE+)\n",
    "If you want to become an expert in the usage of pandas, you need to understand how it is working \"under the hood\". It makes sence to first become familiar with pandas a bit yourself, however in a couple of weeks you might want to come back to this.\n",
    "\n",
    "e.g. have a look at this video:\n",
    "https://www.youtube.com/watch?v=DpyhdO4aM04"
   ]
  },
  {
   "cell_type": "markdown",
   "metadata": {},
   "source": [
    "### Seaborn Plotting\n",
    "\n",
    "#### Countplot (BI, (ML), (DE))\n",
    "Seaborn countplot can be used to visualized the distribution of categorical data.\n",
    "\n",
    "Reading: https://seaborn.pydata.org/generated/seaborn.distplot.html\n",
    "\n",
    "#### Distplot (BI, (ML), (DE))\n",
    "Seaborn distplot can be used to visualize the distribution of continuous data.\n",
    "\n",
    "Reading: https://seaborn.pydata.org/generated/seaborn.distplot.html\n",
    "        \n",
    "*PS: We will cover the difference between categorical data and continuous data in one of the following lectures.*"
   ]
  },
  {
   "cell_type": "markdown",
   "metadata": {},
   "source": [
    "### Understanding Data, basic statistics\n",
    "\n",
    "#### Mean, mode, median and Standart deviation (BI, ML, DE)\n",
    "Make sure you are familiar with the terms mean and standart deviation and you know how to calculate them. Know the formular!\n",
    "* Standart deviation: https://en.wikipedia.org/wiki/Standard_deviation#Discrete_random_variable\n",
    "* Mean: https://en.wikipedia.org/wiki/Arithmetic_mean\n",
    "* ...\n",
    "        \n",
    "#### Cumulative Distribution (BI, ML)\n",
    "Still looking for a good overview over this topic. Will keep you updated.\n",
    "\n",
    "#### Outlier (BI, ML, DE)\n",
    "same"
   ]
  },
  {
   "cell_type": "code",
   "execution_count": null,
   "metadata": {},
   "outputs": [],
   "source": []
  }
 ],
 "metadata": {
  "kernelspec": {
   "display_name": "Python 3",
   "language": "python",
   "name": "python3"
  },
  "language_info": {
   "codemirror_mode": {
    "name": "ipython",
    "version": 3
   },
   "file_extension": ".py",
   "mimetype": "text/x-python",
   "name": "python",
   "nbconvert_exporter": "python",
   "pygments_lexer": "ipython3",
   "version": "3.6.4"
  }
 },
 "nbformat": 4,
 "nbformat_minor": 2
}
