{
 "cells": [
  {
   "cell_type": "markdown",
   "metadata": {},
   "source": [
    "# Build the training data set for the classification model"
   ]
  },
  {
   "cell_type": "code",
   "execution_count": 1,
   "metadata": {},
   "outputs": [],
   "source": [
    "import pandas as pd\n",
    "import numpy as np \n",
    "import matplotlib.pyplot as plt\n",
    "% matplotlib inline"
   ]
  },
  {
   "cell_type": "markdown",
   "metadata": {},
   "source": [
    "### Load historical match results data and build the target"
   ]
  },
  {
   "cell_type": "code",
   "execution_count": 2,
   "metadata": {},
   "outputs": [],
   "source": [
    "fifa = pd.read_csv('match_results.csv')"
   ]
  },
  {
   "cell_type": "code",
   "execution_count": 3,
   "metadata": {},
   "outputs": [
    {
     "data": {
      "text/html": [
       "<div>\n",
       "<style scoped>\n",
       "    .dataframe tbody tr th:only-of-type {\n",
       "        vertical-align: middle;\n",
       "    }\n",
       "\n",
       "    .dataframe tbody tr th {\n",
       "        vertical-align: top;\n",
       "    }\n",
       "\n",
       "    .dataframe thead th {\n",
       "        text-align: right;\n",
       "    }\n",
       "</style>\n",
       "<table border=\"1\" class=\"dataframe\">\n",
       "  <thead>\n",
       "    <tr style=\"text-align: right;\">\n",
       "      <th></th>\n",
       "      <th>date</th>\n",
       "      <th>home_team</th>\n",
       "      <th>away_team</th>\n",
       "      <th>home_score</th>\n",
       "      <th>away_score</th>\n",
       "      <th>tournament</th>\n",
       "      <th>city</th>\n",
       "      <th>country</th>\n",
       "      <th>neutral</th>\n",
       "    </tr>\n",
       "  </thead>\n",
       "  <tbody>\n",
       "    <tr>\n",
       "      <th>0</th>\n",
       "      <td>1872-11-30</td>\n",
       "      <td>Scotland</td>\n",
       "      <td>England</td>\n",
       "      <td>0</td>\n",
       "      <td>0</td>\n",
       "      <td>Friendly</td>\n",
       "      <td>Glasgow</td>\n",
       "      <td>Scotland</td>\n",
       "      <td>False</td>\n",
       "    </tr>\n",
       "    <tr>\n",
       "      <th>1</th>\n",
       "      <td>1873-03-08</td>\n",
       "      <td>England</td>\n",
       "      <td>Scotland</td>\n",
       "      <td>4</td>\n",
       "      <td>2</td>\n",
       "      <td>Friendly</td>\n",
       "      <td>London</td>\n",
       "      <td>England</td>\n",
       "      <td>False</td>\n",
       "    </tr>\n",
       "  </tbody>\n",
       "</table>\n",
       "</div>"
      ],
      "text/plain": [
       "         date home_team away_team  home_score  away_score tournament     city  \\\n",
       "0  1872-11-30  Scotland   England           0           0   Friendly  Glasgow   \n",
       "1  1873-03-08   England  Scotland           4           2   Friendly   London   \n",
       "\n",
       "    country  neutral  \n",
       "0  Scotland    False  \n",
       "1   England    False  "
      ]
     },
     "execution_count": 3,
     "metadata": {},
     "output_type": "execute_result"
    }
   ],
   "source": [
    "fifa.head(2)"
   ]
  },
  {
   "cell_type": "code",
   "execution_count": 4,
   "metadata": {},
   "outputs": [
    {
     "data": {
      "text/plain": [
       "(38898, 9)"
      ]
     },
     "execution_count": 4,
     "metadata": {},
     "output_type": "execute_result"
    }
   ],
   "source": [
    "fifa.shape"
   ]
  },
  {
   "cell_type": "code",
   "execution_count": 5,
   "metadata": {},
   "outputs": [
    {
     "data": {
      "text/plain": [
       "date          0\n",
       "home_team     0\n",
       "away_team     0\n",
       "home_score    0\n",
       "away_score    0\n",
       "tournament    0\n",
       "city          0\n",
       "country       0\n",
       "neutral       0\n",
       "dtype: int64"
      ]
     },
     "execution_count": 5,
     "metadata": {},
     "output_type": "execute_result"
    }
   ],
   "source": [
    "fifa.isnull().sum()"
   ]
  },
  {
   "cell_type": "code",
   "execution_count": 6,
   "metadata": {},
   "outputs": [
    {
     "data": {
      "text/plain": [
       "date          object\n",
       "home_team     object\n",
       "away_team     object\n",
       "home_score     int64\n",
       "away_score     int64\n",
       "tournament    object\n",
       "city          object\n",
       "country       object\n",
       "neutral         bool\n",
       "dtype: object"
      ]
     },
     "execution_count": 6,
     "metadata": {},
     "output_type": "execute_result"
    }
   ],
   "source": [
    "fifa.dtypes"
   ]
  },
  {
   "cell_type": "code",
   "execution_count": 7,
   "metadata": {},
   "outputs": [],
   "source": [
    "fifa1 = fifa.loc[:,['date','home_team','away_team','home_score','away_score']].copy()"
   ]
  },
  {
   "cell_type": "code",
   "execution_count": 8,
   "metadata": {},
   "outputs": [
    {
     "data": {
      "text/html": [
       "<div>\n",
       "<style scoped>\n",
       "    .dataframe tbody tr th:only-of-type {\n",
       "        vertical-align: middle;\n",
       "    }\n",
       "\n",
       "    .dataframe tbody tr th {\n",
       "        vertical-align: top;\n",
       "    }\n",
       "\n",
       "    .dataframe thead th {\n",
       "        text-align: right;\n",
       "    }\n",
       "</style>\n",
       "<table border=\"1\" class=\"dataframe\">\n",
       "  <thead>\n",
       "    <tr style=\"text-align: right;\">\n",
       "      <th></th>\n",
       "      <th>date</th>\n",
       "      <th>home_team</th>\n",
       "      <th>away_team</th>\n",
       "      <th>home_score</th>\n",
       "      <th>away_score</th>\n",
       "    </tr>\n",
       "  </thead>\n",
       "  <tbody>\n",
       "    <tr>\n",
       "      <th>0</th>\n",
       "      <td>1872-11-30</td>\n",
       "      <td>Scotland</td>\n",
       "      <td>England</td>\n",
       "      <td>0</td>\n",
       "      <td>0</td>\n",
       "    </tr>\n",
       "    <tr>\n",
       "      <th>1</th>\n",
       "      <td>1873-03-08</td>\n",
       "      <td>England</td>\n",
       "      <td>Scotland</td>\n",
       "      <td>4</td>\n",
       "      <td>2</td>\n",
       "    </tr>\n",
       "  </tbody>\n",
       "</table>\n",
       "</div>"
      ],
      "text/plain": [
       "         date home_team away_team  home_score  away_score\n",
       "0  1872-11-30  Scotland   England           0           0\n",
       "1  1873-03-08   England  Scotland           4           2"
      ]
     },
     "execution_count": 8,
     "metadata": {},
     "output_type": "execute_result"
    }
   ],
   "source": [
    "fifa1.head(2)"
   ]
  },
  {
   "cell_type": "markdown",
   "metadata": {},
   "source": [
    "###### Extract the year of the results to join with other data sources for 2010, 2014 and 2018"
   ]
  },
  {
   "cell_type": "code",
   "execution_count": 9,
   "metadata": {},
   "outputs": [],
   "source": [
    "fifa1['date'] = pd.to_datetime(fifa1.date)"
   ]
  },
  {
   "cell_type": "code",
   "execution_count": 10,
   "metadata": {},
   "outputs": [
    {
     "data": {
      "text/plain": [
       "date          datetime64[ns]\n",
       "home_team             object\n",
       "away_team             object\n",
       "home_score             int64\n",
       "away_score             int64\n",
       "dtype: object"
      ]
     },
     "execution_count": 10,
     "metadata": {},
     "output_type": "execute_result"
    }
   ],
   "source": [
    "fifa1.dtypes"
   ]
  },
  {
   "cell_type": "code",
   "execution_count": 11,
   "metadata": {},
   "outputs": [],
   "source": [
    "fifa1['date1'] = fifa1.date.dt.year"
   ]
  },
  {
   "cell_type": "code",
   "execution_count": 12,
   "metadata": {},
   "outputs": [
    {
     "data": {
      "text/html": [
       "<div>\n",
       "<style scoped>\n",
       "    .dataframe tbody tr th:only-of-type {\n",
       "        vertical-align: middle;\n",
       "    }\n",
       "\n",
       "    .dataframe tbody tr th {\n",
       "        vertical-align: top;\n",
       "    }\n",
       "\n",
       "    .dataframe thead th {\n",
       "        text-align: right;\n",
       "    }\n",
       "</style>\n",
       "<table border=\"1\" class=\"dataframe\">\n",
       "  <thead>\n",
       "    <tr style=\"text-align: right;\">\n",
       "      <th></th>\n",
       "      <th>date</th>\n",
       "      <th>home_team</th>\n",
       "      <th>away_team</th>\n",
       "      <th>home_score</th>\n",
       "      <th>away_score</th>\n",
       "      <th>date1</th>\n",
       "    </tr>\n",
       "  </thead>\n",
       "  <tbody>\n",
       "    <tr>\n",
       "      <th>0</th>\n",
       "      <td>1872-11-30</td>\n",
       "      <td>Scotland</td>\n",
       "      <td>England</td>\n",
       "      <td>0</td>\n",
       "      <td>0</td>\n",
       "      <td>1872</td>\n",
       "    </tr>\n",
       "    <tr>\n",
       "      <th>1</th>\n",
       "      <td>1873-03-08</td>\n",
       "      <td>England</td>\n",
       "      <td>Scotland</td>\n",
       "      <td>4</td>\n",
       "      <td>2</td>\n",
       "      <td>1873</td>\n",
       "    </tr>\n",
       "    <tr>\n",
       "      <th>2</th>\n",
       "      <td>1874-03-07</td>\n",
       "      <td>Scotland</td>\n",
       "      <td>England</td>\n",
       "      <td>2</td>\n",
       "      <td>1</td>\n",
       "      <td>1874</td>\n",
       "    </tr>\n",
       "    <tr>\n",
       "      <th>3</th>\n",
       "      <td>1875-03-06</td>\n",
       "      <td>England</td>\n",
       "      <td>Scotland</td>\n",
       "      <td>2</td>\n",
       "      <td>2</td>\n",
       "      <td>1875</td>\n",
       "    </tr>\n",
       "    <tr>\n",
       "      <th>4</th>\n",
       "      <td>1876-03-04</td>\n",
       "      <td>Scotland</td>\n",
       "      <td>England</td>\n",
       "      <td>3</td>\n",
       "      <td>0</td>\n",
       "      <td>1876</td>\n",
       "    </tr>\n",
       "  </tbody>\n",
       "</table>\n",
       "</div>"
      ],
      "text/plain": [
       "        date home_team away_team  home_score  away_score  date1\n",
       "0 1872-11-30  Scotland   England           0           0   1872\n",
       "1 1873-03-08   England  Scotland           4           2   1873\n",
       "2 1874-03-07  Scotland   England           2           1   1874\n",
       "3 1875-03-06   England  Scotland           2           2   1875\n",
       "4 1876-03-04  Scotland   England           3           0   1876"
      ]
     },
     "execution_count": 12,
     "metadata": {},
     "output_type": "execute_result"
    }
   ],
   "source": [
    "fifa1.head()"
   ]
  },
  {
   "cell_type": "code",
   "execution_count": 13,
   "metadata": {},
   "outputs": [],
   "source": [
    "fifa2 = fifa1[fifa1['date1'].isin([2010, 2014, 2018]) ].copy()"
   ]
  },
  {
   "cell_type": "code",
   "execution_count": 14,
   "metadata": {},
   "outputs": [
    {
     "data": {
      "text/html": [
       "<div>\n",
       "<style scoped>\n",
       "    .dataframe tbody tr th:only-of-type {\n",
       "        vertical-align: middle;\n",
       "    }\n",
       "\n",
       "    .dataframe tbody tr th {\n",
       "        vertical-align: top;\n",
       "    }\n",
       "\n",
       "    .dataframe thead th {\n",
       "        text-align: right;\n",
       "    }\n",
       "</style>\n",
       "<table border=\"1\" class=\"dataframe\">\n",
       "  <thead>\n",
       "    <tr style=\"text-align: right;\">\n",
       "      <th></th>\n",
       "      <th>date</th>\n",
       "      <th>home_team</th>\n",
       "      <th>away_team</th>\n",
       "      <th>home_score</th>\n",
       "      <th>away_score</th>\n",
       "      <th>date1</th>\n",
       "    </tr>\n",
       "  </thead>\n",
       "  <tbody>\n",
       "    <tr>\n",
       "      <th>31408</th>\n",
       "      <td>2010-01-02</td>\n",
       "      <td>Iran</td>\n",
       "      <td>Korea DPR</td>\n",
       "      <td>1</td>\n",
       "      <td>0</td>\n",
       "      <td>2010</td>\n",
       "    </tr>\n",
       "    <tr>\n",
       "      <th>31409</th>\n",
       "      <td>2010-01-02</td>\n",
       "      <td>Qatar</td>\n",
       "      <td>Mali</td>\n",
       "      <td>0</td>\n",
       "      <td>0</td>\n",
       "      <td>2010</td>\n",
       "    </tr>\n",
       "  </tbody>\n",
       "</table>\n",
       "</div>"
      ],
      "text/plain": [
       "            date home_team  away_team  home_score  away_score  date1\n",
       "31408 2010-01-02      Iran  Korea DPR           1           0   2010\n",
       "31409 2010-01-02     Qatar       Mali           0           0   2010"
      ]
     },
     "execution_count": 14,
     "metadata": {},
     "output_type": "execute_result"
    }
   ],
   "source": [
    "fifa2.head(2)"
   ]
  },
  {
   "cell_type": "code",
   "execution_count": 15,
   "metadata": {},
   "outputs": [
    {
     "data": {
      "text/plain": [
       "(1823, 6)"
      ]
     },
     "execution_count": 15,
     "metadata": {},
     "output_type": "execute_result"
    }
   ],
   "source": [
    "fifa2.shape"
   ]
  },
  {
   "cell_type": "markdown",
   "metadata": {},
   "source": [
    "###### Assign target label to each match ( 0 -> home wins, 1 -> away wins, 2 -> tie)"
   ]
  },
  {
   "cell_type": "code",
   "execution_count": 16,
   "metadata": {},
   "outputs": [],
   "source": [
    "fifa2['label'] = 2"
   ]
  },
  {
   "cell_type": "code",
   "execution_count": 17,
   "metadata": {},
   "outputs": [],
   "source": [
    "index_label0 = fifa2[fifa2['home_score'] > fifa2['away_score']].index"
   ]
  },
  {
   "cell_type": "code",
   "execution_count": 18,
   "metadata": {},
   "outputs": [],
   "source": [
    "index_label1 = fifa2[fifa2['home_score'] < fifa2['away_score']].index"
   ]
  },
  {
   "cell_type": "code",
   "execution_count": 19,
   "metadata": {},
   "outputs": [],
   "source": [
    "fifa2.loc[index_label0,'label'] = 0"
   ]
  },
  {
   "cell_type": "code",
   "execution_count": 20,
   "metadata": {},
   "outputs": [],
   "source": [
    "fifa2.loc[index_label1,'label'] = 1"
   ]
  },
  {
   "cell_type": "code",
   "execution_count": 21,
   "metadata": {},
   "outputs": [
    {
     "data": {
      "text/html": [
       "<div>\n",
       "<style scoped>\n",
       "    .dataframe tbody tr th:only-of-type {\n",
       "        vertical-align: middle;\n",
       "    }\n",
       "\n",
       "    .dataframe tbody tr th {\n",
       "        vertical-align: top;\n",
       "    }\n",
       "\n",
       "    .dataframe thead th {\n",
       "        text-align: right;\n",
       "    }\n",
       "</style>\n",
       "<table border=\"1\" class=\"dataframe\">\n",
       "  <thead>\n",
       "    <tr style=\"text-align: right;\">\n",
       "      <th></th>\n",
       "      <th>date</th>\n",
       "      <th>home_team</th>\n",
       "      <th>away_team</th>\n",
       "      <th>home_score</th>\n",
       "      <th>away_score</th>\n",
       "      <th>date1</th>\n",
       "      <th>label</th>\n",
       "    </tr>\n",
       "  </thead>\n",
       "  <tbody>\n",
       "    <tr>\n",
       "      <th>31408</th>\n",
       "      <td>2010-01-02</td>\n",
       "      <td>Iran</td>\n",
       "      <td>Korea DPR</td>\n",
       "      <td>1</td>\n",
       "      <td>0</td>\n",
       "      <td>2010</td>\n",
       "      <td>0</td>\n",
       "    </tr>\n",
       "    <tr>\n",
       "      <th>31409</th>\n",
       "      <td>2010-01-02</td>\n",
       "      <td>Qatar</td>\n",
       "      <td>Mali</td>\n",
       "      <td>0</td>\n",
       "      <td>0</td>\n",
       "      <td>2010</td>\n",
       "      <td>2</td>\n",
       "    </tr>\n",
       "    <tr>\n",
       "      <th>31410</th>\n",
       "      <td>2010-01-02</td>\n",
       "      <td>Syria</td>\n",
       "      <td>Zimbabwe</td>\n",
       "      <td>6</td>\n",
       "      <td>0</td>\n",
       "      <td>2010</td>\n",
       "      <td>0</td>\n",
       "    </tr>\n",
       "    <tr>\n",
       "      <th>31411</th>\n",
       "      <td>2010-01-02</td>\n",
       "      <td>Yemen</td>\n",
       "      <td>Tajikistan</td>\n",
       "      <td>0</td>\n",
       "      <td>1</td>\n",
       "      <td>2010</td>\n",
       "      <td>1</td>\n",
       "    </tr>\n",
       "    <tr>\n",
       "      <th>31412</th>\n",
       "      <td>2010-01-03</td>\n",
       "      <td>Angola</td>\n",
       "      <td>Gambia</td>\n",
       "      <td>1</td>\n",
       "      <td>1</td>\n",
       "      <td>2010</td>\n",
       "      <td>2</td>\n",
       "    </tr>\n",
       "  </tbody>\n",
       "</table>\n",
       "</div>"
      ],
      "text/plain": [
       "            date home_team   away_team  home_score  away_score  date1  label\n",
       "31408 2010-01-02      Iran   Korea DPR           1           0   2010      0\n",
       "31409 2010-01-02     Qatar        Mali           0           0   2010      2\n",
       "31410 2010-01-02     Syria    Zimbabwe           6           0   2010      0\n",
       "31411 2010-01-02     Yemen  Tajikistan           0           1   2010      1\n",
       "31412 2010-01-03    Angola      Gambia           1           1   2010      2"
      ]
     },
     "execution_count": 21,
     "metadata": {},
     "output_type": "execute_result"
    }
   ],
   "source": [
    "fifa2.head()"
   ]
  },
  {
   "cell_type": "markdown",
   "metadata": {},
   "source": [
    "### Load FIFA players scores to create team features for each year"
   ]
  },
  {
   "cell_type": "code",
   "execution_count": 22,
   "metadata": {},
   "outputs": [],
   "source": [
    "fifa_stats = pd.read_csv('fifa_stats.csv')"
   ]
  },
  {
   "cell_type": "code",
   "execution_count": 23,
   "metadata": {},
   "outputs": [],
   "source": [
    "fifa_stats['year'] = ('20' + fifa_stats['year'].astype(str)).astype(int)"
   ]
  },
  {
   "cell_type": "code",
   "execution_count": 24,
   "metadata": {},
   "outputs": [
    {
     "data": {
      "text/html": [
       "<div>\n",
       "<style scoped>\n",
       "    .dataframe tbody tr th:only-of-type {\n",
       "        vertical-align: middle;\n",
       "    }\n",
       "\n",
       "    .dataframe tbody tr th {\n",
       "        vertical-align: top;\n",
       "    }\n",
       "\n",
       "    .dataframe thead th {\n",
       "        text-align: right;\n",
       "    }\n",
       "</style>\n",
       "<table border=\"1\" class=\"dataframe\">\n",
       "  <thead>\n",
       "    <tr style=\"text-align: right;\">\n",
       "      <th></th>\n",
       "      <th>age</th>\n",
       "      <th>country_code</th>\n",
       "      <th>dob</th>\n",
       "      <th>full_name</th>\n",
       "      <th>image</th>\n",
       "      <th>nation</th>\n",
       "      <th>potential</th>\n",
       "      <th>rating</th>\n",
       "      <th>short_name</th>\n",
       "      <th>value</th>\n",
       "      <th>wage</th>\n",
       "      <th>year</th>\n",
       "    </tr>\n",
       "  </thead>\n",
       "  <tbody>\n",
       "    <tr>\n",
       "      <th>0</th>\n",
       "      <td>23.0</td>\n",
       "      <td>1</td>\n",
       "      <td>Feb 2, 1994</td>\n",
       "      <td>E. Hysaj</td>\n",
       "      <td>https://cdn.sofifa.org/1x/18/players/210864.png</td>\n",
       "      <td>Albania</td>\n",
       "      <td>84.0</td>\n",
       "      <td>80.0</td>\n",
       "      <td>E. Hysaj</td>\n",
       "      <td>16.0</td>\n",
       "      <td>58.0</td>\n",
       "      <td>2018</td>\n",
       "    </tr>\n",
       "    <tr>\n",
       "      <th>1</th>\n",
       "      <td>22.0</td>\n",
       "      <td>1</td>\n",
       "      <td>Mar 19, 1995</td>\n",
       "      <td>T. Strakosha</td>\n",
       "      <td>https://cdn.sofifa.org/1x/18/players/212151.png</td>\n",
       "      <td>Albania</td>\n",
       "      <td>1.0</td>\n",
       "      <td>79.0</td>\n",
       "      <td>T. Strakosha</td>\n",
       "      <td>89.0</td>\n",
       "      <td>1.0</td>\n",
       "      <td>2018</td>\n",
       "    </tr>\n",
       "  </tbody>\n",
       "</table>\n",
       "</div>"
      ],
      "text/plain": [
       "    age  country_code           dob     full_name  \\\n",
       "0  23.0             1   Feb 2, 1994      E. Hysaj   \n",
       "1  22.0             1  Mar 19, 1995  T. Strakosha   \n",
       "\n",
       "                                             image   nation  potential  \\\n",
       "0  https://cdn.sofifa.org/1x/18/players/210864.png  Albania       84.0   \n",
       "1  https://cdn.sofifa.org/1x/18/players/212151.png  Albania        1.0   \n",
       "\n",
       "   rating    short_name  value  wage  year  \n",
       "0    80.0      E. Hysaj   16.0  58.0  2018  \n",
       "1    79.0  T. Strakosha   89.0   1.0  2018  "
      ]
     },
     "execution_count": 24,
     "metadata": {},
     "output_type": "execute_result"
    }
   ],
   "source": [
    "fifa_stats.head(2)"
   ]
  },
  {
   "cell_type": "code",
   "execution_count": 25,
   "metadata": {},
   "outputs": [],
   "source": [
    "fifa_agg = fifa_stats.loc[:,['nation','rating',\n",
    "                  'year'] ].groupby(['nation', 'year']).mean()"
   ]
  },
  {
   "cell_type": "code",
   "execution_count": 26,
   "metadata": {},
   "outputs": [],
   "source": [
    "fifa_reset = fifa_agg.reset_index()"
   ]
  },
  {
   "cell_type": "code",
   "execution_count": 27,
   "metadata": {},
   "outputs": [
    {
     "data": {
      "text/html": [
       "<div>\n",
       "<style scoped>\n",
       "    .dataframe tbody tr th:only-of-type {\n",
       "        vertical-align: middle;\n",
       "    }\n",
       "\n",
       "    .dataframe tbody tr th {\n",
       "        vertical-align: top;\n",
       "    }\n",
       "\n",
       "    .dataframe thead th {\n",
       "        text-align: right;\n",
       "    }\n",
       "</style>\n",
       "<table border=\"1\" class=\"dataframe\">\n",
       "  <thead>\n",
       "    <tr style=\"text-align: right;\">\n",
       "      <th></th>\n",
       "      <th>nation</th>\n",
       "      <th>year</th>\n",
       "      <th>rating</th>\n",
       "    </tr>\n",
       "  </thead>\n",
       "  <tbody>\n",
       "    <tr>\n",
       "      <th>0</th>\n",
       "      <td>Afghanistan</td>\n",
       "      <td>2018</td>\n",
       "      <td>59.500000</td>\n",
       "    </tr>\n",
       "    <tr>\n",
       "      <th>1</th>\n",
       "      <td>Albania</td>\n",
       "      <td>2010</td>\n",
       "      <td>67.727273</td>\n",
       "    </tr>\n",
       "    <tr>\n",
       "      <th>2</th>\n",
       "      <td>Albania</td>\n",
       "      <td>2014</td>\n",
       "      <td>68.125000</td>\n",
       "    </tr>\n",
       "    <tr>\n",
       "      <th>3</th>\n",
       "      <td>Albania</td>\n",
       "      <td>2018</td>\n",
       "      <td>73.818182</td>\n",
       "    </tr>\n",
       "    <tr>\n",
       "      <th>4</th>\n",
       "      <td>Algeria</td>\n",
       "      <td>2010</td>\n",
       "      <td>62.090909</td>\n",
       "    </tr>\n",
       "  </tbody>\n",
       "</table>\n",
       "</div>"
      ],
      "text/plain": [
       "        nation  year     rating\n",
       "0  Afghanistan  2018  59.500000\n",
       "1      Albania  2010  67.727273\n",
       "2      Albania  2014  68.125000\n",
       "3      Albania  2018  73.818182\n",
       "4      Algeria  2010  62.090909"
      ]
     },
     "execution_count": 27,
     "metadata": {},
     "output_type": "execute_result"
    }
   ],
   "source": [
    "fifa_reset.head()"
   ]
  },
  {
   "cell_type": "markdown",
   "metadata": {},
   "source": [
    "### Load FIFA rank values for years 2010, 2014 and 2018"
   ]
  },
  {
   "cell_type": "code",
   "execution_count": 28,
   "metadata": {},
   "outputs": [],
   "source": [
    "fifarank = pd.read_csv('fifa_rank.csv')"
   ]
  },
  {
   "cell_type": "code",
   "execution_count": 29,
   "metadata": {},
   "outputs": [
    {
     "data": {
      "text/html": [
       "<div>\n",
       "<style scoped>\n",
       "    .dataframe tbody tr th:only-of-type {\n",
       "        vertical-align: middle;\n",
       "    }\n",
       "\n",
       "    .dataframe tbody tr th {\n",
       "        vertical-align: top;\n",
       "    }\n",
       "\n",
       "    .dataframe thead th {\n",
       "        text-align: right;\n",
       "    }\n",
       "</style>\n",
       "<table border=\"1\" class=\"dataframe\">\n",
       "  <thead>\n",
       "    <tr style=\"text-align: right;\">\n",
       "      <th></th>\n",
       "      <th>nation</th>\n",
       "      <th>Value of Starting 11</th>\n",
       "      <th>Fifa Ranking</th>\n",
       "      <th>year</th>\n",
       "    </tr>\n",
       "  </thead>\n",
       "  <tbody>\n",
       "    <tr>\n",
       "      <th>0</th>\n",
       "      <td>Russia</td>\n",
       "      <td>855.0</td>\n",
       "      <td>66</td>\n",
       "      <td>2018</td>\n",
       "    </tr>\n",
       "    <tr>\n",
       "      <th>1</th>\n",
       "      <td>Brazil</td>\n",
       "      <td>933.0</td>\n",
       "      <td>2</td>\n",
       "      <td>2018</td>\n",
       "    </tr>\n",
       "    <tr>\n",
       "      <th>2</th>\n",
       "      <td>Iran</td>\n",
       "      <td>778.0</td>\n",
       "      <td>36</td>\n",
       "      <td>2018</td>\n",
       "    </tr>\n",
       "    <tr>\n",
       "      <th>3</th>\n",
       "      <td>Japan</td>\n",
       "      <td>839.0</td>\n",
       "      <td>60</td>\n",
       "      <td>2018</td>\n",
       "    </tr>\n",
       "    <tr>\n",
       "      <th>4</th>\n",
       "      <td>Mexico</td>\n",
       "      <td>863.0</td>\n",
       "      <td>15</td>\n",
       "      <td>2018</td>\n",
       "    </tr>\n",
       "  </tbody>\n",
       "</table>\n",
       "</div>"
      ],
      "text/plain": [
       "   nation  Value of Starting 11  Fifa Ranking  year\n",
       "0  Russia                 855.0            66  2018\n",
       "1  Brazil                 933.0             2  2018\n",
       "2    Iran                 778.0            36  2018\n",
       "3   Japan                 839.0            60  2018\n",
       "4  Mexico                 863.0            15  2018"
      ]
     },
     "execution_count": 29,
     "metadata": {},
     "output_type": "execute_result"
    }
   ],
   "source": [
    "fifarank.head()"
   ]
  },
  {
   "cell_type": "markdown",
   "metadata": {},
   "source": [
    "### Build feature vector"
   ]
  },
  {
   "cell_type": "markdown",
   "metadata": {},
   "source": [
    "###### Join FIFA ranking + players ratings"
   ]
  },
  {
   "cell_type": "code",
   "execution_count": 30,
   "metadata": {},
   "outputs": [
    {
     "data": {
      "text/plain": [
       "array(['Afghanistan', 'Albania', 'Algeria', 'Andorra', 'Angola',\n",
       "       'Antigua & Barbuda', 'Argentina', 'Armenia', 'Australia',\n",
       "       'Austria', 'Azerbaijan', 'Bahrain', 'Barbados', 'Belarus',\n",
       "       'Belgium', 'Belize', 'Benin', 'Bermuda', 'Bolivia',\n",
       "       'Bosnia Herzegovina', 'Botswana', 'Brazil', 'Bulgaria',\n",
       "       'Burkina Faso', 'Burundi', 'Cambodia', 'Cameroon', 'Canada',\n",
       "       'Cape Verde', 'Central African Rep.', 'Chad', 'Chile', 'China PR',\n",
       "       'Chinese Taipei', 'Colombia', 'Comoros', 'Congo', 'Costa Rica',\n",
       "       'Croatia', 'Cuba', 'Curacao', 'Cyprus', 'Czech Republic',\n",
       "       'DR Congo', 'Denmark', 'Dominican Republic', 'Ecuador', 'Egypt',\n",
       "       'El Salvador', 'England', 'Equatorial Guinea', 'Eritrea',\n",
       "       'Estonia', 'Ethiopia', 'FYR Macedonia', 'Faroe Islands', 'Fiji',\n",
       "       'Finland', 'France', 'Gabon', 'Gambia', 'Georgia', 'Germany',\n",
       "       'Ghana', 'Gibraltar', 'Greece', 'Grenada', 'Guam', 'Guatemala',\n",
       "       'Guinea', 'Guinea Bissau', 'Guyana', 'Haiti', 'Honduras',\n",
       "       'Hong Kong', 'Hungary', 'Iceland', 'India', 'Indonesia', 'Iran',\n",
       "       'Iraq', 'Israel', 'Italy', 'Ivory Coast', 'Jamaica', 'Japan',\n",
       "       'Jordan', 'Kazakhstan', 'Kenya', 'Korea DPR', 'Korea Republic',\n",
       "       'Kosovo', 'Kuwait', 'Kyrgyzstan', 'Latvia', 'Lebanon', 'Lesotho',\n",
       "       'Liberia', 'Libya', 'Liechtenstein', 'Lithuania', 'Luxembourg',\n",
       "       'Madagascar', 'Malawi', 'Mali', 'Malta', 'Mauritania', 'Mauritius',\n",
       "       'Mexico', 'Moldova', 'Montenegro', 'Montserrat', 'Morocco',\n",
       "       'Mozambique', 'Namibia', 'Netherlands', 'New Caledonia',\n",
       "       'New Zealand', 'Niger', 'Nigeria', 'Northern Ireland', 'Norway',\n",
       "       'Oman', 'Pakistan', 'Palestine', 'Panama', 'Paraguay', 'Peru',\n",
       "       'Philippines', 'Poland', 'Portugal', 'Puerto Rico', 'Qatar',\n",
       "       'Republic of Ireland', 'Romania', 'Russia', 'Rwanda', 'San Marino',\n",
       "       'Saudi Arabia', 'Scotland', 'Senegal', 'Serbia', 'Sierra Leone',\n",
       "       'Slovakia', 'Slovenia', 'Somalia', 'South Africa', 'South Sudan',\n",
       "       'Spain', 'Sri Lanka', 'St Kitts Nevis', 'St Lucia', 'Sudan',\n",
       "       'Suriname', 'Swaziland', 'Sweden', 'Switzerland', 'Syria',\n",
       "       'São Tomé & Príncipe', 'Tajikistan', 'Tanzania', 'Thailand',\n",
       "       'Timor-Leste', 'Togo', 'Trinidad & Tobago', 'Tunisia', 'Turkey',\n",
       "       'Turkmenistan', 'Uganda', 'Ukraine', 'United States', 'Uruguay',\n",
       "       'Uzbekistan', 'Venezuela', 'Vietnam', 'Wales', 'Zambia',\n",
       "       'Zimbabwe'], dtype=object)"
      ]
     },
     "execution_count": 30,
     "metadata": {},
     "output_type": "execute_result"
    }
   ],
   "source": [
    "fifa_reset['nation'].unique()"
   ]
  },
  {
   "cell_type": "code",
   "execution_count": 31,
   "metadata": {},
   "outputs": [
    {
     "data": {
      "text/html": [
       "<div>\n",
       "<style scoped>\n",
       "    .dataframe tbody tr th:only-of-type {\n",
       "        vertical-align: middle;\n",
       "    }\n",
       "\n",
       "    .dataframe tbody tr th {\n",
       "        vertical-align: top;\n",
       "    }\n",
       "\n",
       "    .dataframe thead th {\n",
       "        text-align: right;\n",
       "    }\n",
       "</style>\n",
       "<table border=\"1\" class=\"dataframe\">\n",
       "  <thead>\n",
       "    <tr style=\"text-align: right;\">\n",
       "      <th></th>\n",
       "      <th>nation</th>\n",
       "      <th>year</th>\n",
       "      <th>rating</th>\n",
       "    </tr>\n",
       "  </thead>\n",
       "  <tbody>\n",
       "    <tr>\n",
       "      <th>234</th>\n",
       "      <td>Korea DPR</td>\n",
       "      <td>2010</td>\n",
       "      <td>69.000000</td>\n",
       "    </tr>\n",
       "    <tr>\n",
       "      <th>235</th>\n",
       "      <td>Korea DPR</td>\n",
       "      <td>2014</td>\n",
       "      <td>72.000000</td>\n",
       "    </tr>\n",
       "    <tr>\n",
       "      <th>236</th>\n",
       "      <td>Korea DPR</td>\n",
       "      <td>2018</td>\n",
       "      <td>62.333333</td>\n",
       "    </tr>\n",
       "    <tr>\n",
       "      <th>237</th>\n",
       "      <td>Korea Republic</td>\n",
       "      <td>2010</td>\n",
       "      <td>63.272727</td>\n",
       "    </tr>\n",
       "    <tr>\n",
       "      <th>238</th>\n",
       "      <td>Korea Republic</td>\n",
       "      <td>2014</td>\n",
       "      <td>73.181818</td>\n",
       "    </tr>\n",
       "    <tr>\n",
       "      <th>239</th>\n",
       "      <td>Korea Republic</td>\n",
       "      <td>2018</td>\n",
       "      <td>74.909091</td>\n",
       "    </tr>\n",
       "  </tbody>\n",
       "</table>\n",
       "</div>"
      ],
      "text/plain": [
       "             nation  year     rating\n",
       "234       Korea DPR  2010  69.000000\n",
       "235       Korea DPR  2014  72.000000\n",
       "236       Korea DPR  2018  62.333333\n",
       "237  Korea Republic  2010  63.272727\n",
       "238  Korea Republic  2014  73.181818\n",
       "239  Korea Republic  2018  74.909091"
      ]
     },
     "execution_count": 31,
     "metadata": {},
     "output_type": "execute_result"
    }
   ],
   "source": [
    "fifa_reset[fifa_reset['nation'].str.contains('Korea')]"
   ]
  },
  {
   "cell_type": "code",
   "execution_count": 32,
   "metadata": {},
   "outputs": [
    {
     "data": {
      "text/plain": [
       "array(['Afghanistan', 'Albania', 'Algeria', 'Andorra', 'Angola',\n",
       "       'Antigua & Barbuda', 'Argentina', 'Armenia', 'Australia',\n",
       "       'Austria', 'Azerbaijan', 'Bahrain', 'Barbados', 'Belarus',\n",
       "       'Belgium', 'Belize', 'Benin', 'Bermuda', 'Bolivia',\n",
       "       'Bosnia Herzegovina', 'Botswana', 'Brazil', 'Bulgaria',\n",
       "       'Burkina Faso', 'Burundi', 'Cambodia', 'Cameroon', 'Canada',\n",
       "       'Cape Verde', 'Central African Rep.', 'Chad', 'Chile', 'China PR',\n",
       "       'Chinese Taipei', 'Colombia', 'Comoros', 'Congo', 'Costa Rica',\n",
       "       'Croatia', 'Cuba', 'Curacao', 'Cyprus', 'Czech Republic',\n",
       "       'DR Congo', 'Denmark', 'Dominican Republic', 'Ecuador', 'Egypt',\n",
       "       'El Salvador', 'England', 'Equatorial Guinea', 'Eritrea',\n",
       "       'Estonia', 'Ethiopia', 'FYR Macedonia', 'Faroe Islands', 'Fiji',\n",
       "       'Finland', 'France', 'Gabon', 'Gambia', 'Georgia', 'Germany',\n",
       "       'Ghana', 'Gibraltar', 'Greece', 'Grenada', 'Guam', 'Guatemala',\n",
       "       'Guinea', 'Guinea Bissau', 'Guyana', 'Haiti', 'Honduras',\n",
       "       'Hong Kong', 'Hungary', 'Iceland', 'India', 'Indonesia', 'Iran',\n",
       "       'Iraq', 'Israel', 'Italy', 'Ivory Coast', 'Jamaica', 'Japan',\n",
       "       'Jordan', 'Kazakhstan', 'Kenya', 'Korea DPR', 'Korea Republic',\n",
       "       'Kosovo', 'Kuwait', 'Kyrgyzstan', 'Latvia', 'Lebanon', 'Lesotho',\n",
       "       'Liberia', 'Libya', 'Liechtenstein', 'Lithuania', 'Luxembourg',\n",
       "       'Madagascar', 'Malawi', 'Mali', 'Malta', 'Mauritania', 'Mauritius',\n",
       "       'Mexico', 'Moldova', 'Montenegro', 'Montserrat', 'Morocco',\n",
       "       'Mozambique', 'Namibia', 'Netherlands', 'New Caledonia',\n",
       "       'New Zealand', 'Niger', 'Nigeria', 'Northern Ireland', 'Norway',\n",
       "       'Oman', 'Pakistan', 'Palestine', 'Panama', 'Paraguay', 'Peru',\n",
       "       'Philippines', 'Poland', 'Portugal', 'Puerto Rico', 'Qatar',\n",
       "       'Republic of Ireland', 'Romania', 'Russia', 'Rwanda', 'San Marino',\n",
       "       'Saudi Arabia', 'Scotland', 'Senegal', 'Serbia', 'Sierra Leone',\n",
       "       'Slovakia', 'Slovenia', 'Somalia', 'South Africa', 'South Sudan',\n",
       "       'Spain', 'Sri Lanka', 'St Kitts Nevis', 'St Lucia', 'Sudan',\n",
       "       'Suriname', 'Swaziland', 'Sweden', 'Switzerland', 'Syria',\n",
       "       'São Tomé & Príncipe', 'Tajikistan', 'Tanzania', 'Thailand',\n",
       "       'Timor-Leste', 'Togo', 'Trinidad & Tobago', 'Tunisia', 'Turkey',\n",
       "       'Turkmenistan', 'Uganda', 'Ukraine', 'United States', 'Uruguay',\n",
       "       'Uzbekistan', 'Venezuela', 'Vietnam', 'Wales', 'Zambia',\n",
       "       'Zimbabwe'], dtype=object)"
      ]
     },
     "execution_count": 32,
     "metadata": {},
     "output_type": "execute_result"
    }
   ],
   "source": [
    "fifa_reset['nation'].unique()"
   ]
  },
  {
   "cell_type": "code",
   "execution_count": 33,
   "metadata": {},
   "outputs": [
    {
     "data": {
      "text/html": [
       "<div>\n",
       "<style scoped>\n",
       "    .dataframe tbody tr th:only-of-type {\n",
       "        vertical-align: middle;\n",
       "    }\n",
       "\n",
       "    .dataframe tbody tr th {\n",
       "        vertical-align: top;\n",
       "    }\n",
       "\n",
       "    .dataframe thead th {\n",
       "        text-align: right;\n",
       "    }\n",
       "</style>\n",
       "<table border=\"1\" class=\"dataframe\">\n",
       "  <thead>\n",
       "    <tr style=\"text-align: right;\">\n",
       "      <th></th>\n",
       "      <th>nation</th>\n",
       "      <th>year</th>\n",
       "      <th>rating</th>\n",
       "    </tr>\n",
       "  </thead>\n",
       "  <tbody>\n",
       "    <tr>\n",
       "      <th>0</th>\n",
       "      <td>Afghanistan</td>\n",
       "      <td>2018</td>\n",
       "      <td>59.500000</td>\n",
       "    </tr>\n",
       "    <tr>\n",
       "      <th>1</th>\n",
       "      <td>Albania</td>\n",
       "      <td>2010</td>\n",
       "      <td>67.727273</td>\n",
       "    </tr>\n",
       "    <tr>\n",
       "      <th>2</th>\n",
       "      <td>Albania</td>\n",
       "      <td>2014</td>\n",
       "      <td>68.125000</td>\n",
       "    </tr>\n",
       "    <tr>\n",
       "      <th>3</th>\n",
       "      <td>Albania</td>\n",
       "      <td>2018</td>\n",
       "      <td>73.818182</td>\n",
       "    </tr>\n",
       "    <tr>\n",
       "      <th>4</th>\n",
       "      <td>Algeria</td>\n",
       "      <td>2010</td>\n",
       "      <td>62.090909</td>\n",
       "    </tr>\n",
       "  </tbody>\n",
       "</table>\n",
       "</div>"
      ],
      "text/plain": [
       "        nation  year     rating\n",
       "0  Afghanistan  2018  59.500000\n",
       "1      Albania  2010  67.727273\n",
       "2      Albania  2014  68.125000\n",
       "3      Albania  2018  73.818182\n",
       "4      Algeria  2010  62.090909"
      ]
     },
     "execution_count": 33,
     "metadata": {},
     "output_type": "execute_result"
    }
   ],
   "source": [
    "fifa_reset2 = fifa_reset.replace('Korea DPR', 'South Korea')\n",
    "fifa_reset2 = fifa_reset2.replace('Korea Republic', 'South Korea')\n",
    "fifa_reset2.head()"
   ]
  },
  {
   "cell_type": "code",
   "execution_count": 34,
   "metadata": {},
   "outputs": [
    {
     "data": {
      "text/plain": [
       "array(['Russia', 'Brazil', 'Iran', 'Japan', 'Mexico', 'Belgium',\n",
       "       'South Korea', 'Saudi Arabia', 'Germany', 'England', 'Spain',\n",
       "       'Nigeria', 'Costa Rica', 'Poland', 'Egypt', 'Iceland', 'Serbia',\n",
       "       'Portugal', 'France', 'Uruguay', 'Argentina', 'Colombia', 'Panama',\n",
       "       'Senegal', 'Morocco', 'Tunisia', 'Switzerland', 'Croatia',\n",
       "       'Sweden', 'Denmark', 'Australia', 'Peru'], dtype=object)"
      ]
     },
     "execution_count": 34,
     "metadata": {},
     "output_type": "execute_result"
    }
   ],
   "source": [
    "team_features=fifarank.merge(fifa_reset2, left_on=['nation','year'], right_on=['nation','year'], how='inner')\n",
    "team_features['nation'].unique()"
   ]
  },
  {
   "cell_type": "code",
   "execution_count": 35,
   "metadata": {},
   "outputs": [
    {
     "data": {
      "text/html": [
       "<div>\n",
       "<style scoped>\n",
       "    .dataframe tbody tr th:only-of-type {\n",
       "        vertical-align: middle;\n",
       "    }\n",
       "\n",
       "    .dataframe tbody tr th {\n",
       "        vertical-align: top;\n",
       "    }\n",
       "\n",
       "    .dataframe thead th {\n",
       "        text-align: right;\n",
       "    }\n",
       "</style>\n",
       "<table border=\"1\" class=\"dataframe\">\n",
       "  <thead>\n",
       "    <tr style=\"text-align: right;\">\n",
       "      <th></th>\n",
       "      <th>nation</th>\n",
       "      <th>Fifa Ranking</th>\n",
       "      <th>year</th>\n",
       "      <th>rating</th>\n",
       "    </tr>\n",
       "  </thead>\n",
       "  <tbody>\n",
       "    <tr>\n",
       "      <th>0</th>\n",
       "      <td>Russia</td>\n",
       "      <td>66</td>\n",
       "      <td>2018</td>\n",
       "      <td>77.166667</td>\n",
       "    </tr>\n",
       "    <tr>\n",
       "      <th>1</th>\n",
       "      <td>Brazil</td>\n",
       "      <td>2</td>\n",
       "      <td>2018</td>\n",
       "      <td>86.000000</td>\n",
       "    </tr>\n",
       "    <tr>\n",
       "      <th>2</th>\n",
       "      <td>Iran</td>\n",
       "      <td>36</td>\n",
       "      <td>2018</td>\n",
       "      <td>72.272727</td>\n",
       "    </tr>\n",
       "    <tr>\n",
       "      <th>3</th>\n",
       "      <td>Japan</td>\n",
       "      <td>60</td>\n",
       "      <td>2018</td>\n",
       "      <td>76.272727</td>\n",
       "    </tr>\n",
       "    <tr>\n",
       "      <th>4</th>\n",
       "      <td>Mexico</td>\n",
       "      <td>15</td>\n",
       "      <td>2018</td>\n",
       "      <td>79.181818</td>\n",
       "    </tr>\n",
       "  </tbody>\n",
       "</table>\n",
       "</div>"
      ],
      "text/plain": [
       "   nation  Fifa Ranking  year     rating\n",
       "0  Russia            66  2018  77.166667\n",
       "1  Brazil             2  2018  86.000000\n",
       "2    Iran            36  2018  72.272727\n",
       "3   Japan            60  2018  76.272727\n",
       "4  Mexico            15  2018  79.181818"
      ]
     },
     "execution_count": 35,
     "metadata": {},
     "output_type": "execute_result"
    }
   ],
   "source": [
    "team_fer=team_features.loc[:,['nation', 'Fifa Ranking', 'year', 'rating']]\n",
    "team_fer.head()"
   ]
  },
  {
   "cell_type": "markdown",
   "metadata": {},
   "source": [
    "###### Join nation features + historical target"
   ]
  },
  {
   "cell_type": "code",
   "execution_count": 36,
   "metadata": {},
   "outputs": [
    {
     "data": {
      "text/html": [
       "<div>\n",
       "<style scoped>\n",
       "    .dataframe tbody tr th:only-of-type {\n",
       "        vertical-align: middle;\n",
       "    }\n",
       "\n",
       "    .dataframe tbody tr th {\n",
       "        vertical-align: top;\n",
       "    }\n",
       "\n",
       "    .dataframe thead th {\n",
       "        text-align: right;\n",
       "    }\n",
       "</style>\n",
       "<table border=\"1\" class=\"dataframe\">\n",
       "  <thead>\n",
       "    <tr style=\"text-align: right;\">\n",
       "      <th></th>\n",
       "      <th>home_team</th>\n",
       "      <th>away_team</th>\n",
       "      <th>date1</th>\n",
       "      <th>label</th>\n",
       "    </tr>\n",
       "  </thead>\n",
       "  <tbody>\n",
       "    <tr>\n",
       "      <th>31408</th>\n",
       "      <td>Iran</td>\n",
       "      <td>Korea DPR</td>\n",
       "      <td>2010</td>\n",
       "      <td>0</td>\n",
       "    </tr>\n",
       "    <tr>\n",
       "      <th>31409</th>\n",
       "      <td>Qatar</td>\n",
       "      <td>Mali</td>\n",
       "      <td>2010</td>\n",
       "      <td>2</td>\n",
       "    </tr>\n",
       "    <tr>\n",
       "      <th>31410</th>\n",
       "      <td>Syria</td>\n",
       "      <td>Zimbabwe</td>\n",
       "      <td>2010</td>\n",
       "      <td>0</td>\n",
       "    </tr>\n",
       "    <tr>\n",
       "      <th>31411</th>\n",
       "      <td>Yemen</td>\n",
       "      <td>Tajikistan</td>\n",
       "      <td>2010</td>\n",
       "      <td>1</td>\n",
       "    </tr>\n",
       "    <tr>\n",
       "      <th>31412</th>\n",
       "      <td>Angola</td>\n",
       "      <td>Gambia</td>\n",
       "      <td>2010</td>\n",
       "      <td>2</td>\n",
       "    </tr>\n",
       "  </tbody>\n",
       "</table>\n",
       "</div>"
      ],
      "text/plain": [
       "      home_team   away_team  date1  label\n",
       "31408      Iran   Korea DPR   2010      0\n",
       "31409     Qatar        Mali   2010      2\n",
       "31410     Syria    Zimbabwe   2010      0\n",
       "31411     Yemen  Tajikistan   2010      1\n",
       "31412    Angola      Gambia   2010      2"
      ]
     },
     "execution_count": 36,
     "metadata": {},
     "output_type": "execute_result"
    }
   ],
   "source": [
    "fifa3=fifa2.loc[:,['home_team', 'away_team', 'date1', 'label']]\n",
    "fifa3.head()"
   ]
  },
  {
   "cell_type": "code",
   "execution_count": 37,
   "metadata": {},
   "outputs": [],
   "source": [
    "fifa4=fifa3.merge(team_fer, left_on=[\"home_team\", \"date1\"], right_on=[\"nation\", \"year\"], how='inner')"
   ]
  },
  {
   "cell_type": "code",
   "execution_count": 38,
   "metadata": {},
   "outputs": [
    {
     "data": {
      "text/plain": [
       "(32,)"
      ]
     },
     "execution_count": 38,
     "metadata": {},
     "output_type": "execute_result"
    }
   ],
   "source": [
    "team_fer['nation'].unique().shape"
   ]
  },
  {
   "cell_type": "code",
   "execution_count": 39,
   "metadata": {},
   "outputs": [
    {
     "data": {
      "text/plain": [
       "(33, 4)"
      ]
     },
     "execution_count": 39,
     "metadata": {},
     "output_type": "execute_result"
    }
   ],
   "source": [
    "team_fer[team_fer.year == 2018].shape"
   ]
  },
  {
   "cell_type": "code",
   "execution_count": 40,
   "metadata": {},
   "outputs": [
    {
     "data": {
      "text/plain": [
       "(205,)"
      ]
     },
     "execution_count": 40,
     "metadata": {},
     "output_type": "execute_result"
    }
   ],
   "source": [
    "fifa3['home_team'].unique().shape"
   ]
  },
  {
   "cell_type": "code",
   "execution_count": 41,
   "metadata": {},
   "outputs": [],
   "source": [
    "fifa5=fifa4.rename(columns={'Fifa Ranking': \"home_rank\", 'rating': 'home_rating'})"
   ]
  },
  {
   "cell_type": "code",
   "execution_count": 42,
   "metadata": {},
   "outputs": [],
   "source": [
    "fifa6=fifa5.merge(team_fer, left_on=[\"away_team\", \"date1\"], right_on=[\"nation\", \"year\"], how='inner')"
   ]
  },
  {
   "cell_type": "code",
   "execution_count": 43,
   "metadata": {},
   "outputs": [
    {
     "data": {
      "text/html": [
       "<div>\n",
       "<style scoped>\n",
       "    .dataframe tbody tr th:only-of-type {\n",
       "        vertical-align: middle;\n",
       "    }\n",
       "\n",
       "    .dataframe tbody tr th {\n",
       "        vertical-align: top;\n",
       "    }\n",
       "\n",
       "    .dataframe thead th {\n",
       "        text-align: right;\n",
       "    }\n",
       "</style>\n",
       "<table border=\"1\" class=\"dataframe\">\n",
       "  <thead>\n",
       "    <tr style=\"text-align: right;\">\n",
       "      <th></th>\n",
       "      <th>home_team</th>\n",
       "      <th>away_team</th>\n",
       "      <th>year</th>\n",
       "      <th>label</th>\n",
       "      <th>nation_x</th>\n",
       "      <th>home_rank</th>\n",
       "      <th>year_x</th>\n",
       "      <th>home_rating</th>\n",
       "      <th>nation_y</th>\n",
       "      <th>away_rank</th>\n",
       "      <th>year_y</th>\n",
       "      <th>away_rating</th>\n",
       "    </tr>\n",
       "  </thead>\n",
       "  <tbody>\n",
       "    <tr>\n",
       "      <th>0</th>\n",
       "      <td>Denmark</td>\n",
       "      <td>Sweden</td>\n",
       "      <td>2018</td>\n",
       "      <td>1</td>\n",
       "      <td>Denmark</td>\n",
       "      <td>12</td>\n",
       "      <td>2018</td>\n",
       "      <td>79.454545</td>\n",
       "      <td>Sweden</td>\n",
       "      <td>23</td>\n",
       "      <td>2018</td>\n",
       "      <td>77.166667</td>\n",
       "    </tr>\n",
       "    <tr>\n",
       "      <th>1</th>\n",
       "      <td>Denmark</td>\n",
       "      <td>Panama</td>\n",
       "      <td>2018</td>\n",
       "      <td>0</td>\n",
       "      <td>Denmark</td>\n",
       "      <td>12</td>\n",
       "      <td>2018</td>\n",
       "      <td>79.454545</td>\n",
       "      <td>Panama</td>\n",
       "      <td>55</td>\n",
       "      <td>2018</td>\n",
       "      <td>68.000000</td>\n",
       "    </tr>\n",
       "    <tr>\n",
       "      <th>2</th>\n",
       "      <td>Switzerland</td>\n",
       "      <td>Panama</td>\n",
       "      <td>2018</td>\n",
       "      <td>0</td>\n",
       "      <td>Switzerland</td>\n",
       "      <td>6</td>\n",
       "      <td>2018</td>\n",
       "      <td>78.636364</td>\n",
       "      <td>Panama</td>\n",
       "      <td>55</td>\n",
       "      <td>2018</td>\n",
       "      <td>68.000000</td>\n",
       "    </tr>\n",
       "    <tr>\n",
       "      <th>3</th>\n",
       "      <td>Mexico</td>\n",
       "      <td>Iceland</td>\n",
       "      <td>2018</td>\n",
       "      <td>0</td>\n",
       "      <td>Mexico</td>\n",
       "      <td>15</td>\n",
       "      <td>2018</td>\n",
       "      <td>79.181818</td>\n",
       "      <td>Iceland</td>\n",
       "      <td>22</td>\n",
       "      <td>2018</td>\n",
       "      <td>73.818182</td>\n",
       "    </tr>\n",
       "    <tr>\n",
       "      <th>4</th>\n",
       "      <td>Peru</td>\n",
       "      <td>Iceland</td>\n",
       "      <td>2018</td>\n",
       "      <td>0</td>\n",
       "      <td>Peru</td>\n",
       "      <td>11</td>\n",
       "      <td>2018</td>\n",
       "      <td>74.272727</td>\n",
       "      <td>Iceland</td>\n",
       "      <td>22</td>\n",
       "      <td>2018</td>\n",
       "      <td>73.818182</td>\n",
       "    </tr>\n",
       "  </tbody>\n",
       "</table>\n",
       "</div>"
      ],
      "text/plain": [
       "     home_team away_team  year  label     nation_x  home_rank  year_x  \\\n",
       "0      Denmark    Sweden  2018      1      Denmark         12    2018   \n",
       "1      Denmark    Panama  2018      0      Denmark         12    2018   \n",
       "2  Switzerland    Panama  2018      0  Switzerland          6    2018   \n",
       "3       Mexico   Iceland  2018      0       Mexico         15    2018   \n",
       "4         Peru   Iceland  2018      0         Peru         11    2018   \n",
       "\n",
       "   home_rating nation_y  away_rank  year_y  away_rating  \n",
       "0    79.454545   Sweden         23    2018    77.166667  \n",
       "1    79.454545   Panama         55    2018    68.000000  \n",
       "2    78.636364   Panama         55    2018    68.000000  \n",
       "3    79.181818  Iceland         22    2018    73.818182  \n",
       "4    74.272727  Iceland         22    2018    73.818182  "
      ]
     },
     "execution_count": 43,
     "metadata": {},
     "output_type": "execute_result"
    }
   ],
   "source": [
    "fifa7=fifa6.rename(columns={'Fifa Ranking': \"away_rank\", 'rating': 'away_rating', 'date1': 'year'})\n",
    "fifa7.head()"
   ]
  },
  {
   "cell_type": "code",
   "execution_count": 44,
   "metadata": {},
   "outputs": [
    {
     "data": {
      "text/html": [
       "<div>\n",
       "<style scoped>\n",
       "    .dataframe tbody tr th:only-of-type {\n",
       "        vertical-align: middle;\n",
       "    }\n",
       "\n",
       "    .dataframe tbody tr th {\n",
       "        vertical-align: top;\n",
       "    }\n",
       "\n",
       "    .dataframe thead th {\n",
       "        text-align: right;\n",
       "    }\n",
       "</style>\n",
       "<table border=\"1\" class=\"dataframe\">\n",
       "  <thead>\n",
       "    <tr style=\"text-align: right;\">\n",
       "      <th></th>\n",
       "      <th>year</th>\n",
       "      <th>home_team</th>\n",
       "      <th>away_team</th>\n",
       "      <th>home_rank</th>\n",
       "      <th>away_rank</th>\n",
       "      <th>home_rating</th>\n",
       "      <th>away_rating</th>\n",
       "      <th>label</th>\n",
       "    </tr>\n",
       "  </thead>\n",
       "  <tbody>\n",
       "    <tr>\n",
       "      <th>0</th>\n",
       "      <td>2018</td>\n",
       "      <td>Denmark</td>\n",
       "      <td>Sweden</td>\n",
       "      <td>12</td>\n",
       "      <td>23</td>\n",
       "      <td>79.454545</td>\n",
       "      <td>77.166667</td>\n",
       "      <td>1</td>\n",
       "    </tr>\n",
       "    <tr>\n",
       "      <th>1</th>\n",
       "      <td>2018</td>\n",
       "      <td>Denmark</td>\n",
       "      <td>Panama</td>\n",
       "      <td>12</td>\n",
       "      <td>55</td>\n",
       "      <td>79.454545</td>\n",
       "      <td>68.000000</td>\n",
       "      <td>0</td>\n",
       "    </tr>\n",
       "    <tr>\n",
       "      <th>2</th>\n",
       "      <td>2018</td>\n",
       "      <td>Switzerland</td>\n",
       "      <td>Panama</td>\n",
       "      <td>6</td>\n",
       "      <td>55</td>\n",
       "      <td>78.636364</td>\n",
       "      <td>68.000000</td>\n",
       "      <td>0</td>\n",
       "    </tr>\n",
       "    <tr>\n",
       "      <th>3</th>\n",
       "      <td>2018</td>\n",
       "      <td>Mexico</td>\n",
       "      <td>Iceland</td>\n",
       "      <td>15</td>\n",
       "      <td>22</td>\n",
       "      <td>79.181818</td>\n",
       "      <td>73.818182</td>\n",
       "      <td>0</td>\n",
       "    </tr>\n",
       "    <tr>\n",
       "      <th>4</th>\n",
       "      <td>2018</td>\n",
       "      <td>Peru</td>\n",
       "      <td>Iceland</td>\n",
       "      <td>11</td>\n",
       "      <td>22</td>\n",
       "      <td>74.272727</td>\n",
       "      <td>73.818182</td>\n",
       "      <td>0</td>\n",
       "    </tr>\n",
       "  </tbody>\n",
       "</table>\n",
       "</div>"
      ],
      "text/plain": [
       "   year    home_team away_team  home_rank  away_rank  home_rating  \\\n",
       "0  2018      Denmark    Sweden         12         23    79.454545   \n",
       "1  2018      Denmark    Panama         12         55    79.454545   \n",
       "2  2018  Switzerland    Panama          6         55    78.636364   \n",
       "3  2018       Mexico   Iceland         15         22    79.181818   \n",
       "4  2018         Peru   Iceland         11         22    74.272727   \n",
       "\n",
       "   away_rating  label  \n",
       "0    77.166667      1  \n",
       "1    68.000000      0  \n",
       "2    68.000000      0  \n",
       "3    73.818182      0  \n",
       "4    73.818182      0  "
      ]
     },
     "execution_count": 44,
     "metadata": {},
     "output_type": "execute_result"
    }
   ],
   "source": [
    "fifa8=fifa7.loc[:,[\"year\", \"home_team\", \"away_team\", \"home_rank\", \"away_rank\", \"home_rating\", \"away_rating\", \"label\"]]\n",
    "fifa8.head()"
   ]
  },
  {
   "cell_type": "code",
   "execution_count": 45,
   "metadata": {},
   "outputs": [
    {
     "data": {
      "text/html": [
       "<div>\n",
       "<style scoped>\n",
       "    .dataframe tbody tr th:only-of-type {\n",
       "        vertical-align: middle;\n",
       "    }\n",
       "\n",
       "    .dataframe tbody tr th {\n",
       "        vertical-align: top;\n",
       "    }\n",
       "\n",
       "    .dataframe thead th {\n",
       "        text-align: right;\n",
       "    }\n",
       "</style>\n",
       "<table border=\"1\" class=\"dataframe\">\n",
       "  <thead>\n",
       "    <tr style=\"text-align: right;\">\n",
       "      <th></th>\n",
       "      <th>year</th>\n",
       "      <th>home_team</th>\n",
       "      <th>away_team</th>\n",
       "      <th>home_rank</th>\n",
       "      <th>away_rank</th>\n",
       "      <th>home_rating</th>\n",
       "      <th>away_rating</th>\n",
       "      <th>label</th>\n",
       "      <th>rank_dif</th>\n",
       "    </tr>\n",
       "  </thead>\n",
       "  <tbody>\n",
       "    <tr>\n",
       "      <th>0</th>\n",
       "      <td>2018</td>\n",
       "      <td>Denmark</td>\n",
       "      <td>Sweden</td>\n",
       "      <td>12</td>\n",
       "      <td>23</td>\n",
       "      <td>79.454545</td>\n",
       "      <td>77.166667</td>\n",
       "      <td>1</td>\n",
       "      <td>-11</td>\n",
       "    </tr>\n",
       "    <tr>\n",
       "      <th>1</th>\n",
       "      <td>2018</td>\n",
       "      <td>Denmark</td>\n",
       "      <td>Panama</td>\n",
       "      <td>12</td>\n",
       "      <td>55</td>\n",
       "      <td>79.454545</td>\n",
       "      <td>68.000000</td>\n",
       "      <td>0</td>\n",
       "      <td>-43</td>\n",
       "    </tr>\n",
       "    <tr>\n",
       "      <th>2</th>\n",
       "      <td>2018</td>\n",
       "      <td>Switzerland</td>\n",
       "      <td>Panama</td>\n",
       "      <td>6</td>\n",
       "      <td>55</td>\n",
       "      <td>78.636364</td>\n",
       "      <td>68.000000</td>\n",
       "      <td>0</td>\n",
       "      <td>-49</td>\n",
       "    </tr>\n",
       "    <tr>\n",
       "      <th>3</th>\n",
       "      <td>2018</td>\n",
       "      <td>Mexico</td>\n",
       "      <td>Iceland</td>\n",
       "      <td>15</td>\n",
       "      <td>22</td>\n",
       "      <td>79.181818</td>\n",
       "      <td>73.818182</td>\n",
       "      <td>0</td>\n",
       "      <td>-7</td>\n",
       "    </tr>\n",
       "    <tr>\n",
       "      <th>4</th>\n",
       "      <td>2018</td>\n",
       "      <td>Peru</td>\n",
       "      <td>Iceland</td>\n",
       "      <td>11</td>\n",
       "      <td>22</td>\n",
       "      <td>74.272727</td>\n",
       "      <td>73.818182</td>\n",
       "      <td>0</td>\n",
       "      <td>-11</td>\n",
       "    </tr>\n",
       "  </tbody>\n",
       "</table>\n",
       "</div>"
      ],
      "text/plain": [
       "   year    home_team away_team  home_rank  away_rank  home_rating  \\\n",
       "0  2018      Denmark    Sweden         12         23    79.454545   \n",
       "1  2018      Denmark    Panama         12         55    79.454545   \n",
       "2  2018  Switzerland    Panama          6         55    78.636364   \n",
       "3  2018       Mexico   Iceland         15         22    79.181818   \n",
       "4  2018         Peru   Iceland         11         22    74.272727   \n",
       "\n",
       "   away_rating  label  rank_dif  \n",
       "0    77.166667      1       -11  \n",
       "1    68.000000      0       -43  \n",
       "2    68.000000      0       -49  \n",
       "3    73.818182      0        -7  \n",
       "4    73.818182      0       -11  "
      ]
     },
     "execution_count": 45,
     "metadata": {},
     "output_type": "execute_result"
    }
   ],
   "source": [
    "fifa8[\"rank_dif\"]=fifa8.home_rank-fifa8.away_rank\n",
    "fifa8.head()"
   ]
  },
  {
   "cell_type": "code",
   "execution_count": 46,
   "metadata": {},
   "outputs": [],
   "source": [
    "fifa8[\"rating_dif\"]=fifa8.home_rating-fifa8.away_rating"
   ]
  },
  {
   "cell_type": "code",
   "execution_count": 47,
   "metadata": {},
   "outputs": [],
   "source": [
    "fifa9=fifa8.loc[:,[\"year\", \"home_team\", \"away_team\", \"rank_dif\", \"rating_dif\", \"label\"]]"
   ]
  },
  {
   "cell_type": "code",
   "execution_count": 48,
   "metadata": {},
   "outputs": [
    {
     "data": {
      "text/html": [
       "<div>\n",
       "<style scoped>\n",
       "    .dataframe tbody tr th:only-of-type {\n",
       "        vertical-align: middle;\n",
       "    }\n",
       "\n",
       "    .dataframe tbody tr th {\n",
       "        vertical-align: top;\n",
       "    }\n",
       "\n",
       "    .dataframe thead th {\n",
       "        text-align: right;\n",
       "    }\n",
       "</style>\n",
       "<table border=\"1\" class=\"dataframe\">\n",
       "  <thead>\n",
       "    <tr style=\"text-align: right;\">\n",
       "      <th></th>\n",
       "      <th>year</th>\n",
       "      <th>home_team</th>\n",
       "      <th>away_team</th>\n",
       "      <th>rank_dif</th>\n",
       "      <th>rating_dif</th>\n",
       "      <th>label</th>\n",
       "    </tr>\n",
       "  </thead>\n",
       "  <tbody>\n",
       "    <tr>\n",
       "      <th>0</th>\n",
       "      <td>2018</td>\n",
       "      <td>Denmark</td>\n",
       "      <td>Sweden</td>\n",
       "      <td>-11</td>\n",
       "      <td>2.287879</td>\n",
       "      <td>1</td>\n",
       "    </tr>\n",
       "    <tr>\n",
       "      <th>1</th>\n",
       "      <td>2018</td>\n",
       "      <td>Denmark</td>\n",
       "      <td>Panama</td>\n",
       "      <td>-43</td>\n",
       "      <td>11.454545</td>\n",
       "      <td>0</td>\n",
       "    </tr>\n",
       "    <tr>\n",
       "      <th>2</th>\n",
       "      <td>2018</td>\n",
       "      <td>Switzerland</td>\n",
       "      <td>Panama</td>\n",
       "      <td>-49</td>\n",
       "      <td>10.636364</td>\n",
       "      <td>0</td>\n",
       "    </tr>\n",
       "    <tr>\n",
       "      <th>3</th>\n",
       "      <td>2018</td>\n",
       "      <td>Mexico</td>\n",
       "      <td>Iceland</td>\n",
       "      <td>-7</td>\n",
       "      <td>5.363636</td>\n",
       "      <td>0</td>\n",
       "    </tr>\n",
       "    <tr>\n",
       "      <th>4</th>\n",
       "      <td>2018</td>\n",
       "      <td>Peru</td>\n",
       "      <td>Iceland</td>\n",
       "      <td>-11</td>\n",
       "      <td>0.454545</td>\n",
       "      <td>0</td>\n",
       "    </tr>\n",
       "  </tbody>\n",
       "</table>\n",
       "</div>"
      ],
      "text/plain": [
       "   year    home_team away_team  rank_dif  rating_dif  label\n",
       "0  2018      Denmark    Sweden       -11    2.287879      1\n",
       "1  2018      Denmark    Panama       -43   11.454545      0\n",
       "2  2018  Switzerland    Panama       -49   10.636364      0\n",
       "3  2018       Mexico   Iceland        -7    5.363636      0\n",
       "4  2018         Peru   Iceland       -11    0.454545      0"
      ]
     },
     "execution_count": 48,
     "metadata": {},
     "output_type": "execute_result"
    }
   ],
   "source": [
    "fifa9.head()"
   ]
  },
  {
   "cell_type": "code",
   "execution_count": 49,
   "metadata": {},
   "outputs": [],
   "source": [
    "fifa9.to_csv(\"Training_fifa2.csv\",index=False)"
   ]
  },
  {
   "cell_type": "code",
   "execution_count": null,
   "metadata": {},
   "outputs": [],
   "source": []
  }
 ],
 "metadata": {
  "kernelspec": {
   "display_name": "Python 3",
   "language": "python",
   "name": "python3"
  },
  "language_info": {
   "codemirror_mode": {
    "name": "ipython",
    "version": 3
   },
   "file_extension": ".py",
   "mimetype": "text/x-python",
   "name": "python",
   "nbconvert_exporter": "python",
   "pygments_lexer": "ipython3",
   "version": "3.6.2"
  }
 },
 "nbformat": 4,
 "nbformat_minor": 2
}
