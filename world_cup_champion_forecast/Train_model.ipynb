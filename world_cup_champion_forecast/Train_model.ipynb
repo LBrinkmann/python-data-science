{
 "cells": [
  {
   "cell_type": "code",
   "execution_count": 23,
   "metadata": {},
   "outputs": [],
   "source": [
    "import pandas as pd\n",
    "import numpy as np \n",
    "import matplotlib.pyplot as plt\n",
    "% matplotlib inline\n",
    "from sklearn.model_selection import train_test_split\n",
    "from sklearn import linear_model, datasets\n",
    "from sklearn.ensemble import RandomForestClassifier\n",
    "from sklearn.metrics import confusion_matrix"
   ]
  },
  {
   "cell_type": "code",
   "execution_count": 3,
   "metadata": {},
   "outputs": [],
   "source": [
    "fifa_his=pd.read_csv('Training_fifa2.csv')"
   ]
  },
  {
   "cell_type": "code",
   "execution_count": 38,
   "metadata": {},
   "outputs": [],
   "source": [
    "fifa_his2=fifa_his.copy()"
   ]
  },
  {
   "cell_type": "code",
   "execution_count": 39,
   "metadata": {},
   "outputs": [],
   "source": [
    "fifa_his2[\"home_team\"] = fifa_his[\"away_team\"]"
   ]
  },
  {
   "cell_type": "code",
   "execution_count": 41,
   "metadata": {},
   "outputs": [],
   "source": [
    "fifa_his2[\"away_team\"] = fifa_his[\"home_team\"]"
   ]
  },
  {
   "cell_type": "code",
   "execution_count": 43,
   "metadata": {},
   "outputs": [],
   "source": [
    "fifa_his2[\"rank_dif\"] = -fifa_his[\"rank_dif\"]"
   ]
  },
  {
   "cell_type": "code",
   "execution_count": 44,
   "metadata": {},
   "outputs": [],
   "source": [
    "fifa_his2[\"rating_dif\"] = -fifa_his[\"rating_dif\"]"
   ]
  },
  {
   "cell_type": "code",
   "execution_count": 47,
   "metadata": {},
   "outputs": [],
   "source": [
    "z={0:1,1:0,2:2}\n",
    "fifa_his2[\"label\"]=fifa_his[\"label\"].map(z)"
   ]
  },
  {
   "cell_type": "code",
   "execution_count": 49,
   "metadata": {},
   "outputs": [],
   "source": [
    "fifa_his3=pd.concat([fifa_his,fifa_his2])"
   ]
  },
  {
   "cell_type": "code",
   "execution_count": 54,
   "metadata": {},
   "outputs": [
    {
     "data": {
      "text/plain": [
       "(300, 6)"
      ]
     },
     "execution_count": 54,
     "metadata": {},
     "output_type": "execute_result"
    }
   ],
   "source": [
    "fifa_his3.shape"
   ]
  },
  {
   "cell_type": "code",
   "execution_count": 55,
   "metadata": {},
   "outputs": [
    {
     "data": {
      "text/plain": [
       "(300, 2)"
      ]
     },
     "execution_count": 55,
     "metadata": {},
     "output_type": "execute_result"
    }
   ],
   "source": [
    "X=fifa_his3.loc[:,['rank_dif','rating_dif']]\n",
    "X.shape"
   ]
  },
  {
   "cell_type": "code",
   "execution_count": 56,
   "metadata": {},
   "outputs": [
    {
     "data": {
      "text/plain": [
       "(300,)"
      ]
     },
     "execution_count": 56,
     "metadata": {},
     "output_type": "execute_result"
    }
   ],
   "source": [
    "y=fifa_his3.loc[:,'label']\n",
    "y.shape"
   ]
  },
  {
   "cell_type": "code",
   "execution_count": 58,
   "metadata": {},
   "outputs": [],
   "source": [
    "X_train, X_test, y_train, y_test = train_test_split(X, y, test_size=0.2, random_state=42)"
   ]
  },
  {
   "cell_type": "code",
   "execution_count": 59,
   "metadata": {},
   "outputs": [
    {
     "data": {
      "text/plain": [
       "1    100\n",
       "0     98\n",
       "2     42\n",
       "Name: label, dtype: int64"
      ]
     },
     "execution_count": 59,
     "metadata": {},
     "output_type": "execute_result"
    }
   ],
   "source": [
    "y_train.value_counts()"
   ]
  },
  {
   "cell_type": "code",
   "execution_count": 60,
   "metadata": {},
   "outputs": [
    {
     "data": {
      "text/plain": [
       "0    25\n",
       "1    23\n",
       "2    12\n",
       "Name: label, dtype: int64"
      ]
     },
     "execution_count": 60,
     "metadata": {},
     "output_type": "execute_result"
    }
   ],
   "source": [
    "y_test.value_counts()"
   ]
  },
  {
   "cell_type": "markdown",
   "metadata": {},
   "source": [
    "### train Logistic Regression"
   ]
  },
  {
   "cell_type": "code",
   "execution_count": 61,
   "metadata": {},
   "outputs": [],
   "source": [
    "logreg = linear_model.LogisticRegression(C=1e5)\n"
   ]
  },
  {
   "cell_type": "code",
   "execution_count": 62,
   "metadata": {},
   "outputs": [
    {
     "data": {
      "text/plain": [
       "LogisticRegression(C=100000.0, class_weight=None, dual=False,\n",
       "          fit_intercept=True, intercept_scaling=1, max_iter=100,\n",
       "          multi_class='ovr', n_jobs=1, penalty='l2', random_state=None,\n",
       "          solver='liblinear', tol=0.0001, verbose=0, warm_start=False)"
      ]
     },
     "execution_count": 62,
     "metadata": {},
     "output_type": "execute_result"
    }
   ],
   "source": [
    "logreg.fit(X_train,y_train)"
   ]
  },
  {
   "cell_type": "code",
   "execution_count": 68,
   "metadata": {},
   "outputs": [],
   "source": [
    "y_testpredlog=logreg.predict_proba(X_test)"
   ]
  },
  {
   "cell_type": "code",
   "execution_count": 69,
   "metadata": {},
   "outputs": [
    {
     "data": {
      "text/plain": [
       "array([[0.32642578, 0.49164912, 0.1819251 ],\n",
       "       [0.47683121, 0.34769823, 0.17547056],\n",
       "       [0.40001713, 0.42015818, 0.17982469],\n",
       "       [0.28009023, 0.5376513 , 0.18225847],\n",
       "       [0.12531822, 0.69486042, 0.17982136],\n",
       "       [0.50661334, 0.31892232, 0.17446434],\n",
       "       [0.56868843, 0.26158736, 0.16972421],\n",
       "       [0.53973225, 0.28808517, 0.17218257],\n",
       "       [0.37119161, 0.44977279, 0.17903559],\n",
       "       [0.41984723, 0.40045704, 0.17969573],\n",
       "       [0.07012692, 0.75629507, 0.17357801],\n",
       "       [0.44029282, 0.38244036, 0.17726681],\n",
       "       [0.33785251, 0.48129763, 0.18084986],\n",
       "       [0.33267628, 0.48440118, 0.18292254],\n",
       "       [0.57816746, 0.25209802, 0.16973453],\n",
       "       [0.43882381, 0.38400249, 0.1771737 ],\n",
       "       [0.36710046, 0.4520593 , 0.18084024],\n",
       "       [0.32895302, 0.48935771, 0.18168928],\n",
       "       [0.80292554, 0.05483243, 0.14224203],\n",
       "       [0.27481358, 0.54384214, 0.18134428],\n",
       "       [0.5380199 , 0.29055319, 0.17142691],\n",
       "       [0.33821687, 0.47891512, 0.18286801],\n",
       "       [0.32460056, 0.4931678 , 0.18223164],\n",
       "       [0.46282207, 0.35879842, 0.17837951],\n",
       "       [0.17924363, 0.6391878 , 0.18156857],\n",
       "       [0.44319782, 0.37814585, 0.17865633],\n",
       "       [0.0736846 , 0.75155965, 0.17475575],\n",
       "       [0.32685947, 0.49166591, 0.18147462],\n",
       "       [0.21461025, 0.60465795, 0.1807318 ],\n",
       "       [0.20944539, 0.61140785, 0.17914677],\n",
       "       [0.30907656, 0.51109441, 0.17982903],\n",
       "       [0.22430625, 0.59445813, 0.18123562],\n",
       "       [0.35407476, 0.46377894, 0.1821463 ],\n",
       "       [0.35830848, 0.46187502, 0.17981651],\n",
       "       [0.14283669, 0.67910345, 0.17805986],\n",
       "       [0.57100015, 0.25995634, 0.16904352],\n",
       "       [0.58870856, 0.24254696, 0.16874448],\n",
       "       [0.26231071, 0.55765055, 0.18003874],\n",
       "       [0.23258267, 0.58562123, 0.1817961 ],\n",
       "       [0.65658962, 0.18147743, 0.16193295],\n",
       "       [0.55157669, 0.27737931, 0.171044  ],\n",
       "       [0.28975097, 0.52845282, 0.18179621],\n",
       "       [0.258577  , 0.55919039, 0.18223261],\n",
       "       [0.46535373, 0.35804123, 0.17660504],\n",
       "       [0.3889782 , 0.43117281, 0.17984899],\n",
       "       [0.4331983 , 0.38829928, 0.17850242],\n",
       "       [0.23796465, 0.57883046, 0.18320489],\n",
       "       [0.51436673, 0.31198183, 0.17365143],\n",
       "       [0.3963482 , 0.42410634, 0.17954546],\n",
       "       [0.52099024, 0.30659206, 0.17241771],\n",
       "       [0.32295005, 0.49548623, 0.18156372],\n",
       "       [0.08896529, 0.73641799, 0.17461671],\n",
       "       [0.1107729 , 0.71093219, 0.17829491],\n",
       "       [0.80449341, 0.05431259, 0.14119399],\n",
       "       [0.39871742, 0.42253368, 0.1787489 ],\n",
       "       [0.27607155, 0.54381644, 0.18011201],\n",
       "       [0.12814366, 0.69451144, 0.1773449 ],\n",
       "       [0.70962027, 0.13586409, 0.15451564],\n",
       "       [0.35039544, 0.46928183, 0.18032273],\n",
       "       [0.37328577, 0.44696733, 0.1797469 ]])"
      ]
     },
     "execution_count": 69,
     "metadata": {},
     "output_type": "execute_result"
    }
   ],
   "source": [
    "y_testpredlog"
   ]
  },
  {
   "cell_type": "code",
   "execution_count": 65,
   "metadata": {},
   "outputs": [
    {
     "data": {
      "text/plain": [
       "53     1\n",
       "116    0\n",
       "2      2\n",
       "9      2\n",
       "83     1\n",
       "76     0\n",
       "46     1\n",
       "109    0\n",
       "5      0\n",
       "25     2\n",
       "87     1\n",
       "57     2\n",
       "68     1\n",
       "45     1\n",
       "32     0\n",
       "71     0\n",
       "139    0\n",
       "61     0\n",
       "148    0\n",
       "15     1\n",
       "78     0\n",
       "113    2\n",
       "99     1\n",
       "100    0\n",
       "104    0\n",
       "42     0\n",
       "131    1\n",
       "145    0\n",
       "7      1\n",
       "88     2\n",
       "17     2\n",
       "14     1\n",
       "33     0\n",
       "24     1\n",
       "65     1\n",
       "119    2\n",
       "7      0\n",
       "90     0\n",
       "46     0\n",
       "73     2\n",
       "93     2\n",
       "76     1\n",
       "136    0\n",
       "60     0\n",
       "77     0\n",
       "63     1\n",
       "84     2\n",
       "79     0\n",
       "111    1\n",
       "81     1\n",
       "30     0\n",
       "144    1\n",
       "89     1\n",
       "75     0\n",
       "147    1\n",
       "128    1\n",
       "97     1\n",
       "92     0\n",
       "42     1\n",
       "25     2\n",
       "Name: label, dtype: int64"
      ]
     },
     "execution_count": 65,
     "metadata": {},
     "output_type": "execute_result"
    }
   ],
   "source": [
    "y_test"
   ]
  },
  {
   "cell_type": "code",
   "execution_count": 66,
   "metadata": {},
   "outputs": [
    {
     "data": {
      "text/plain": [
       "0.5666666666666667"
      ]
     },
     "execution_count": 66,
     "metadata": {},
     "output_type": "execute_result"
    }
   ],
   "source": [
    "logreg.score(X_test,y_test)"
   ]
  },
  {
   "cell_type": "code",
   "execution_count": 67,
   "metadata": {},
   "outputs": [
    {
     "data": {
      "text/plain": [
       "array([[14, 11,  0],\n",
       "       [ 3, 20,  0],\n",
       "       [ 5,  7,  0]])"
      ]
     },
     "execution_count": 67,
     "metadata": {},
     "output_type": "execute_result"
    }
   ],
   "source": [
    "confusion_matrix(y_test, y_testpredlog)\n",
    "\n"
   ]
  },
  {
   "cell_type": "markdown",
   "metadata": {},
   "source": [
    "### Train Random Forest"
   ]
  },
  {
   "cell_type": "code",
   "execution_count": 16,
   "metadata": {},
   "outputs": [],
   "source": [
    "clf = RandomForestClassifier(max_depth=2, random_state=0,n_estimators=100)"
   ]
  },
  {
   "cell_type": "code",
   "execution_count": 17,
   "metadata": {},
   "outputs": [
    {
     "data": {
      "text/plain": [
       "RandomForestClassifier(bootstrap=True, class_weight=None, criterion='gini',\n",
       "            max_depth=2, max_features='auto', max_leaf_nodes=None,\n",
       "            min_impurity_decrease=0.0, min_impurity_split=None,\n",
       "            min_samples_leaf=1, min_samples_split=2,\n",
       "            min_weight_fraction_leaf=0.0, n_estimators=100, n_jobs=1,\n",
       "            oob_score=False, random_state=0, verbose=0, warm_start=False)"
      ]
     },
     "execution_count": 17,
     "metadata": {},
     "output_type": "execute_result"
    }
   ],
   "source": [
    "clf.fit(X_train,y_train)"
   ]
  },
  {
   "cell_type": "code",
   "execution_count": 18,
   "metadata": {},
   "outputs": [
    {
     "data": {
      "text/plain": [
       "0.5"
      ]
     },
     "execution_count": 18,
     "metadata": {},
     "output_type": "execute_result"
    }
   ],
   "source": [
    "clf.score(X_test,y_test)"
   ]
  },
  {
   "cell_type": "code",
   "execution_count": 19,
   "metadata": {},
   "outputs": [
    {
     "data": {
      "text/plain": [
       "array([[0.18935445, 0.55167885, 0.25896669]])"
      ]
     },
     "execution_count": 19,
     "metadata": {},
     "output_type": "execute_result"
    }
   ],
   "source": [
    "clf.predict_proba([[14,-67]])"
   ]
  },
  {
   "cell_type": "code",
   "execution_count": 20,
   "metadata": {},
   "outputs": [
    {
     "data": {
      "text/plain": [
       "array([0, 1, 2])"
      ]
     },
     "execution_count": 20,
     "metadata": {},
     "output_type": "execute_result"
    }
   ],
   "source": [
    "clf.classes_"
   ]
  },
  {
   "cell_type": "code",
   "execution_count": null,
   "metadata": {},
   "outputs": [],
   "source": []
  }
 ],
 "metadata": {
  "kernelspec": {
   "display_name": "Python 3",
   "language": "python",
   "name": "python3"
  },
  "language_info": {
   "codemirror_mode": {
    "name": "ipython",
    "version": 3
   },
   "file_extension": ".py",
   "mimetype": "text/x-python",
   "name": "python",
   "nbconvert_exporter": "python",
   "pygments_lexer": "ipython3",
   "version": "3.6.4"
  }
 },
 "nbformat": 4,
 "nbformat_minor": 2
}
