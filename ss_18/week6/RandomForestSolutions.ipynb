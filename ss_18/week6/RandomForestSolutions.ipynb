{
 "cells": [
  {
   "cell_type": "markdown",
   "metadata": {},
   "source": [
    "### Dataset\n",
    "https://www.kaggle.com/c/avazu-ctr-prediction"
   ]
  },
  {
   "cell_type": "code",
   "execution_count": 91,
   "metadata": {},
   "outputs": [],
   "source": [
    "from sklearn import tree\n",
    "import matplotlib.pyplot as plt\n",
    "import numpy as np\n",
    "import pandas as pd\n",
    "import itertools\n",
    "import seaborn as sns\n",
    "import graphviz \n",
    "from sklearn.model_selection import train_test_split\n",
    "from sklearn.metrics import log_loss, f1_score, roc_auc_score, roc_curve, confusion_matrix"
   ]
  },
  {
   "cell_type": "code",
   "execution_count": 4,
   "metadata": {},
   "outputs": [],
   "source": [
    "from sklearn.pipeline import make_pipeline, make_union\n",
    "from sklearn.ensemble import RandomForestClassifier\n",
    "from sklearn.base import BaseEstimator, TransformerMixin\n",
    "from sklearn.preprocessing import OneHotEncoder\n",
    "from sklearn.model_selection import cross_val_score\n",
    "from sklearn.model_selection import GridSearchCV"
   ]
  },
  {
   "cell_type": "code",
   "execution_count": 7,
   "metadata": {},
   "outputs": [],
   "source": [
    "dfs = pd.read_csv('data/train_sample_smaller.csv')"
   ]
  },
  {
   "cell_type": "markdown",
   "metadata": {},
   "source": [
    "Show first rows of dataframe"
   ]
  },
  {
   "cell_type": "code",
   "execution_count": 8,
   "metadata": {},
   "outputs": [
    {
     "data": {
      "text/html": [
       "<div>\n",
       "<style scoped>\n",
       "    .dataframe tbody tr th:only-of-type {\n",
       "        vertical-align: middle;\n",
       "    }\n",
       "\n",
       "    .dataframe tbody tr th {\n",
       "        vertical-align: top;\n",
       "    }\n",
       "\n",
       "    .dataframe thead th {\n",
       "        text-align: right;\n",
       "    }\n",
       "</style>\n",
       "<table border=\"1\" class=\"dataframe\">\n",
       "  <thead>\n",
       "    <tr style=\"text-align: right;\">\n",
       "      <th></th>\n",
       "      <th>Unnamed: 0</th>\n",
       "      <th>Unnamed: 0.1</th>\n",
       "      <th>id</th>\n",
       "      <th>click</th>\n",
       "      <th>hour</th>\n",
       "      <th>C1</th>\n",
       "      <th>banner_pos</th>\n",
       "      <th>site_id</th>\n",
       "      <th>site_domain</th>\n",
       "      <th>site_category</th>\n",
       "      <th>...</th>\n",
       "      <th>device_type</th>\n",
       "      <th>device_conn_type</th>\n",
       "      <th>C14</th>\n",
       "      <th>C15</th>\n",
       "      <th>C16</th>\n",
       "      <th>C17</th>\n",
       "      <th>C18</th>\n",
       "      <th>C19</th>\n",
       "      <th>C20</th>\n",
       "      <th>C21</th>\n",
       "    </tr>\n",
       "  </thead>\n",
       "  <tbody>\n",
       "    <tr>\n",
       "      <th>0</th>\n",
       "      <td>5652132</td>\n",
       "      <td>10055248</td>\n",
       "      <td>1.490366e+19</td>\n",
       "      <td>0</td>\n",
       "      <td>14102304</td>\n",
       "      <td>1005</td>\n",
       "      <td>0</td>\n",
       "      <td>41477778</td>\n",
       "      <td>4b23d058</td>\n",
       "      <td>f028772b</td>\n",
       "      <td>...</td>\n",
       "      <td>1</td>\n",
       "      <td>0</td>\n",
       "      <td>20363</td>\n",
       "      <td>216</td>\n",
       "      <td>36</td>\n",
       "      <td>2333</td>\n",
       "      <td>0</td>\n",
       "      <td>39</td>\n",
       "      <td>-1</td>\n",
       "      <td>157</td>\n",
       "    </tr>\n",
       "    <tr>\n",
       "      <th>1</th>\n",
       "      <td>3160240</td>\n",
       "      <td>19172261</td>\n",
       "      <td>1.176958e+19</td>\n",
       "      <td>1</td>\n",
       "      <td>14102517</td>\n",
       "      <td>1005</td>\n",
       "      <td>1</td>\n",
       "      <td>e151e245</td>\n",
       "      <td>7e091613</td>\n",
       "      <td>f028772b</td>\n",
       "      <td>...</td>\n",
       "      <td>1</td>\n",
       "      <td>0</td>\n",
       "      <td>20394</td>\n",
       "      <td>320</td>\n",
       "      <td>50</td>\n",
       "      <td>2340</td>\n",
       "      <td>3</td>\n",
       "      <td>1065</td>\n",
       "      <td>100111</td>\n",
       "      <td>159</td>\n",
       "    </tr>\n",
       "    <tr>\n",
       "      <th>2</th>\n",
       "      <td>474016</td>\n",
       "      <td>21893485</td>\n",
       "      <td>6.379721e+18</td>\n",
       "      <td>0</td>\n",
       "      <td>14102611</td>\n",
       "      <td>1005</td>\n",
       "      <td>0</td>\n",
       "      <td>85f751fd</td>\n",
       "      <td>c4e18dd6</td>\n",
       "      <td>50e219e0</td>\n",
       "      <td>...</td>\n",
       "      <td>1</td>\n",
       "      <td>0</td>\n",
       "      <td>22587</td>\n",
       "      <td>320</td>\n",
       "      <td>50</td>\n",
       "      <td>2606</td>\n",
       "      <td>3</td>\n",
       "      <td>33</td>\n",
       "      <td>100004</td>\n",
       "      <td>61</td>\n",
       "    </tr>\n",
       "    <tr>\n",
       "      <th>3</th>\n",
       "      <td>205776</td>\n",
       "      <td>21796118</td>\n",
       "      <td>1.622506e+19</td>\n",
       "      <td>0</td>\n",
       "      <td>14102611</td>\n",
       "      <td>1005</td>\n",
       "      <td>1</td>\n",
       "      <td>85f751fd</td>\n",
       "      <td>c4e18dd6</td>\n",
       "      <td>50e219e0</td>\n",
       "      <td>...</td>\n",
       "      <td>1</td>\n",
       "      <td>0</td>\n",
       "      <td>22558</td>\n",
       "      <td>300</td>\n",
       "      <td>50</td>\n",
       "      <td>1863</td>\n",
       "      <td>3</td>\n",
       "      <td>39</td>\n",
       "      <td>-1</td>\n",
       "      <td>23</td>\n",
       "    </tr>\n",
       "    <tr>\n",
       "      <th>4</th>\n",
       "      <td>6797482</td>\n",
       "      <td>14086459</td>\n",
       "      <td>1.002854e+19</td>\n",
       "      <td>0</td>\n",
       "      <td>14102406</td>\n",
       "      <td>1005</td>\n",
       "      <td>1</td>\n",
       "      <td>d9750ee7</td>\n",
       "      <td>98572c79</td>\n",
       "      <td>f028772b</td>\n",
       "      <td>...</td>\n",
       "      <td>1</td>\n",
       "      <td>0</td>\n",
       "      <td>17614</td>\n",
       "      <td>320</td>\n",
       "      <td>50</td>\n",
       "      <td>1993</td>\n",
       "      <td>2</td>\n",
       "      <td>1063</td>\n",
       "      <td>-1</td>\n",
       "      <td>33</td>\n",
       "    </tr>\n",
       "  </tbody>\n",
       "</table>\n",
       "<p>5 rows × 26 columns</p>\n",
       "</div>"
      ],
      "text/plain": [
       "   Unnamed: 0  Unnamed: 0.1            id  click      hour    C1  banner_pos  \\\n",
       "0     5652132      10055248  1.490366e+19      0  14102304  1005           0   \n",
       "1     3160240      19172261  1.176958e+19      1  14102517  1005           1   \n",
       "2      474016      21893485  6.379721e+18      0  14102611  1005           0   \n",
       "3      205776      21796118  1.622506e+19      0  14102611  1005           1   \n",
       "4     6797482      14086459  1.002854e+19      0  14102406  1005           1   \n",
       "\n",
       "    site_id site_domain site_category ...  device_type device_conn_type  \\\n",
       "0  41477778    4b23d058      f028772b ...            1                0   \n",
       "1  e151e245    7e091613      f028772b ...            1                0   \n",
       "2  85f751fd    c4e18dd6      50e219e0 ...            1                0   \n",
       "3  85f751fd    c4e18dd6      50e219e0 ...            1                0   \n",
       "4  d9750ee7    98572c79      f028772b ...            1                0   \n",
       "\n",
       "     C14  C15 C16   C17  C18   C19     C20  C21  \n",
       "0  20363  216  36  2333    0    39      -1  157  \n",
       "1  20394  320  50  2340    3  1065  100111  159  \n",
       "2  22587  320  50  2606    3    33  100004   61  \n",
       "3  22558  300  50  1863    3    39      -1   23  \n",
       "4  17614  320  50  1993    2  1063      -1   33  \n",
       "\n",
       "[5 rows x 26 columns]"
      ]
     },
     "execution_count": 8,
     "metadata": {},
     "output_type": "execute_result"
    }
   ],
   "source": [
    "dfs.head()"
   ]
  },
  {
   "cell_type": "code",
   "execution_count": 9,
   "metadata": {},
   "outputs": [
    {
     "data": {
      "text/plain": [
       "Unnamed: 0          808579\n",
       "Unnamed: 0.1        808579\n",
       "id                  808579\n",
       "click                    2\n",
       "hour                   240\n",
       "C1                       7\n",
       "banner_pos               7\n",
       "site_id               2542\n",
       "site_domain           2684\n",
       "site_category           22\n",
       "app_id                2955\n",
       "app_domain             203\n",
       "app_category            28\n",
       "device_id           123749\n",
       "device_ip           466791\n",
       "device_model          4980\n",
       "device_type              4\n",
       "device_conn_type         4\n",
       "C14                   2220\n",
       "C15                      8\n",
       "C16                      9\n",
       "C17                    422\n",
       "C18                      4\n",
       "C19                     66\n",
       "C20                    163\n",
       "C21                     60\n",
       "dtype: int64"
      ]
     },
     "execution_count": 9,
     "metadata": {},
     "output_type": "execute_result"
    }
   ],
   "source": [
    "dfs.nunique()"
   ]
  },
  {
   "cell_type": "code",
   "execution_count": 20,
   "metadata": {},
   "outputs": [],
   "source": [
    "f_categorical = ['device_conn_type', 'app_category', 'site_category', 'app_domain', 'device_type', 'banner_pos']\n",
    "f_numeric = ['hour']\n",
    "target = 'click'"
   ]
  },
  {
   "cell_type": "markdown",
   "metadata": {},
   "source": [
    "Select numeric datafields for X, but not the last three columns.\n",
    "Select 'count' for y."
   ]
  },
  {
   "cell_type": "code",
   "execution_count": 21,
   "metadata": {},
   "outputs": [],
   "source": [
    "X = dfs[f_numeric + f_categorical]\n",
    "y = dfs[target]"
   ]
  },
  {
   "cell_type": "markdown",
   "metadata": {},
   "source": [
    "### define some custom classes to be used with sklearn"
   ]
  },
  {
   "cell_type": "code",
   "execution_count": 22,
   "metadata": {},
   "outputs": [],
   "source": [
    "class ColumnSelector(BaseEstimator, TransformerMixin):\n",
    "    def __init__(self, columns):\n",
    "        self.columns = columns\n",
    "        \n",
    "    def fit(self, x, y):\n",
    "        return self\n",
    "    \n",
    "    def transform(self, x):\n",
    "        return x[self.columns]"
   ]
  },
  {
   "cell_type": "code",
   "execution_count": 23,
   "metadata": {},
   "outputs": [],
   "source": [
    "class CatToNumeric(BaseEstimator, TransformerMixin):\n",
    "    def __init__(self):\n",
    "        self.mapping = {}\n",
    "        \n",
    "    def fit(self, x, y):\n",
    "        for col in x.columns:\n",
    "            self.mapping[col] = {key: idx + 1 for idx, key in enumerate(x[col].unique())}\n",
    "        return self\n",
    "    \n",
    "    def col_lookup(self, col):\n",
    "        def lookup(val):\n",
    "            return self.mapping[col].get(val, 0)\n",
    "        return lookup\n",
    "    \n",
    "    def transform(self, x):\n",
    "        output = []\n",
    "        for col in x.columns:\n",
    "            output.append(x[col].apply(self.col_lookup(col)))\n",
    "        return pd.concat(output, axis=1)"
   ]
  },
  {
   "cell_type": "markdown",
   "metadata": {},
   "source": [
    "### Build a sklearn pipeline"
   ]
  },
  {
   "cell_type": "code",
   "execution_count": 59,
   "metadata": {},
   "outputs": [],
   "source": [
    "pipe_numeric = make_pipeline(\n",
    "    ColumnSelector(f_numeric)\n",
    ")\n",
    "\n",
    "pipe_categorical = make_pipeline(\n",
    "    ColumnSelector(f_categorical),\n",
    "    CatToNumeric(),\n",
    "    #OneHotEncoder(sparse=False)\n",
    ")\n",
    "\n",
    "est = make_pipeline(\n",
    "    make_union(pipe_numeric, pipe_categorical),\n",
    "    RandomForestClassifier(max_depth=10)\n",
    ")"
   ]
  },
  {
   "cell_type": "markdown",
   "metadata": {},
   "source": [
    "### create test and training set."
   ]
  },
  {
   "cell_type": "code",
   "execution_count": 24,
   "metadata": {},
   "outputs": [],
   "source": [
    "X_train, X_test, y_train, y_test = train_test_split(X, y, test_size=0.2, random_state=42)"
   ]
  },
  {
   "cell_type": "markdown",
   "metadata": {},
   "source": [
    "### check the output of the categorical pipe"
   ]
  },
  {
   "cell_type": "code",
   "execution_count": 29,
   "metadata": {},
   "outputs": [],
   "source": [
    "est = est.fit(X_train, y_train)"
   ]
  },
  {
   "cell_type": "markdown",
   "metadata": {},
   "source": [
    "### Predict the training set."
   ]
  },
  {
   "cell_type": "code",
   "execution_count": 37,
   "metadata": {},
   "outputs": [],
   "source": [
    "y_train_pred = est.predict_proba(X_train)"
   ]
  },
  {
   "cell_type": "markdown",
   "metadata": {},
   "source": [
    "### Predict the test set."
   ]
  },
  {
   "cell_type": "code",
   "execution_count": 38,
   "metadata": {},
   "outputs": [],
   "source": [
    "y_test_pred = est.predict_proba(X_test)"
   ]
  },
  {
   "cell_type": "code",
   "execution_count": 71,
   "metadata": {},
   "outputs": [
    {
     "data": {
      "text/plain": [
       "<matplotlib.axes._subplots.AxesSubplot at 0x116bb15c0>"
      ]
     },
     "execution_count": 71,
     "metadata": {},
     "output_type": "execute_result"
    },
    {
     "data": {
      "image/png": "[encoded data removed]",
      "text/plain": [
       "<matplotlib.figure.Figure at 0x1132082b0>"
      ]
     },
     "metadata": {},
     "output_type": "display_data"
    }
   ],
   "source": [
    "sns.distplot(y_test_pred[:, 1])"
   ]
  },
  {
   "cell_type": "code",
   "execution_count": 92,
   "metadata": {},
   "outputs": [],
   "source": [
    "def plot_confusion_matrix(cm, classes,\n",
    "                          normalize=False,\n",
    "                          title='Confusion matrix',\n",
    "                          cmap=plt.cm.Blues):\n",
    "    \"\"\"\n",
    "    This function prints and plots the confusion matrix.\n",
    "    Normalization can be applied by setting `normalize=True`.\n",
    "    \"\"\"\n",
    "    if normalize:\n",
    "        cm = cm.astype('float') / cm.sum(axis=1)[:, np.newaxis]\n",
    "        print(\"Normalized confusion matrix\")\n",
    "    else:\n",
    "        print('Confusion matrix, without normalization')\n",
    "\n",
    "    print(cm)\n",
    "\n",
    "    plt.imshow(cm, interpolation='nearest', cmap=cmap)\n",
    "    plt.title(title)\n",
    "    plt.colorbar()\n",
    "    tick_marks = np.arange(len(classes))\n",
    "    plt.xticks(tick_marks, classes, rotation=45)\n",
    "    plt.yticks(tick_marks, classes)\n",
    "\n",
    "    fmt = '.2f' if normalize else 'd'\n",
    "    thresh = cm.max() / 2.\n",
    "    for i, j in itertools.product(range(cm.shape[0]), range(cm.shape[1])):\n",
    "        plt.text(j, i, format(cm[i, j], fmt),\n",
    "                 horizontalalignment=\"center\",\n",
    "                 color=\"white\" if cm[i, j] > thresh else \"black\")\n",
    "\n",
    "    plt.tight_layout()\n",
    "    plt.ylabel('True label')\n",
    "    plt.xlabel('Predicted label')"
   ]
  },
  {
   "cell_type": "code",
   "execution_count": 95,
   "metadata": {},
   "outputs": [],
   "source": [
    "def select_threshold_and_plot(threshold):\n",
    "    y_test_pred_class = pd.Series(0, index=X_test.index)\n",
    "    y_test_pred_class[y_test_pred[:, 1] > threshold] = 1\n",
    "\n",
    "    cnf_matrix = confusion_matrix(y_test, y_test_pred_class)\n",
    "    np.set_printoptions(precision=2)\n",
    "\n",
    "    # Plot non-normalized confusion matrix\n",
    "    plt.figure()\n",
    "    plot_confusion_matrix(cnf_matrix, classes=['Not-Converted', 'Converted'],\n",
    "                          title='Confusion matrix, without normalization')"
   ]
  },
  {
   "cell_type": "code",
   "execution_count": 96,
   "metadata": {},
   "outputs": [
    {
     "name": "stdout",
     "output_type": "stream",
     "text": [
      "Confusion matrix, without normalization\n",
      "[[134266     14]\n",
      " [ 27379     57]]\n"
     ]
    },
    {
     "data": {
      "image/png": "[encoded data removed]",
      "text/plain": [
       "<matplotlib.figure.Figure at 0x11653b128>"
      ]
     },
     "metadata": {},
     "output_type": "display_data"
    }
   ],
   "source": [
    "select_threshold_and_plot(0.5)"
   ]
  },
  {
   "cell_type": "code",
   "execution_count": 100,
   "metadata": {},
   "outputs": [
    {
     "name": "stdout",
     "output_type": "stream",
     "text": [
      "Confusion matrix, without normalization\n",
      "[[128388   5892]\n",
      " [ 24454   2982]]\n"
     ]
    },
    {
     "data": {
      "image/png": "[encoded data removed]",
      "text/plain": [
       "<matplotlib.figure.Figure at 0x112a344a8>"
      ]
     },
     "metadata": {},
     "output_type": "display_data"
    }
   ],
   "source": [
    "select_threshold_and_plot(0.3)"
   ]
  },
  {
   "cell_type": "code",
   "execution_count": 99,
   "metadata": {},
   "outputs": [
    {
     "name": "stdout",
     "output_type": "stream",
     "text": [
      "Confusion matrix, without normalization\n",
      "[[ 27572 106708]\n",
      " [  1563  25873]]\n"
     ]
    },
    {
     "data": {
      "image/png": "[encoded data removed]",
      "text/plain": [
       "<matplotlib.figure.Figure at 0x116524c18>"
      ]
     },
     "metadata": {},
     "output_type": "display_data"
    }
   ],
   "source": [
    "select_threshold_and_plot(0.1)"
   ]
  },
  {
   "cell_type": "code",
   "execution_count": 94,
   "metadata": {},
   "outputs": [],
   "source": [
    "fpr, tpr, _ = roc_curve(y_test, y_test_pred[:, 1])"
   ]
  },
  {
   "cell_type": "code",
   "execution_count": 69,
   "metadata": {},
   "outputs": [
    {
     "name": "stderr",
     "output_type": "stream",
     "text": [
      "No handles with labels found to put in legend.\n"
     ]
    },
    {
     "data": {
      "image/png": "[encoded data removed]",
      "text/plain": [
       "<matplotlib.figure.Figure at 0x112a8ecc0>"
      ]
     },
     "metadata": {},
     "output_type": "display_data"
    }
   ],
   "source": [
    "plt.figure()\n",
    "lw = 2\n",
    "plt.plot(fpr, tpr, color='darkorange',\n",
    "         lw=lw)\n",
    "plt.plot([0, 1], [0, 1], color='navy', lw=lw, linestyle='--')\n",
    "plt.xlim([0.0, 1.0])\n",
    "plt.ylim([0.0, 1.05])\n",
    "plt.xlabel('False Positive Rate')\n",
    "plt.ylabel('True Positive Rate')\n",
    "plt.title('Receiver operating characteristic example')\n",
    "plt.legend(loc=\"lower right\")\n",
    "plt.show()"
   ]
  },
  {
   "cell_type": "markdown",
   "metadata": {},
   "source": [
    "### Calculate the roc auc score for the training set."
   ]
  },
  {
   "cell_type": "code",
   "execution_count": 41,
   "metadata": {},
   "outputs": [
    {
     "data": {
      "text/plain": [
       "0.6647301522295438"
      ]
     },
     "execution_count": 41,
     "metadata": {},
     "output_type": "execute_result"
    }
   ],
   "source": [
    "roc_auc_score(y_train, y_train_pred[:, 1])"
   ]
  },
  {
   "cell_type": "markdown",
   "metadata": {},
   "source": [
    "### Calculate the roc auc score for the test set."
   ]
  },
  {
   "cell_type": "code",
   "execution_count": 42,
   "metadata": {},
   "outputs": [
    {
     "data": {
      "text/plain": [
       "0.6570487143790387"
      ]
     },
     "execution_count": 42,
     "metadata": {},
     "output_type": "execute_result"
    }
   ],
   "source": [
    "roc_auc_score(y_test, y_test_pred[:, 1])"
   ]
  },
  {
   "cell_type": "markdown",
   "metadata": {},
   "source": [
    "### Cross Validation"
   ]
  },
  {
   "cell_type": "code",
   "execution_count": 43,
   "metadata": {},
   "outputs": [],
   "source": [
    "scores = cross_val_score(est, X_train, y_train, cv=5, scoring='roc_auc')"
   ]
  },
  {
   "cell_type": "code",
   "execution_count": 65,
   "metadata": {},
   "outputs": [
    {
     "data": {
      "text/plain": [
       "array([0.65988545, 0.65937894, 0.65708048, 0.65756399, 0.65542043])"
      ]
     },
     "execution_count": 65,
     "metadata": {},
     "output_type": "execute_result"
    }
   ],
   "source": [
    "scores"
   ]
  },
  {
   "cell_type": "code",
   "execution_count": 63,
   "metadata": {},
   "outputs": [
    {
     "data": {
      "text/plain": [
       "0.6578658590791691"
      ]
     },
     "execution_count": 63,
     "metadata": {},
     "output_type": "execute_result"
    }
   ],
   "source": [
    "scores.mean()"
   ]
  },
  {
   "cell_type": "code",
   "execution_count": 64,
   "metadata": {},
   "outputs": [
    {
     "data": {
      "text/plain": [
       "0.0016159335906466283"
      ]
     },
     "execution_count": 64,
     "metadata": {},
     "output_type": "execute_result"
    }
   ],
   "source": [
    "scores.std()"
   ]
  },
  {
   "cell_type": "markdown",
   "metadata": {},
   "source": [
    "### Grid search"
   ]
  },
  {
   "cell_type": "code",
   "execution_count": 44,
   "metadata": {},
   "outputs": [
    {
     "data": {
      "text/plain": [
       "{'featureunion': FeatureUnion(n_jobs=1,\n",
       "        transformer_list=[('pipeline-1', Pipeline(memory=None,\n",
       "      steps=[('columnselector', ColumnSelector(columns=['hour']))])), ('pipeline-2', Pipeline(memory=None,\n",
       "      steps=[('columnselector', ColumnSelector(columns=['device_conn_type', 'app_category', 'site_category', 'app_domain', 'device_type', 'banner_pos'])), ('cattonumeric', CatToNumeric())]))],\n",
       "        transformer_weights=None),\n",
       " 'featureunion__n_jobs': 1,\n",
       " 'featureunion__pipeline-1': Pipeline(memory=None,\n",
       "      steps=[('columnselector', ColumnSelector(columns=['hour']))]),\n",
       " 'featureunion__pipeline-1__columnselector': ColumnSelector(columns=['hour']),\n",
       " 'featureunion__pipeline-1__columnselector__columns': ['hour'],\n",
       " 'featureunion__pipeline-1__memory': None,\n",
       " 'featureunion__pipeline-1__steps': [('columnselector',\n",
       "   ColumnSelector(columns=['hour']))],\n",
       " 'featureunion__pipeline-2': Pipeline(memory=None,\n",
       "      steps=[('columnselector', ColumnSelector(columns=['device_conn_type', 'app_category', 'site_category', 'app_domain', 'device_type', 'banner_pos'])), ('cattonumeric', CatToNumeric())]),\n",
       " 'featureunion__pipeline-2__cattonumeric': CatToNumeric(),\n",
       " 'featureunion__pipeline-2__columnselector': ColumnSelector(columns=['device_conn_type', 'app_category', 'site_category', 'app_domain', 'device_type', 'banner_pos']),\n",
       " 'featureunion__pipeline-2__columnselector__columns': ['device_conn_type',\n",
       "  'app_category',\n",
       "  'site_category',\n",
       "  'app_domain',\n",
       "  'device_type',\n",
       "  'banner_pos'],\n",
       " 'featureunion__pipeline-2__memory': None,\n",
       " 'featureunion__pipeline-2__steps': [('columnselector',\n",
       "   ColumnSelector(columns=['device_conn_type', 'app_category', 'site_category', 'app_domain', 'device_type', 'banner_pos'])),\n",
       "  ('cattonumeric', CatToNumeric())],\n",
       " 'featureunion__transformer_list': [('pipeline-1', Pipeline(memory=None,\n",
       "        steps=[('columnselector', ColumnSelector(columns=['hour']))])),\n",
       "  ('pipeline-2', Pipeline(memory=None,\n",
       "        steps=[('columnselector', ColumnSelector(columns=['device_conn_type', 'app_category', 'site_category', 'app_domain', 'device_type', 'banner_pos'])), ('cattonumeric', CatToNumeric())]))],\n",
       " 'featureunion__transformer_weights': None,\n",
       " 'memory': None,\n",
       " 'randomforestclassifier': RandomForestClassifier(bootstrap=True, class_weight=None, criterion='gini',\n",
       "             max_depth=10, max_features='auto', max_leaf_nodes=None,\n",
       "             min_impurity_decrease=0.0, min_impurity_split=None,\n",
       "             min_samples_leaf=1, min_samples_split=2,\n",
       "             min_weight_fraction_leaf=0.0, n_estimators=10, n_jobs=1,\n",
       "             oob_score=False, random_state=None, verbose=0,\n",
       "             warm_start=False),\n",
       " 'randomforestclassifier__bootstrap': True,\n",
       " 'randomforestclassifier__class_weight': None,\n",
       " 'randomforestclassifier__criterion': 'gini',\n",
       " 'randomforestclassifier__max_depth': 10,\n",
       " 'randomforestclassifier__max_features': 'auto',\n",
       " 'randomforestclassifier__max_leaf_nodes': None,\n",
       " 'randomforestclassifier__min_impurity_decrease': 0.0,\n",
       " 'randomforestclassifier__min_impurity_split': None,\n",
       " 'randomforestclassifier__min_samples_leaf': 1,\n",
       " 'randomforestclassifier__min_samples_split': 2,\n",
       " 'randomforestclassifier__min_weight_fraction_leaf': 0.0,\n",
       " 'randomforestclassifier__n_estimators': 10,\n",
       " 'randomforestclassifier__n_jobs': 1,\n",
       " 'randomforestclassifier__oob_score': False,\n",
       " 'randomforestclassifier__random_state': None,\n",
       " 'randomforestclassifier__verbose': 0,\n",
       " 'randomforestclassifier__warm_start': False,\n",
       " 'steps': [('featureunion', FeatureUnion(n_jobs=1,\n",
       "          transformer_list=[('pipeline-1', Pipeline(memory=None,\n",
       "        steps=[('columnselector', ColumnSelector(columns=['hour']))])), ('pipeline-2', Pipeline(memory=None,\n",
       "        steps=[('columnselector', ColumnSelector(columns=['device_conn_type', 'app_category', 'site_category', 'app_domain', 'device_type', 'banner_pos'])), ('cattonumeric', CatToNumeric())]))],\n",
       "          transformer_weights=None)),\n",
       "  ('randomforestclassifier',\n",
       "   RandomForestClassifier(bootstrap=True, class_weight=None, criterion='gini',\n",
       "               max_depth=10, max_features='auto', max_leaf_nodes=None,\n",
       "               min_impurity_decrease=0.0, min_impurity_split=None,\n",
       "               min_samples_leaf=1, min_samples_split=2,\n",
       "               min_weight_fraction_leaf=0.0, n_estimators=10, n_jobs=1,\n",
       "               oob_score=False, random_state=None, verbose=0,\n",
       "               warm_start=False))]}"
      ]
     },
     "execution_count": 44,
     "metadata": {},
     "output_type": "execute_result"
    }
   ],
   "source": [
    "est.get_params()"
   ]
  },
  {
   "cell_type": "code",
   "execution_count": 45,
   "metadata": {},
   "outputs": [],
   "source": [
    "param_grid = {\n",
    "    'randomforestclassifier__max_depth': [10, 20],    \n",
    "    'randomforestclassifier__n_estimators': [1, 10, 50]\n",
    "}"
   ]
  },
  {
   "cell_type": "code",
   "execution_count": 51,
   "metadata": {},
   "outputs": [],
   "source": [
    "grid_search = GridSearchCV(est, param_grid, scoring='roc_auc', n_jobs=4, cv=3)"
   ]
  },
  {
   "cell_type": "code",
   "execution_count": 52,
   "metadata": {},
   "outputs": [],
   "source": [
    "grid_search = grid_search.fit(X_train, y_train)"
   ]
  },
  {
   "cell_type": "code",
   "execution_count": 53,
   "metadata": {},
   "outputs": [
    {
     "name": "stderr",
     "output_type": "stream",
     "text": [
      "/Users/levin/projects/python-data-science/.venv/lib/python3.6/site-packages/sklearn/utils/deprecation.py:122: FutureWarning: You are accessing a training score ('mean_train_score'), which will not be available by default any more in 0.21. If you need training scores, please set return_train_score=True\n",
      "  warnings.warn(*warn_args, **warn_kwargs)\n",
      "/Users/levin/projects/python-data-science/.venv/lib/python3.6/site-packages/sklearn/utils/deprecation.py:122: FutureWarning: You are accessing a training score ('split0_train_score'), which will not be available by default any more in 0.21. If you need training scores, please set return_train_score=True\n",
      "  warnings.warn(*warn_args, **warn_kwargs)\n",
      "/Users/levin/projects/python-data-science/.venv/lib/python3.6/site-packages/sklearn/utils/deprecation.py:122: FutureWarning: You are accessing a training score ('split1_train_score'), which will not be available by default any more in 0.21. If you need training scores, please set return_train_score=True\n",
      "  warnings.warn(*warn_args, **warn_kwargs)\n",
      "/Users/levin/projects/python-data-science/.venv/lib/python3.6/site-packages/sklearn/utils/deprecation.py:122: FutureWarning: You are accessing a training score ('split2_train_score'), which will not be available by default any more in 0.21. If you need training scores, please set return_train_score=True\n",
      "  warnings.warn(*warn_args, **warn_kwargs)\n",
      "/Users/levin/projects/python-data-science/.venv/lib/python3.6/site-packages/sklearn/utils/deprecation.py:122: FutureWarning: You are accessing a training score ('std_train_score'), which will not be available by default any more in 0.21. If you need training scores, please set return_train_score=True\n",
      "  warnings.warn(*warn_args, **warn_kwargs)\n"
     ]
    },
    {
     "data": {
      "text/html": [
       "<div>\n",
       "<style scoped>\n",
       "    .dataframe tbody tr th:only-of-type {\n",
       "        vertical-align: middle;\n",
       "    }\n",
       "\n",
       "    .dataframe tbody tr th {\n",
       "        vertical-align: top;\n",
       "    }\n",
       "\n",
       "    .dataframe thead th {\n",
       "        text-align: right;\n",
       "    }\n",
       "</style>\n",
       "<table border=\"1\" class=\"dataframe\">\n",
       "  <thead>\n",
       "    <tr style=\"text-align: right;\">\n",
       "      <th></th>\n",
       "      <th>mean_fit_time</th>\n",
       "      <th>mean_score_time</th>\n",
       "      <th>mean_test_score</th>\n",
       "      <th>mean_train_score</th>\n",
       "      <th>param_randomforestclassifier__max_depth</th>\n",
       "      <th>param_randomforestclassifier__n_estimators</th>\n",
       "      <th>params</th>\n",
       "      <th>rank_test_score</th>\n",
       "      <th>split0_test_score</th>\n",
       "      <th>split0_train_score</th>\n",
       "      <th>split1_test_score</th>\n",
       "      <th>split1_train_score</th>\n",
       "      <th>split2_test_score</th>\n",
       "      <th>split2_train_score</th>\n",
       "      <th>std_fit_time</th>\n",
       "      <th>std_score_time</th>\n",
       "      <th>std_test_score</th>\n",
       "      <th>std_train_score</th>\n",
       "    </tr>\n",
       "  </thead>\n",
       "  <tbody>\n",
       "    <tr>\n",
       "      <th>0</th>\n",
       "      <td>2.537813</td>\n",
       "      <td>1.032842</td>\n",
       "      <td>0.640378</td>\n",
       "      <td>0.647133</td>\n",
       "      <td>10</td>\n",
       "      <td>1</td>\n",
       "      <td>{'randomforestclassifier__max_depth': 10, 'ran...</td>\n",
       "      <td>6</td>\n",
       "      <td>0.641939</td>\n",
       "      <td>0.647140</td>\n",
       "      <td>0.640303</td>\n",
       "      <td>0.644509</td>\n",
       "      <td>0.638892</td>\n",
       "      <td>0.649750</td>\n",
       "      <td>0.049835</td>\n",
       "      <td>0.004194</td>\n",
       "      <td>0.001245</td>\n",
       "      <td>0.002140</td>\n",
       "    </tr>\n",
       "    <tr>\n",
       "      <th>1</th>\n",
       "      <td>5.214808</td>\n",
       "      <td>1.342306</td>\n",
       "      <td>0.657098</td>\n",
       "      <td>0.666387</td>\n",
       "      <td>10</td>\n",
       "      <td>10</td>\n",
       "      <td>{'randomforestclassifier__max_depth': 10, 'ran...</td>\n",
       "      <td>2</td>\n",
       "      <td>0.659454</td>\n",
       "      <td>0.667022</td>\n",
       "      <td>0.657516</td>\n",
       "      <td>0.664457</td>\n",
       "      <td>0.654324</td>\n",
       "      <td>0.667683</td>\n",
       "      <td>0.074789</td>\n",
       "      <td>0.027627</td>\n",
       "      <td>0.002115</td>\n",
       "      <td>0.001392</td>\n",
       "    </tr>\n",
       "    <tr>\n",
       "      <th>2</th>\n",
       "      <td>18.818669</td>\n",
       "      <td>2.335467</td>\n",
       "      <td>0.658755</td>\n",
       "      <td>0.667831</td>\n",
       "      <td>10</td>\n",
       "      <td>50</td>\n",
       "      <td>{'randomforestclassifier__max_depth': 10, 'ran...</td>\n",
       "      <td>1</td>\n",
       "      <td>0.660793</td>\n",
       "      <td>0.667570</td>\n",
       "      <td>0.659901</td>\n",
       "      <td>0.666699</td>\n",
       "      <td>0.655570</td>\n",
       "      <td>0.669223</td>\n",
       "      <td>0.136185</td>\n",
       "      <td>0.113180</td>\n",
       "      <td>0.002281</td>\n",
       "      <td>0.001046</td>\n",
       "    </tr>\n",
       "    <tr>\n",
       "      <th>3</th>\n",
       "      <td>2.681221</td>\n",
       "      <td>1.125784</td>\n",
       "      <td>0.642901</td>\n",
       "      <td>0.679706</td>\n",
       "      <td>20</td>\n",
       "      <td>1</td>\n",
       "      <td>{'randomforestclassifier__max_depth': 20, 'ran...</td>\n",
       "      <td>5</td>\n",
       "      <td>0.642646</td>\n",
       "      <td>0.680819</td>\n",
       "      <td>0.644166</td>\n",
       "      <td>0.677573</td>\n",
       "      <td>0.641892</td>\n",
       "      <td>0.680726</td>\n",
       "      <td>0.070350</td>\n",
       "      <td>0.098252</td>\n",
       "      <td>0.000946</td>\n",
       "      <td>0.001509</td>\n",
       "    </tr>\n",
       "    <tr>\n",
       "      <th>4</th>\n",
       "      <td>8.141990</td>\n",
       "      <td>1.581284</td>\n",
       "      <td>0.651599</td>\n",
       "      <td>0.699881</td>\n",
       "      <td>20</td>\n",
       "      <td>10</td>\n",
       "      <td>{'randomforestclassifier__max_depth': 20, 'ran...</td>\n",
       "      <td>4</td>\n",
       "      <td>0.651714</td>\n",
       "      <td>0.699665</td>\n",
       "      <td>0.653005</td>\n",
       "      <td>0.699413</td>\n",
       "      <td>0.650079</td>\n",
       "      <td>0.700565</td>\n",
       "      <td>0.189691</td>\n",
       "      <td>0.078129</td>\n",
       "      <td>0.001198</td>\n",
       "      <td>0.000495</td>\n",
       "    </tr>\n",
       "    <tr>\n",
       "      <th>5</th>\n",
       "      <td>27.605438</td>\n",
       "      <td>3.561227</td>\n",
       "      <td>0.652730</td>\n",
       "      <td>0.702241</td>\n",
       "      <td>20</td>\n",
       "      <td>50</td>\n",
       "      <td>{'randomforestclassifier__max_depth': 20, 'ran...</td>\n",
       "      <td>3</td>\n",
       "      <td>0.652707</td>\n",
       "      <td>0.702052</td>\n",
       "      <td>0.654395</td>\n",
       "      <td>0.701897</td>\n",
       "      <td>0.651087</td>\n",
       "      <td>0.702775</td>\n",
       "      <td>0.364642</td>\n",
       "      <td>0.139676</td>\n",
       "      <td>0.001351</td>\n",
       "      <td>0.000383</td>\n",
       "    </tr>\n",
       "  </tbody>\n",
       "</table>\n",
       "</div>"
      ],
      "text/plain": [
       "   mean_fit_time  mean_score_time  mean_test_score  mean_train_score  \\\n",
       "0       2.537813         1.032842         0.640378          0.647133   \n",
       "1       5.214808         1.342306         0.657098          0.666387   \n",
       "2      18.818669         2.335467         0.658755          0.667831   \n",
       "3       2.681221         1.125784         0.642901          0.679706   \n",
       "4       8.141990         1.581284         0.651599          0.699881   \n",
       "5      27.605438         3.561227         0.652730          0.702241   \n",
       "\n",
       "  param_randomforestclassifier__max_depth  \\\n",
       "0                                      10   \n",
       "1                                      10   \n",
       "2                                      10   \n",
       "3                                      20   \n",
       "4                                      20   \n",
       "5                                      20   \n",
       "\n",
       "  param_randomforestclassifier__n_estimators  \\\n",
       "0                                          1   \n",
       "1                                         10   \n",
       "2                                         50   \n",
       "3                                          1   \n",
       "4                                         10   \n",
       "5                                         50   \n",
       "\n",
       "                                              params  rank_test_score  \\\n",
       "0  {'randomforestclassifier__max_depth': 10, 'ran...                6   \n",
       "1  {'randomforestclassifier__max_depth': 10, 'ran...                2   \n",
       "2  {'randomforestclassifier__max_depth': 10, 'ran...                1   \n",
       "3  {'randomforestclassifier__max_depth': 20, 'ran...                5   \n",
       "4  {'randomforestclassifier__max_depth': 20, 'ran...                4   \n",
       "5  {'randomforestclassifier__max_depth': 20, 'ran...                3   \n",
       "\n",
       "   split0_test_score  split0_train_score  split1_test_score  \\\n",
       "0           0.641939            0.647140           0.640303   \n",
       "1           0.659454            0.667022           0.657516   \n",
       "2           0.660793            0.667570           0.659901   \n",
       "3           0.642646            0.680819           0.644166   \n",
       "4           0.651714            0.699665           0.653005   \n",
       "5           0.652707            0.702052           0.654395   \n",
       "\n",
       "   split1_train_score  split2_test_score  split2_train_score  std_fit_time  \\\n",
       "0            0.644509           0.638892            0.649750      0.049835   \n",
       "1            0.664457           0.654324            0.667683      0.074789   \n",
       "2            0.666699           0.655570            0.669223      0.136185   \n",
       "3            0.677573           0.641892            0.680726      0.070350   \n",
       "4            0.699413           0.650079            0.700565      0.189691   \n",
       "5            0.701897           0.651087            0.702775      0.364642   \n",
       "\n",
       "   std_score_time  std_test_score  std_train_score  \n",
       "0        0.004194        0.001245         0.002140  \n",
       "1        0.027627        0.002115         0.001392  \n",
       "2        0.113180        0.002281         0.001046  \n",
       "3        0.098252        0.000946         0.001509  \n",
       "4        0.078129        0.001198         0.000495  \n",
       "5        0.139676        0.001351         0.000383  "
      ]
     },
     "execution_count": 53,
     "metadata": {},
     "output_type": "execute_result"
    }
   ],
   "source": [
    "res_df = pd.DataFrame(grid_search.cv_results_)\n",
    "res_df"
   ]
  },
  {
   "cell_type": "code",
   "execution_count": 54,
   "metadata": {},
   "outputs": [],
   "source": [
    "label = (\"depth: \" + res_df['param_randomforestclassifier__max_depth'].astype(str) +\n",
    "    \" n_est: \" + res_df['param_randomforestclassifier__n_estimators'].astype(str))"
   ]
  },
  {
   "cell_type": "code",
   "execution_count": 58,
   "metadata": {},
   "outputs": [
    {
     "data": {
      "image/png": "[encoded data removed]",
      "text/plain": [
       "<matplotlib.figure.Figure at 0x17544eeb8>"
      ]
     },
     "metadata": {},
     "output_type": "display_data"
    }
   ],
   "source": [
    "plt.figure(figsize=[12, 8])\n",
    "plt.bar(res_df.index - 0.2, res_df['mean_test_score'] - 0.5, bottom=0.5, width = 0.35, yerr=res_df['std_test_score'])\n",
    "plt.bar(res_df.index + 0.2, res_df['mean_train_score'] - 0.5, bottom=0.5, width = 0.35, yerr=res_df['std_train_score'])\n",
    "plt.xticks(res_df.index, label)\n",
    "plt.show()"
   ]
  },
  {
   "cell_type": "code",
   "execution_count": null,
   "metadata": {},
   "outputs": [],
   "source": []
  }
 ],
 "metadata": {
  "kernelspec": {
   "display_name": "Python 3",
   "language": "python",
   "name": "python3"
  },
  "language_info": {
   "codemirror_mode": {
    "name": "ipython",
    "version": 3
   },
   "file_extension": ".py",
   "mimetype": "text/x-python",
   "name": "python",
   "nbconvert_exporter": "python",
   "pygments_lexer": "ipython3",
   "version": "3.6.4"
  }
 },
 "nbformat": 4,
 "nbformat_minor": 2
}
