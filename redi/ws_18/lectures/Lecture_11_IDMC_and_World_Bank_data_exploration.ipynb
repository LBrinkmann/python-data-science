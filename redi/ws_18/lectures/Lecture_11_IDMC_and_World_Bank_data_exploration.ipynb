{
  "nbformat": 4,
  "nbformat_minor": 0,
  "metadata": {
    "colab": {
      "name": "Lecture 11 - IDMC and World Bank data exploration.ipynb",
      "version": "0.3.2",
      "provenance": [],
      "collapsed_sections": []
    },
    "kernelspec": {
      "name": "python3",
      "display_name": "Python 3"
    }
  },
  "cells": [
    {
      "metadata": {
        "id": "RUatX1p13jsi",
        "colab_type": "code",
        "colab": {}
      },
      "cell_type": "code",
      "source": [
        "import pandas as pd"
      ],
      "execution_count": 0,
      "outputs": []
    },
    {
      "metadata": {
        "id": "fnGjnBJsK16E",
        "colab_type": "code",
        "colab": {}
      },
      "cell_type": "code",
      "source": [
        "# disable \"scientific notation\"\n",
        "# display 1.1924331e+03 as 1192.43 in Pandas context\n",
        "pd.options.display.float_format = '{:.2f}'.format"
      ],
      "execution_count": 0,
      "outputs": []
    },
    {
      "metadata": {
        "id": "OsoodM-MGMUh",
        "colab_type": "text"
      },
      "cell_type": "markdown",
      "source": [
        "# IDMC displacement data\n",
        "from http://www.internal-displacement.org/database/displacement-data"
      ]
    },
    {
      "metadata": {
        "id": "CBqThnxxGPQB",
        "colab_type": "code",
        "colab": {
          "base_uri": "https://localhost:8080/",
          "height": 343
        },
        "outputId": "52388e24-2f84-4d3c-8be9-7f71e59772ef"
      },
      "cell_type": "code",
      "source": [
        "url = 'https://raw.githubusercontent.com/ReDI-School/python-data-science/master/datasets/idmc/idmc_displacement_all_dataset.csv'\n",
        "idmc_displacement_all = pd.read_csv(url)\n",
        "idmc_displacement_all.head(10)"
      ],
      "execution_count": 4,
      "outputs": [
        {
          "output_type": "execute_result",
          "data": {
            "text/html": [
              "<div>\n",
              "<style scoped>\n",
              "    .dataframe tbody tr th:only-of-type {\n",
              "        vertical-align: middle;\n",
              "    }\n",
              "\n",
              "    .dataframe tbody tr th {\n",
              "        vertical-align: top;\n",
              "    }\n",
              "\n",
              "    .dataframe thead th {\n",
              "        text-align: right;\n",
              "    }\n",
              "</style>\n",
              "<table border=\"1\" class=\"dataframe\">\n",
              "  <thead>\n",
              "    <tr style=\"text-align: right;\">\n",
              "      <th></th>\n",
              "      <th>ISO3</th>\n",
              "      <th>Name</th>\n",
              "      <th>Year</th>\n",
              "      <th>Conflict Stock Displacement</th>\n",
              "      <th>Conflict New Displacements</th>\n",
              "      <th>Disaster New Displacements</th>\n",
              "    </tr>\n",
              "  </thead>\n",
              "  <tbody>\n",
              "    <tr>\n",
              "      <th>0</th>\n",
              "      <td>AB9</td>\n",
              "      <td>Abyei Area</td>\n",
              "      <td>2014</td>\n",
              "      <td>20000.00</td>\n",
              "      <td>nan</td>\n",
              "      <td>nan</td>\n",
              "    </tr>\n",
              "    <tr>\n",
              "      <th>1</th>\n",
              "      <td>AB9</td>\n",
              "      <td>Abyei Area</td>\n",
              "      <td>2015</td>\n",
              "      <td>82000.00</td>\n",
              "      <td>nan</td>\n",
              "      <td>nan</td>\n",
              "    </tr>\n",
              "    <tr>\n",
              "      <th>2</th>\n",
              "      <td>AB9</td>\n",
              "      <td>Abyei Area</td>\n",
              "      <td>2016</td>\n",
              "      <td>20000.00</td>\n",
              "      <td>nan</td>\n",
              "      <td>nan</td>\n",
              "    </tr>\n",
              "    <tr>\n",
              "      <th>3</th>\n",
              "      <td>AB9</td>\n",
              "      <td>Abyei Area</td>\n",
              "      <td>2017</td>\n",
              "      <td>31000.00</td>\n",
              "      <td>nan</td>\n",
              "      <td>nan</td>\n",
              "    </tr>\n",
              "    <tr>\n",
              "      <th>4</th>\n",
              "      <td>AFG</td>\n",
              "      <td>Afghanistan</td>\n",
              "      <td>2008</td>\n",
              "      <td>nan</td>\n",
              "      <td>nan</td>\n",
              "      <td>3400.00</td>\n",
              "    </tr>\n",
              "    <tr>\n",
              "      <th>5</th>\n",
              "      <td>AFG</td>\n",
              "      <td>Afghanistan</td>\n",
              "      <td>2009</td>\n",
              "      <td>297000.00</td>\n",
              "      <td>nan</td>\n",
              "      <td>28000.00</td>\n",
              "    </tr>\n",
              "    <tr>\n",
              "      <th>6</th>\n",
              "      <td>AFG</td>\n",
              "      <td>Afghanistan</td>\n",
              "      <td>2010</td>\n",
              "      <td>352000.00</td>\n",
              "      <td>102000.00</td>\n",
              "      <td>71000.00</td>\n",
              "    </tr>\n",
              "    <tr>\n",
              "      <th>7</th>\n",
              "      <td>AFG</td>\n",
              "      <td>Afghanistan</td>\n",
              "      <td>2011</td>\n",
              "      <td>450000.00</td>\n",
              "      <td>186000.00</td>\n",
              "      <td>3000.00</td>\n",
              "    </tr>\n",
              "    <tr>\n",
              "      <th>8</th>\n",
              "      <td>AFG</td>\n",
              "      <td>Afghanistan</td>\n",
              "      <td>2012</td>\n",
              "      <td>492000.00</td>\n",
              "      <td>100000.00</td>\n",
              "      <td>30000.00</td>\n",
              "    </tr>\n",
              "    <tr>\n",
              "      <th>9</th>\n",
              "      <td>AFG</td>\n",
              "      <td>Afghanistan</td>\n",
              "      <td>2013</td>\n",
              "      <td>631000.00</td>\n",
              "      <td>124000.00</td>\n",
              "      <td>15000.00</td>\n",
              "    </tr>\n",
              "  </tbody>\n",
              "</table>\n",
              "</div>"
            ],
            "text/plain": [
              "  ISO3         Name  Year  Conflict Stock Displacement  \\\n",
              "0  AB9   Abyei Area  2014                     20000.00   \n",
              "1  AB9   Abyei Area  2015                     82000.00   \n",
              "2  AB9   Abyei Area  2016                     20000.00   \n",
              "3  AB9   Abyei Area  2017                     31000.00   \n",
              "4  AFG  Afghanistan  2008                          nan   \n",
              "5  AFG  Afghanistan  2009                    297000.00   \n",
              "6  AFG  Afghanistan  2010                    352000.00   \n",
              "7  AFG  Afghanistan  2011                    450000.00   \n",
              "8  AFG  Afghanistan  2012                    492000.00   \n",
              "9  AFG  Afghanistan  2013                    631000.00   \n",
              "\n",
              "   Conflict New Displacements  Disaster New Displacements  \n",
              "0                         nan                         nan  \n",
              "1                         nan                         nan  \n",
              "2                         nan                         nan  \n",
              "3                         nan                         nan  \n",
              "4                         nan                     3400.00  \n",
              "5                         nan                    28000.00  \n",
              "6                   102000.00                    71000.00  \n",
              "7                   186000.00                     3000.00  \n",
              "8                   100000.00                    30000.00  \n",
              "9                   124000.00                    15000.00  "
            ]
          },
          "metadata": {
            "tags": []
          },
          "execution_count": 4
        }
      ]
    },
    {
      "metadata": {
        "id": "Ii3wJcPLKedL",
        "colab_type": "code",
        "colab": {
          "base_uri": "https://localhost:8080/",
          "height": 218
        },
        "outputId": "6f0d7234-499c-4a0e-be5a-0ee7b163d871"
      },
      "cell_type": "code",
      "source": [
        "idmc_displacement_all.info()"
      ],
      "execution_count": 9,
      "outputs": [
        {
          "output_type": "stream",
          "text": [
            "<class 'pandas.core.frame.DataFrame'>\n",
            "RangeIndex: 1251 entries, 0 to 1250\n",
            "Data columns (total 6 columns):\n",
            "ISO3                           1251 non-null object\n",
            "Name                           1248 non-null object\n",
            "Year                           1251 non-null int64\n",
            "Conflict Stock Displacement    463 non-null float64\n",
            "Conflict New Displacements     248 non-null float64\n",
            "Disaster New Displacements     941 non-null float64\n",
            "dtypes: float64(3), int64(1), object(2)\n",
            "memory usage: 58.7+ KB\n"
          ],
          "name": "stdout"
        }
      ]
    },
    {
      "metadata": {
        "id": "T5yelK5nqe6O",
        "colab_type": "text"
      },
      "cell_type": "markdown",
      "source": [
        "We wonder about all the `nan`s. It is weird that there is no conflict data in 2009 for Afghanistan even though we know the conflict was already going on then.\n",
        "\n",
        "Sometimes even the name is `nan`:"
      ]
    },
    {
      "metadata": {
        "id": "VVwDuzcY3PUf",
        "colab_type": "code",
        "colab": {
          "base_uri": "https://localhost:8080/",
          "height": 136
        },
        "outputId": "ab0f0407-d238-4bb2-c0d0-d6088e31ca1f"
      },
      "cell_type": "code",
      "source": [
        "idmc_displacement_all[idmc_displacement_all.Name.isnull()]"
      ],
      "execution_count": 5,
      "outputs": [
        {
          "output_type": "execute_result",
          "data": {
            "text/html": [
              "<div>\n",
              "<style scoped>\n",
              "    .dataframe tbody tr th:only-of-type {\n",
              "        vertical-align: middle;\n",
              "    }\n",
              "\n",
              "    .dataframe tbody tr th {\n",
              "        vertical-align: top;\n",
              "    }\n",
              "\n",
              "    .dataframe thead th {\n",
              "        text-align: right;\n",
              "    }\n",
              "</style>\n",
              "<table border=\"1\" class=\"dataframe\">\n",
              "  <thead>\n",
              "    <tr style=\"text-align: right;\">\n",
              "      <th></th>\n",
              "      <th>ISO3</th>\n",
              "      <th>Name</th>\n",
              "      <th>Year</th>\n",
              "      <th>Conflict Stock Displacement</th>\n",
              "      <th>Conflict New Displacements</th>\n",
              "      <th>Disaster New Displacements</th>\n",
              "    </tr>\n",
              "  </thead>\n",
              "  <tbody>\n",
              "    <tr>\n",
              "      <th>740</th>\n",
              "      <td>MTQ</td>\n",
              "      <td>NaN</td>\n",
              "      <td>2011</td>\n",
              "      <td>nan</td>\n",
              "      <td>nan</td>\n",
              "      <td>nan</td>\n",
              "    </tr>\n",
              "    <tr>\n",
              "      <th>1073</th>\n",
              "      <td>TKL</td>\n",
              "      <td>NaN</td>\n",
              "      <td>2011</td>\n",
              "      <td>nan</td>\n",
              "      <td>nan</td>\n",
              "      <td>nan</td>\n",
              "    </tr>\n",
              "    <tr>\n",
              "      <th>1180</th>\n",
              "      <td>VGB</td>\n",
              "      <td>NaN</td>\n",
              "      <td>2017</td>\n",
              "      <td>nan</td>\n",
              "      <td>nan</td>\n",
              "      <td>6000.00</td>\n",
              "    </tr>\n",
              "  </tbody>\n",
              "</table>\n",
              "</div>"
            ],
            "text/plain": [
              "     ISO3 Name  Year  Conflict Stock Displacement  Conflict New Displacements  \\\n",
              "740   MTQ  NaN  2011                          nan                         nan   \n",
              "1073  TKL  NaN  2011                          nan                         nan   \n",
              "1180  VGB  NaN  2017                          nan                         nan   \n",
              "\n",
              "      Disaster New Displacements  \n",
              "740                          nan  \n",
              "1073                         nan  \n",
              "1180                     6000.00  "
            ]
          },
          "metadata": {
            "tags": []
          },
          "execution_count": 5
        }
      ]
    },
    {
      "metadata": {
        "id": "ANFIqwKeqyx3",
        "colab_type": "text"
      },
      "cell_type": "markdown",
      "source": [
        "We found one country that has a row but no data:"
      ]
    },
    {
      "metadata": {
        "id": "cxyp9elXzF45",
        "colab_type": "code",
        "colab": {
          "base_uri": "https://localhost:8080/",
          "height": 77
        },
        "outputId": "222c9898-6f40-4772-a578-3915551af07c"
      },
      "cell_type": "code",
      "source": [
        "idmc_displacement_all[idmc_displacement_all.ISO3 == 'ASM']"
      ],
      "execution_count": 6,
      "outputs": [
        {
          "output_type": "execute_result",
          "data": {
            "text/html": [
              "<div>\n",
              "<style scoped>\n",
              "    .dataframe tbody tr th:only-of-type {\n",
              "        vertical-align: middle;\n",
              "    }\n",
              "\n",
              "    .dataframe tbody tr th {\n",
              "        vertical-align: top;\n",
              "    }\n",
              "\n",
              "    .dataframe thead th {\n",
              "        text-align: right;\n",
              "    }\n",
              "</style>\n",
              "<table border=\"1\" class=\"dataframe\">\n",
              "  <thead>\n",
              "    <tr style=\"text-align: right;\">\n",
              "      <th></th>\n",
              "      <th>ISO3</th>\n",
              "      <th>Name</th>\n",
              "      <th>Year</th>\n",
              "      <th>Conflict Stock Displacement</th>\n",
              "      <th>Conflict New Displacements</th>\n",
              "      <th>Disaster New Displacements</th>\n",
              "    </tr>\n",
              "  </thead>\n",
              "  <tbody>\n",
              "    <tr>\n",
              "      <th>51</th>\n",
              "      <td>ASM</td>\n",
              "      <td>American Samoa</td>\n",
              "      <td>2009</td>\n",
              "      <td>nan</td>\n",
              "      <td>nan</td>\n",
              "      <td>nan</td>\n",
              "    </tr>\n",
              "  </tbody>\n",
              "</table>\n",
              "</div>"
            ],
            "text/plain": [
              "   ISO3            Name  Year  Conflict Stock Displacement  \\\n",
              "51  ASM  American Samoa  2009                          nan   \n",
              "\n",
              "    Conflict New Displacements  Disaster New Displacements  \n",
              "51                         nan                         nan  "
            ]
          },
          "metadata": {
            "tags": []
          },
          "execution_count": 6
        }
      ]
    },
    {
      "metadata": {
        "id": "i2Q8kfe3rMyG",
        "colab_type": "text"
      },
      "cell_type": "markdown",
      "source": [
        "We check that each row contains data for one country in a specific year:"
      ]
    },
    {
      "metadata": {
        "id": "GFMb33RXKsca",
        "colab_type": "code",
        "colab": {
          "base_uri": "https://localhost:8080/",
          "height": 35
        },
        "outputId": "d0b85427-a731-4cbb-9c7d-baafffe547e4"
      },
      "cell_type": "code",
      "source": [
        "x = displacements.groupby(['Name', 'Year']).size()\n",
        "len(x[x > 1])"
      ],
      "execution_count": 13,
      "outputs": [
        {
          "output_type": "execute_result",
          "data": {
            "text/plain": [
              "0"
            ]
          },
          "metadata": {
            "tags": []
          },
          "execution_count": 13
        }
      ]
    },
    {
      "metadata": {
        "id": "rdbP1PnMq_AQ",
        "colab_type": "text"
      },
      "cell_type": "markdown",
      "source": [
        "Here we see that not all contries have equally many years defined:"
      ]
    },
    {
      "metadata": {
        "id": "GwwKYm_AzppL",
        "colab_type": "code",
        "colab": {
          "base_uri": "https://localhost:8080/",
          "height": 1058
        },
        "outputId": "1df96958-cc2e-48ed-d7b6-a6a696fc50a9"
      },
      "cell_type": "code",
      "source": [
        "idmc_displacement_all.ISO3.value_counts()"
      ],
      "execution_count": 7,
      "outputs": [
        {
          "output_type": "execute_result",
          "data": {
            "text/plain": [
              "CHL    10\n",
              "TUR    10\n",
              "BGD    10\n",
              "AFG    10\n",
              "COL    10\n",
              "CHN    10\n",
              "MDG    10\n",
              "BRA    10\n",
              "CAF    10\n",
              "PAN    10\n",
              "USA    10\n",
              "ETH    10\n",
              "DOM    10\n",
              "GTM    10\n",
              "NIC    10\n",
              "PER    10\n",
              "PHL    10\n",
              "ARG    10\n",
              "MLI    10\n",
              "IDN    10\n",
              "UGA    10\n",
              "TCD    10\n",
              "SOM    10\n",
              "MYS    10\n",
              "LAO    10\n",
              "ZAF    10\n",
              "DZA    10\n",
              "MOZ    10\n",
              "KEN    10\n",
              "PAK    10\n",
              "       ..\n",
              "MDA     2\n",
              "SWE     2\n",
              "PYF     2\n",
              "POL     2\n",
              "MHL     2\n",
              "SUR     2\n",
              "GNB     2\n",
              "TCA     2\n",
              "KIR     2\n",
              "BRB     2\n",
              "PLW     2\n",
              "MDV     1\n",
              "CYM     1\n",
              "LTU     1\n",
              "SVK     1\n",
              "ISL     1\n",
              "ARE     1\n",
              "PRI     1\n",
              "MAF     1\n",
              "MTQ     1\n",
              "TUV     1\n",
              "TKL     1\n",
              "VGB     1\n",
              "GRD     1\n",
              "ASM     1\n",
              "AIA     1\n",
              "KNA     1\n",
              "GRL     1\n",
              "VIR     1\n",
              "SXM     1\n",
              "Name: ISO3, Length: 192, dtype: int64"
            ]
          },
          "metadata": {
            "tags": []
          },
          "execution_count": 7
        }
      ]
    },
    {
      "metadata": {
        "id": "GWRwarDK8MCU",
        "colab_type": "code",
        "colab": {
          "base_uri": "https://localhost:8080/",
          "height": 195
        },
        "outputId": "74e021eb-1450-4078-8046-d2b08fb635a4"
      },
      "cell_type": "code",
      "source": [
        "# In our project, we want to get the indicators for displacements.\n",
        "# Therefore we only need to look at new displacements (and the indicator values at the time when they happened).\n",
        "# Hence, we can discard stock displacements.\n",
        "\n",
        "displacements = idmc_displacement_all.drop('Conflict Stock Displacement', axis=1)\n",
        "displacements.head()"
      ],
      "execution_count": 8,
      "outputs": [
        {
          "output_type": "execute_result",
          "data": {
            "text/html": [
              "<div>\n",
              "<style scoped>\n",
              "    .dataframe tbody tr th:only-of-type {\n",
              "        vertical-align: middle;\n",
              "    }\n",
              "\n",
              "    .dataframe tbody tr th {\n",
              "        vertical-align: top;\n",
              "    }\n",
              "\n",
              "    .dataframe thead th {\n",
              "        text-align: right;\n",
              "    }\n",
              "</style>\n",
              "<table border=\"1\" class=\"dataframe\">\n",
              "  <thead>\n",
              "    <tr style=\"text-align: right;\">\n",
              "      <th></th>\n",
              "      <th>ISO3</th>\n",
              "      <th>Name</th>\n",
              "      <th>Year</th>\n",
              "      <th>Conflict New Displacements</th>\n",
              "      <th>Disaster New Displacements</th>\n",
              "    </tr>\n",
              "  </thead>\n",
              "  <tbody>\n",
              "    <tr>\n",
              "      <th>0</th>\n",
              "      <td>AB9</td>\n",
              "      <td>Abyei Area</td>\n",
              "      <td>2014</td>\n",
              "      <td>nan</td>\n",
              "      <td>nan</td>\n",
              "    </tr>\n",
              "    <tr>\n",
              "      <th>1</th>\n",
              "      <td>AB9</td>\n",
              "      <td>Abyei Area</td>\n",
              "      <td>2015</td>\n",
              "      <td>nan</td>\n",
              "      <td>nan</td>\n",
              "    </tr>\n",
              "    <tr>\n",
              "      <th>2</th>\n",
              "      <td>AB9</td>\n",
              "      <td>Abyei Area</td>\n",
              "      <td>2016</td>\n",
              "      <td>nan</td>\n",
              "      <td>nan</td>\n",
              "    </tr>\n",
              "    <tr>\n",
              "      <th>3</th>\n",
              "      <td>AB9</td>\n",
              "      <td>Abyei Area</td>\n",
              "      <td>2017</td>\n",
              "      <td>nan</td>\n",
              "      <td>nan</td>\n",
              "    </tr>\n",
              "    <tr>\n",
              "      <th>4</th>\n",
              "      <td>AFG</td>\n",
              "      <td>Afghanistan</td>\n",
              "      <td>2008</td>\n",
              "      <td>nan</td>\n",
              "      <td>3400.00</td>\n",
              "    </tr>\n",
              "  </tbody>\n",
              "</table>\n",
              "</div>"
            ],
            "text/plain": [
              "  ISO3         Name  Year  Conflict New Displacements  \\\n",
              "0  AB9   Abyei Area  2014                         nan   \n",
              "1  AB9   Abyei Area  2015                         nan   \n",
              "2  AB9   Abyei Area  2016                         nan   \n",
              "3  AB9   Abyei Area  2017                         nan   \n",
              "4  AFG  Afghanistan  2008                         nan   \n",
              "\n",
              "   Disaster New Displacements  \n",
              "0                         nan  \n",
              "1                         nan  \n",
              "2                         nan  \n",
              "3                         nan  \n",
              "4                     3400.00  "
            ]
          },
          "metadata": {
            "tags": []
          },
          "execution_count": 8
        }
      ]
    },
    {
      "metadata": {
        "id": "U_qvNNUqr4CD",
        "colab_type": "text"
      },
      "cell_type": "markdown",
      "source": [
        "Next we look at distributions of new displacements:"
      ]
    },
    {
      "metadata": {
        "id": "igtHtnEZGVt4",
        "colab_type": "code",
        "colab": {
          "base_uri": "https://localhost:8080/",
          "height": 530
        },
        "outputId": "1c433668-6baf-4df4-d89d-b088ec5dca85"
      },
      "cell_type": "code",
      "source": [
        "conflict_displacements = displacements['Conflict New Displacements']\n",
        "print(conflict_displacements.describe())\n",
        "conflict_displacements.hist(bins=50)"
      ],
      "execution_count": 15,
      "outputs": [
        {
          "output_type": "stream",
          "text": [
            "count       248.00\n",
            "mean     266937.06\n",
            "std      497176.90\n",
            "min           2.00\n",
            "25%       11500.00\n",
            "50%       97000.00\n",
            "75%      282250.00\n",
            "max     3500000.00\n",
            "Name: Conflict New Displacements, dtype: float64\n"
          ],
          "name": "stdout"
        },
        {
          "output_type": "execute_result",
          "data": {
            "text/plain": [
              "<matplotlib.axes._subplots.AxesSubplot at 0x7f42788b86a0>"
            ]
          },
          "metadata": {
            "tags": []
          },
          "execution_count": 15
        },
        {
          "output_type": "display_data",
          "data": {
            "image/png": "[encoded data removed]",
            "text/plain": [
              "<matplotlib.figure.Figure at 0x7f427b118438>"
            ]
          },
          "metadata": {
            "tags": []
          }
        }
      ]
    },
    {
      "metadata": {
        "id": "9wEfknGdIH-2",
        "colab_type": "code",
        "colab": {
          "base_uri": "https://localhost:8080/",
          "height": 543
        },
        "outputId": "efabb105-c7cc-4d9e-9855-4e0442bd456f"
      },
      "cell_type": "code",
      "source": [
        "disaster_displacements = displacements['Disaster New Displacements']\n",
        "print(disaster_displacements.describe())\n",
        "disaster_displacements.hist(bins=100)"
      ],
      "execution_count": 16,
      "outputs": [
        {
          "output_type": "stream",
          "text": [
            "count        941.00\n",
            "mean      261870.49\n",
            "std      1194235.81\n",
            "min            2.00\n",
            "25%         1200.00\n",
            "50%         9000.00\n",
            "75%        54000.00\n",
            "max     18660000.00\n",
            "Name: Disaster New Displacements, dtype: float64\n"
          ],
          "name": "stdout"
        },
        {
          "output_type": "execute_result",
          "data": {
            "text/plain": [
              "<matplotlib.axes._subplots.AxesSubplot at 0x7f42788e1198>"
            ]
          },
          "metadata": {
            "tags": []
          },
          "execution_count": 16
        },
        {
          "output_type": "display_data",
          "data": {
            "image/png": "[encoded data removed]",
            "text/plain": [
              "<matplotlib.figure.Figure at 0x7f427880e898>"
            ]
          },
          "metadata": {
            "tags": []
          }
        }
      ]
    },
    {
      "metadata": {
        "id": "bkubwPYBsGgT",
        "colab_type": "text"
      },
      "cell_type": "markdown",
      "source": [
        "Now we check the total number of new displacements in the dataset by country:"
      ]
    },
    {
      "metadata": {
        "id": "g-Ab8TrlLazi",
        "colab_type": "code",
        "colab": {
          "base_uri": "https://localhost:8080/",
          "height": 218
        },
        "outputId": "6c390ca8-a212-4f83-c2d9-9e6bf7ef1d5e"
      },
      "cell_type": "code",
      "source": [
        "displacements.groupby('ISO3')['Conflict New Displacements'].sum().sort_values(ascending=False).head(10)"
      ],
      "execution_count": 12,
      "outputs": [
        {
          "output_type": "execute_result",
          "data": {
            "text/plain": [
              "ISO3\n",
              "SYR   12191000.00\n",
              "COD    8280000.00\n",
              "IRQ    5349000.00\n",
              "PAK    5126400.00\n",
              "YEM    3566000.00\n",
              "SSD    3564000.00\n",
              "NGA    3101000.00\n",
              "SDN    2921000.00\n",
              "PHL    2409000.00\n",
              "AFG    2130000.00\n",
              "Name: Conflict New Displacements, dtype: float64"
            ]
          },
          "metadata": {
            "tags": []
          },
          "execution_count": 12
        }
      ]
    },
    {
      "metadata": {
        "id": "oGv_YSXvMNjF",
        "colab_type": "code",
        "colab": {
          "base_uri": "https://localhost:8080/",
          "height": 218
        },
        "outputId": "0e732332-666c-41e9-9de9-6fca6f16f679"
      },
      "cell_type": "code",
      "source": [
        "displacements.groupby('ISO3')['Disaster New Displacements'].sum().sort_values(ascending=False).head(10)"
      ],
      "execution_count": 13,
      "outputs": [
        {
          "output_type": "execute_result",
          "data": {
            "text/plain": [
              "ISO3\n",
              "CHN   73877000.00\n",
              "IND   36964000.00\n",
              "PHL   35668000.00\n",
              "PAK   15584800.00\n",
              "NGA    7238300.00\n",
              "BGD    6817000.00\n",
              "USA    6052300.00\n",
              "MMR    5227500.00\n",
              "IDN    4780400.00\n",
              "CUB    4185000.00\n",
              "Name: Disaster New Displacements, dtype: float64"
            ]
          },
          "metadata": {
            "tags": []
          },
          "execution_count": 13
        }
      ]
    },
    {
      "metadata": {
        "id": "gFjAHo9AsA9k",
        "colab_type": "text"
      },
      "cell_type": "markdown",
      "source": [
        "At first the year distribution looks uniform:"
      ]
    },
    {
      "metadata": {
        "id": "Fv06woXCxUIW",
        "colab_type": "code",
        "colab": {
          "base_uri": "https://localhost:8080/",
          "height": 365
        },
        "outputId": "35b00159-6f6c-4ca0-fbcb-0b80b81bc21b"
      },
      "cell_type": "code",
      "source": [
        "displacements['Year'].hist()"
      ],
      "execution_count": 9,
      "outputs": [
        {
          "output_type": "execute_result",
          "data": {
            "text/plain": [
              "<matplotlib.axes._subplots.AxesSubplot at 0x7fafb62c6748>"
            ]
          },
          "metadata": {
            "tags": []
          },
          "execution_count": 9
        },
        {
          "output_type": "display_data",
          "data": {
            "image/png": "[encoded data removed]",
            "text/plain": [
              "<matplotlib.figure.Figure at 0x7fafb62c6400>"
            ]
          },
          "metadata": {
            "tags": []
          }
        }
      ]
    },
    {
      "metadata": {
        "id": "DR6SwyY7sQqJ",
        "colab_type": "text"
      },
      "cell_type": "markdown",
      "source": [
        "When looking at the total new displacements by year, we see that there is no conflict related data for 2008."
      ]
    },
    {
      "metadata": {
        "id": "g_r0U4j9NDgv",
        "colab_type": "code",
        "colab": {
          "base_uri": "https://localhost:8080/",
          "height": 402
        },
        "outputId": "b47581d6-fa24-4192-ffd9-1f0ddfbcd74c"
      },
      "cell_type": "code",
      "source": [
        "displacements.groupby('Year')['Conflict New Displacements'].sum().sort_index().reset_index().plot.bar(x='Year')"
      ],
      "execution_count": 19,
      "outputs": [
        {
          "output_type": "execute_result",
          "data": {
            "text/plain": [
              "<matplotlib.axes._subplots.AxesSubplot at 0x7f4278718c18>"
            ]
          },
          "metadata": {
            "tags": []
          },
          "execution_count": 19
        },
        {
          "output_type": "display_data",
          "data": {
            "image/png": "[encoded data removed]",
            "text/plain": [
              "<matplotlib.figure.Figure at 0x7f42787526d8>"
            ]
          },
          "metadata": {
            "tags": []
          }
        }
      ]
    },
    {
      "metadata": {
        "id": "nb0LEmw8sWeX",
        "colab_type": "text"
      },
      "cell_type": "markdown",
      "source": [
        "We do see new displacements for all years related to disasters:"
      ]
    },
    {
      "metadata": {
        "id": "7WmAhwqDM9ts",
        "colab_type": "code",
        "colab": {
          "base_uri": "https://localhost:8080/",
          "height": 402
        },
        "outputId": "3649fa9c-e5cc-467c-b3c3-6b532b73f9d4"
      },
      "cell_type": "code",
      "source": [
        "displacements.groupby('Year')['Disaster New Displacements'].sum().sort_index().reset_index().plot.bar(x='Year')"
      ],
      "execution_count": 20,
      "outputs": [
        {
          "output_type": "execute_result",
          "data": {
            "text/plain": [
              "<matplotlib.axes._subplots.AxesSubplot at 0x7f42788acb00>"
            ]
          },
          "metadata": {
            "tags": []
          },
          "execution_count": 20
        },
        {
          "output_type": "display_data",
          "data": {
            "image/png": "[encoded data removed]",
            "text/plain": [
              "<matplotlib.figure.Figure at 0x7f427862ed68>"
            ]
          },
          "metadata": {
            "tags": []
          }
        }
      ]
    },
    {
      "metadata": {
        "id": "EhQFyw5ofNqG",
        "colab_type": "text"
      },
      "cell_type": "markdown",
      "source": [
        "# World Bank data"
      ]
    },
    {
      "metadata": {
        "id": "1J1sH1k-fMv8",
        "colab_type": "code",
        "colab": {
          "base_uri": "https://localhost:8080/",
          "height": 384
        },
        "outputId": "83e74487-4bc0-4734-af68-7aa3c164a824"
      },
      "cell_type": "code",
      "source": [
        "!pip install pandas-datareader"
      ],
      "execution_count": 22,
      "outputs": [
        {
          "output_type": "stream",
          "text": [
            "Collecting pandas-datareader\n",
            "\u001b[?25l  Downloading https://files.pythonhosted.org/packages/cc/5c/ea5b6dcfd0f55c5fb1e37fb45335ec01cceca199b8a79339137f5ed269e0/pandas_datareader-0.7.0-py2.py3-none-any.whl (111kB)\n",
            "\u001b[K    100% |████████████████████████████████| 112kB 2.5MB/s \n",
            "\u001b[?25hRequirement already satisfied: pandas>=0.19.2 in /usr/local/lib/python3.6/dist-packages (from pandas-datareader) (0.22.0)\n",
            "Requirement already satisfied: wrapt in /usr/local/lib/python3.6/dist-packages (from pandas-datareader) (1.10.11)\n",
            "Collecting lxml (from pandas-datareader)\n",
            "\u001b[?25l  Downloading https://files.pythonhosted.org/packages/03/a4/9eea8035fc7c7670e5eab97f34ff2ef0ddd78a491bf96df5accedb0e63f5/lxml-4.2.5-cp36-cp36m-manylinux1_x86_64.whl (5.8MB)\n",
            "\u001b[K    100% |████████████████████████████████| 5.8MB 5.0MB/s \n",
            "\u001b[?25hRequirement already satisfied: requests>=2.3.0 in /usr/local/lib/python3.6/dist-packages (from pandas-datareader) (2.18.4)\n",
            "Requirement already satisfied: python-dateutil>=2 in /usr/local/lib/python3.6/dist-packages (from pandas>=0.19.2->pandas-datareader) (2.5.3)\n",
            "Requirement already satisfied: numpy>=1.9.0 in /usr/local/lib/python3.6/dist-packages (from pandas>=0.19.2->pandas-datareader) (1.14.6)\n",
            "Requirement already satisfied: pytz>=2011k in /usr/local/lib/python3.6/dist-packages (from pandas>=0.19.2->pandas-datareader) (2018.5)\n",
            "Requirement already satisfied: urllib3<1.23,>=1.21.1 in /usr/local/lib/python3.6/dist-packages (from requests>=2.3.0->pandas-datareader) (1.22)\n",
            "Requirement already satisfied: certifi>=2017.4.17 in /usr/local/lib/python3.6/dist-packages (from requests>=2.3.0->pandas-datareader) (2018.8.24)\n",
            "Requirement already satisfied: chardet<3.1.0,>=3.0.2 in /usr/local/lib/python3.6/dist-packages (from requests>=2.3.0->pandas-datareader) (3.0.4)\n",
            "Requirement already satisfied: idna<2.7,>=2.5 in /usr/local/lib/python3.6/dist-packages (from requests>=2.3.0->pandas-datareader) (2.6)\n",
            "Requirement already satisfied: six>=1.5 in /usr/local/lib/python3.6/dist-packages (from python-dateutil>=2->pandas>=0.19.2->pandas-datareader) (1.11.0)\n",
            "Installing collected packages: lxml, pandas-datareader\n",
            "Successfully installed lxml-4.2.5 pandas-datareader-0.7.0\n"
          ],
          "name": "stdout"
        }
      ]
    },
    {
      "metadata": {
        "id": "STbtYG4UfUG8",
        "colab_type": "code",
        "colab": {}
      },
      "cell_type": "code",
      "source": [
        "from pandas_datareader import wb"
      ],
      "execution_count": 0,
      "outputs": []
    },
    {
      "metadata": {
        "id": "nHFaJz4XshzU",
        "colab_type": "text"
      },
      "cell_type": "markdown",
      "source": [
        "Check countries data that is available in the World Bank API:"
      ]
    },
    {
      "metadata": {
        "id": "nnyO9_hGx5bI",
        "colab_type": "code",
        "colab": {
          "base_uri": "https://localhost:8080/",
          "height": 324
        },
        "outputId": "7e557875-2e1e-4387-e0a1-b8f8869dab0b"
      },
      "cell_type": "code",
      "source": [
        "countries = wb.get_countries()\n",
        "print(\"number of countries:\", len(countries))\n",
        "countries.head()"
      ],
      "execution_count": 24,
      "outputs": [
        {
          "output_type": "stream",
          "text": [
            "number of countries: 304\n"
          ],
          "name": "stdout"
        },
        {
          "output_type": "execute_result",
          "data": {
            "text/html": [
              "<div>\n",
              "<style scoped>\n",
              "    .dataframe tbody tr th:only-of-type {\n",
              "        vertical-align: middle;\n",
              "    }\n",
              "\n",
              "    .dataframe tbody tr th {\n",
              "        vertical-align: top;\n",
              "    }\n",
              "\n",
              "    .dataframe thead th {\n",
              "        text-align: right;\n",
              "    }\n",
              "</style>\n",
              "<table border=\"1\" class=\"dataframe\">\n",
              "  <thead>\n",
              "    <tr style=\"text-align: right;\">\n",
              "      <th></th>\n",
              "      <th>adminregion</th>\n",
              "      <th>capitalCity</th>\n",
              "      <th>iso3c</th>\n",
              "      <th>incomeLevel</th>\n",
              "      <th>iso2c</th>\n",
              "      <th>latitude</th>\n",
              "      <th>lendingType</th>\n",
              "      <th>longitude</th>\n",
              "      <th>name</th>\n",
              "      <th>region</th>\n",
              "    </tr>\n",
              "  </thead>\n",
              "  <tbody>\n",
              "    <tr>\n",
              "      <th>0</th>\n",
              "      <td></td>\n",
              "      <td>Oranjestad</td>\n",
              "      <td>ABW</td>\n",
              "      <td>High income</td>\n",
              "      <td>AW</td>\n",
              "      <td>12.52</td>\n",
              "      <td>Not classified</td>\n",
              "      <td>-70.02</td>\n",
              "      <td>Aruba</td>\n",
              "      <td>Latin America &amp; Caribbean</td>\n",
              "    </tr>\n",
              "    <tr>\n",
              "      <th>1</th>\n",
              "      <td>South Asia</td>\n",
              "      <td>Kabul</td>\n",
              "      <td>AFG</td>\n",
              "      <td>Low income</td>\n",
              "      <td>AF</td>\n",
              "      <td>34.52</td>\n",
              "      <td>IDA</td>\n",
              "      <td>69.18</td>\n",
              "      <td>Afghanistan</td>\n",
              "      <td>South Asia</td>\n",
              "    </tr>\n",
              "    <tr>\n",
              "      <th>2</th>\n",
              "      <td></td>\n",
              "      <td></td>\n",
              "      <td>AFR</td>\n",
              "      <td>Aggregates</td>\n",
              "      <td>A9</td>\n",
              "      <td>nan</td>\n",
              "      <td>Aggregates</td>\n",
              "      <td>nan</td>\n",
              "      <td>Africa</td>\n",
              "      <td>Aggregates</td>\n",
              "    </tr>\n",
              "    <tr>\n",
              "      <th>3</th>\n",
              "      <td>Sub-Saharan Africa (excluding high income)</td>\n",
              "      <td>Luanda</td>\n",
              "      <td>AGO</td>\n",
              "      <td>Lower middle income</td>\n",
              "      <td>AO</td>\n",
              "      <td>-8.81</td>\n",
              "      <td>IBRD</td>\n",
              "      <td>13.24</td>\n",
              "      <td>Angola</td>\n",
              "      <td>Sub-Saharan Africa</td>\n",
              "    </tr>\n",
              "    <tr>\n",
              "      <th>4</th>\n",
              "      <td>Europe &amp; Central Asia (excluding high income)</td>\n",
              "      <td>Tirane</td>\n",
              "      <td>ALB</td>\n",
              "      <td>Upper middle income</td>\n",
              "      <td>AL</td>\n",
              "      <td>41.33</td>\n",
              "      <td>IBRD</td>\n",
              "      <td>19.82</td>\n",
              "      <td>Albania</td>\n",
              "      <td>Europe &amp; Central Asia</td>\n",
              "    </tr>\n",
              "  </tbody>\n",
              "</table>\n",
              "</div>"
            ],
            "text/plain": [
              "                                     adminregion capitalCity iso3c  \\\n",
              "0                                                 Oranjestad   ABW   \n",
              "1                                     South Asia       Kabul   AFG   \n",
              "2                                                              AFR   \n",
              "3     Sub-Saharan Africa (excluding high income)      Luanda   AGO   \n",
              "4  Europe & Central Asia (excluding high income)      Tirane   ALB   \n",
              "\n",
              "           incomeLevel iso2c  latitude     lendingType  longitude  \\\n",
              "0          High income    AW     12.52  Not classified     -70.02   \n",
              "1           Low income    AF     34.52             IDA      69.18   \n",
              "2           Aggregates    A9       nan      Aggregates        nan   \n",
              "3  Lower middle income    AO     -8.81            IBRD      13.24   \n",
              "4  Upper middle income    AL     41.33            IBRD      19.82   \n",
              "\n",
              "          name                      region  \n",
              "0        Aruba  Latin America & Caribbean   \n",
              "1  Afghanistan                  South Asia  \n",
              "2       Africa                  Aggregates  \n",
              "3       Angola         Sub-Saharan Africa   \n",
              "4      Albania       Europe & Central Asia  "
            ]
          },
          "metadata": {
            "tags": []
          },
          "execution_count": 24
        }
      ]
    },
    {
      "metadata": {
        "id": "BizFUvrssnK5",
        "colab_type": "text"
      },
      "cell_type": "markdown",
      "source": [
        "Check the list of indicators that are available in the World Bank API:"
      ]
    },
    {
      "metadata": {
        "id": "sdpWO_YgxrDV",
        "colab_type": "code",
        "colab": {
          "base_uri": "https://localhost:8080/",
          "height": 392
        },
        "outputId": "4f6fae4f-13e5-485c-e5b6-2ba3a5448f33"
      },
      "cell_type": "code",
      "source": [
        "indicators = wb.get_indicators()\n",
        "print(\"number of indicators:\", len(indicators))\n",
        "indicators.head()"
      ],
      "execution_count": 48,
      "outputs": [
        {
          "output_type": "stream",
          "text": [
            "number of indicators: 16712\n"
          ],
          "name": "stdout"
        },
        {
          "output_type": "execute_result",
          "data": {
            "text/html": [
              "<div>\n",
              "<style scoped>\n",
              "    .dataframe tbody tr th:only-of-type {\n",
              "        vertical-align: middle;\n",
              "    }\n",
              "\n",
              "    .dataframe tbody tr th {\n",
              "        vertical-align: top;\n",
              "    }\n",
              "\n",
              "    .dataframe thead th {\n",
              "        text-align: right;\n",
              "    }\n",
              "</style>\n",
              "<table border=\"1\" class=\"dataframe\">\n",
              "  <thead>\n",
              "    <tr style=\"text-align: right;\">\n",
              "      <th></th>\n",
              "      <th>id</th>\n",
              "      <th>name</th>\n",
              "      <th>source</th>\n",
              "      <th>sourceNote</th>\n",
              "      <th>sourceOrganization</th>\n",
              "      <th>topics</th>\n",
              "      <th>unit</th>\n",
              "    </tr>\n",
              "  </thead>\n",
              "  <tbody>\n",
              "    <tr>\n",
              "      <th>0</th>\n",
              "      <td>1.0.HCount.1.90usd</td>\n",
              "      <td>Poverty Headcount ($1.90 a day)</td>\n",
              "      <td>LAC Equity Lab</td>\n",
              "      <td>The poverty headcount index measures the propo...</td>\n",
              "      <td>b'LAC Equity Lab tabulations of SEDLAC (CEDLAS...</td>\n",
              "      <td>Poverty</td>\n",
              "      <td></td>\n",
              "    </tr>\n",
              "    <tr>\n",
              "      <th>1</th>\n",
              "      <td>1.0.HCount.2.5usd</td>\n",
              "      <td>Poverty Headcount ($2.50 a day)</td>\n",
              "      <td>LAC Equity Lab</td>\n",
              "      <td>The poverty headcount index measures the propo...</td>\n",
              "      <td>b'LAC Equity Lab tabulations of SEDLAC (CEDLAS...</td>\n",
              "      <td>Poverty</td>\n",
              "      <td></td>\n",
              "    </tr>\n",
              "    <tr>\n",
              "      <th>2</th>\n",
              "      <td>1.0.HCount.Mid10to50</td>\n",
              "      <td>Middle Class ($10-50 a day) Headcount</td>\n",
              "      <td>LAC Equity Lab</td>\n",
              "      <td>The poverty headcount index measures the propo...</td>\n",
              "      <td>b'LAC Equity Lab tabulations of SEDLAC (CEDLAS...</td>\n",
              "      <td>Poverty</td>\n",
              "      <td></td>\n",
              "    </tr>\n",
              "    <tr>\n",
              "      <th>3</th>\n",
              "      <td>1.0.HCount.Ofcl</td>\n",
              "      <td>Official Moderate Poverty Rate-National</td>\n",
              "      <td>LAC Equity Lab</td>\n",
              "      <td>The poverty headcount index measures the propo...</td>\n",
              "      <td>b'LAC Equity Lab tabulations of data from Nati...</td>\n",
              "      <td>Poverty</td>\n",
              "      <td></td>\n",
              "    </tr>\n",
              "    <tr>\n",
              "      <th>4</th>\n",
              "      <td>1.0.HCount.Poor4uds</td>\n",
              "      <td>Poverty Headcount ($4 a day)</td>\n",
              "      <td>LAC Equity Lab</td>\n",
              "      <td>The poverty headcount index measures the propo...</td>\n",
              "      <td>b'LAC Equity Lab tabulations of SEDLAC (CEDLAS...</td>\n",
              "      <td>Poverty</td>\n",
              "      <td></td>\n",
              "    </tr>\n",
              "  </tbody>\n",
              "</table>\n",
              "</div>"
            ],
            "text/plain": [
              "                     id                                     name  \\\n",
              "0    1.0.HCount.1.90usd          Poverty Headcount ($1.90 a day)   \n",
              "1     1.0.HCount.2.5usd          Poverty Headcount ($2.50 a day)   \n",
              "2  1.0.HCount.Mid10to50    Middle Class ($10-50 a day) Headcount   \n",
              "3       1.0.HCount.Ofcl  Official Moderate Poverty Rate-National   \n",
              "4   1.0.HCount.Poor4uds             Poverty Headcount ($4 a day)   \n",
              "\n",
              "           source                                         sourceNote  \\\n",
              "0  LAC Equity Lab  The poverty headcount index measures the propo...   \n",
              "1  LAC Equity Lab  The poverty headcount index measures the propo...   \n",
              "2  LAC Equity Lab  The poverty headcount index measures the propo...   \n",
              "3  LAC Equity Lab  The poverty headcount index measures the propo...   \n",
              "4  LAC Equity Lab  The poverty headcount index measures the propo...   \n",
              "\n",
              "                                  sourceOrganization    topics unit  \n",
              "0  b'LAC Equity Lab tabulations of SEDLAC (CEDLAS...  Poverty        \n",
              "1  b'LAC Equity Lab tabulations of SEDLAC (CEDLAS...  Poverty        \n",
              "2  b'LAC Equity Lab tabulations of SEDLAC (CEDLAS...  Poverty        \n",
              "3  b'LAC Equity Lab tabulations of data from Nati...  Poverty        \n",
              "4  b'LAC Equity Lab tabulations of SEDLAC (CEDLAS...  Poverty        "
            ]
          },
          "metadata": {
            "tags": []
          },
          "execution_count": 48
        }
      ]
    },
    {
      "metadata": {
        "id": "OuvbdEWRyHcv",
        "colab_type": "code",
        "colab": {
          "base_uri": "https://localhost:8080/",
          "height": 401
        },
        "outputId": "66e59f9f-777b-4d49-96f0-ba4de22143f8"
      },
      "cell_type": "code",
      "source": [
        "indicators.topics.value_counts().head(20)"
      ],
      "execution_count": 26,
      "outputs": [
        {
          "output_type": "execute_result",
          "data": {
            "text/plain": [
              "                                      9892\n",
              "Social Protection & Labor             3201\n",
              "Education                             1404\n",
              "Health                                 537\n",
              "Economy & Growth                       200\n",
              "External Debt                          198\n",
              "Financial Sector                       162\n",
              "Poverty                                129\n",
              "Gender                                 122\n",
              "Private Sector ; Trade                 103\n",
              "Public Sector                           78\n",
              "Education  ; Gender                     65\n",
              "Aid Effectiveness                       53\n",
              "Infrastructure                          45\n",
              "Private Sector                          42\n",
              "Social Protection & Labor ; Gender      36\n",
              "Climate Change ; Environment            29\n",
              "Health  ; Gender                        28\n",
              "Millenium development goals             26\n",
              "Economy & Growth ; Trade                26\n",
              "Name: topics, dtype: int64"
            ]
          },
          "metadata": {
            "tags": []
          },
          "execution_count": 26
        }
      ]
    }
  ]
}